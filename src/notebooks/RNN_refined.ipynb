{
  "cells": [
    {
      "cell_type": "markdown",
      "metadata": {
        "id": "k2tWEFaEoqdw"
      },
      "source": [
        "# Imports"
      ]
    },
    {
      "cell_type": "code",
      "execution_count": 1,
      "metadata": {
        "id": "ou3cy7oXnlOJ"
      },
      "outputs": [],
      "source": [
        "import pandas as pd\n",
        "import tensorflow as tf\n",
        "from sklearn.metrics import f1_score\n",
        "from sklearn.metrics import classification_report\n",
        "#'''\n",
        "from tensorflow.keras.preprocessing.text import Tokenizer\n",
        "from tensorflow.keras.preprocessing.sequence import pad_sequences\n",
        "from tensorflow.keras.optimizers import Adam\n",
        "from tensorflow.keras.models import Sequential\n",
        "from tensorflow.keras.layers import Embedding, Dense, LSTM, Bidirectional\n",
        "from tensorflow.keras.layers import SpatialDropout1D\n",
        "from tensorflow.keras.callbacks import EarlyStopping\n",
        "#'''\n",
        "from sklearn.metrics import classification_report, confusion_matrix\n",
        "from sklearn.metrics import f1_score"
      ]
    },
    {
      "cell_type": "code",
      "source": [
        "from google.colab import drive\n",
        "drive.mount('/content/drive')"
      ],
      "metadata": {
        "colab": {
          "base_uri": "https://localhost:8080/"
        },
        "id": "UZpkfBysjzoD",
        "outputId": "7aae5975-4215-41c4-ea0c-625ab4868283"
      },
      "execution_count": 2,
      "outputs": [
        {
          "output_type": "stream",
          "name": "stdout",
          "text": [
            "Mounted at /content/drive\n"
          ]
        }
      ]
    },
    {
      "cell_type": "code",
      "source": [
        "cd drive/MyDrive/SIAP/dataset/clean"
      ],
      "metadata": {
        "colab": {
          "base_uri": "https://localhost:8080/"
        },
        "id": "wxVZx57Aj0lH",
        "outputId": "5e52ca12-fc87-4050-c437-c913b85f9c96"
      },
      "execution_count": 3,
      "outputs": [
        {
          "output_type": "stream",
          "name": "stdout",
          "text": [
            "/content/drive/MyDrive/SIAP/dataset/clean\n"
          ]
        }
      ]
    },
    {
      "cell_type": "markdown",
      "metadata": {
        "id": "LjsQgWhWoJtJ"
      },
      "source": [
        "# Datasets"
      ]
    },
    {
      "cell_type": "code",
      "execution_count": 4,
      "metadata": {
        "id": "taFEHGtTnojw"
      },
      "outputs": [],
      "source": [
        "df_train = pd.read_csv('train_clean_removed_emoticons.csv')\n",
        "df_validation = pd.read_csv('validation_clean_removed_emoticons.csv')\n",
        "\n",
        "X_train = df_train['Review Text']\n",
        "y_train = df_train['Rating']\n",
        "X_validation = df_validation['Review Text']\n",
        "y_validation = df_validation['Rating']"
      ]
    },
    {
      "cell_type": "markdown",
      "metadata": {
        "id": "fiYIeAOYojk7"
      },
      "source": [
        "# Lematization"
      ]
    },
    {
      "cell_type": "code",
      "execution_count": 5,
      "metadata": {
        "id": "yujvXOPbn5U_",
        "colab": {
          "base_uri": "https://localhost:8080/"
        },
        "outputId": "17abeb0b-b6d1-44c8-df9b-6ae0d530349c"
      },
      "outputs": [
        {
          "output_type": "stream",
          "name": "stdout",
          "text": [
            "[nltk_data] Downloading package stopwords to /root/nltk_data...\n",
            "[nltk_data]   Unzipping corpora/stopwords.zip.\n"
          ]
        }
      ],
      "source": [
        "import nltk\n",
        "nltk.download('stopwords')\n",
        "from nltk.corpus import stopwords\n",
        "from nltk.stem.lancaster import LancasterStemmer\n",
        "from nltk.stem.porter import PorterStemmer\n",
        "from nltk.tokenize import RegexpTokenizer\n",
        "#ps = LancasterStemmer()\n",
        "ps = PorterStemmer()\n",
        "\n",
        "tokenizer = RegexpTokenizer(r'\\w+')\n",
        "stop_words = set(stopwords.words('english'))\n",
        "# Removing unessessary words that have no meaning (concluded experimentally)\n",
        "stop_words.add('dress')\n",
        "stop_words.add('petite')\n",
        "stop_words.add('jacket')\n",
        "stop_words.add('blazer')\n",
        "\n",
        "def remove_stopwords(data):\n",
        "    output_array=[]\n",
        "    for sentence in data:\n",
        "        temp_list=[]\n",
        "        for word in sentence.split():\n",
        "            if word.lower() not in stop_words:\n",
        "                temp_list.append(word)\n",
        "        output_array.append(' '.join(temp_list))\n",
        "    return output_array\n",
        "\n",
        "def preprocessing(data):\n",
        "    #txt = data.str.lower().str.cat(sep=' ') #1\n",
        "    words = tokenizer.tokenize(data) #2\n",
        "    # words = [w for w in words if not w in stop_words] #3\n",
        "    words = remove_stopwords(words)\n",
        "    #words = [ps.stem(w) for w in words] #4 steming acctualy gives worse results when added #4\n",
        "    return [w for w in words if len(w) > 1]"
      ]
    },
    {
      "cell_type": "markdown",
      "metadata": {
        "id": "tewXT_LgXX4o"
      },
      "source": [
        "# Data preprocessing"
      ]
    },
    {
      "cell_type": "code",
      "execution_count": 6,
      "metadata": {
        "id": "RG2HR-NP_KWo"
      },
      "outputs": [],
      "source": [
        "import re\n",
        "REPLACE_BY_SPACE_RE = re.compile('[/(){}\\[\\]\\|@,;]')\n",
        "BAD_SYMBOLS_RE = re.compile('[^0-9a-z #+_]')\n",
        "STOPWORDS = set(stopwords.words('english'))\n",
        "\n",
        "\n",
        "def clean_text(text):\n",
        "    \"\"\"\n",
        "        text: a string\n",
        "        return: modified initial string\n",
        "    \"\"\"\n",
        "    text = text.lower() # lowercase text\n",
        "    text = REPLACE_BY_SPACE_RE.sub(' ', text) # replace REPLACE_BY_SPACE_RE symbols by space in text. substitute the matched string in REPLACE_BY_SPACE_RE with space.\n",
        "    text = BAD_SYMBOLS_RE.sub('', text) # remove symbols which are in BAD_SYMBOLS_RE from text. substitute the matched string in BAD_SYMBOLS_RE with nothing. \n",
        "    text = text.replace('x', '')\n",
        "    #text = re.sub(r'\\W+', '', text)\n",
        "    text = ' '.join(word for word in text.split() if word not in STOPWORDS) # remove stopwors from text\n",
        "    return text\n",
        "\n",
        "\n",
        "def pipeline(text):\n",
        "    text = clean_text(text)\n",
        "    text = preprocessing(text)\n",
        "    return text\n",
        "\n",
        "df_train['Cleaned_Review_Text'] = df_train['Review Text'].apply(pipeline)\n",
        "df_validation['Cleaned_Review_Text'] = df_validation['Review Text'].apply(pipeline)\n",
        "\n",
        "sentences_training = list(df_train['Cleaned_Review_Text'].values)\n",
        "sentences_validation = list(df_validation['Cleaned_Review_Text'].values)"
      ]
    },
    {
      "cell_type": "code",
      "execution_count": 7,
      "metadata": {
        "id": "I8HX9wddhRaA",
        "colab": {
          "base_uri": "https://localhost:8080/"
        },
        "outputId": "5a72e853-6f7d-4b64-c8d2-d163d44eca2c"
      },
      "outputs": [
        {
          "output_type": "stream",
          "name": "stdout",
          "text": [
            "0\n",
            "Beautiful dress. good quality. tts. i'm 5 feet 120 lbs. ordered my small petite. no issues. however, the green is very bright. the deal killer for me was when my hub said it looked like a starbucks barista's apron! it's going back. i marked yes if you plan on purchasing a black dress it's a yes.\n",
            "['beautiful', 'good', 'quality', 'tts', 'im', 'feet', '120', 'lbs', 'ordered', 'small', 'issues', 'however', 'green', 'bright', 'deal', 'killer', 'hub', 'said', 'looked', 'like', 'starbucks', 'baristas', 'apron', 'going', 'back', 'marked', 'yes', 'plan', 'purchasing', 'black', 'yes']\n",
            "1\n",
            "These pants are so great. i am 5'10 and the talls are actually a hair too long. but no complaints! just wish they made every color available in tall. i had been waiting for new colors to get a second pair and was disappointed they are only offered in regular length. but overall these pants are super comfortable and great for work. as far as sizing goes, i wear a 29 in the pilcro cord leggings and wear a 12 in these.\n",
            "['pants', 'great', '510', 'talls', 'actually', 'hair', 'long', 'complaints', 'wish', 'made', 'every', 'color', 'available', 'tall', 'waiting', 'new', 'colors', 'get', 'second', 'pair', 'disappointed', 'offered', 'regular', 'length', 'overall', 'pants', 'super', 'comfortable', 'great', 'work', 'far', 'sizing', 'goes', 'wear', '29', 'pilcro', 'cord', 'leggings', 'wear', '12']\n",
            "2\n",
            "I bought a size s in the navy, and m in the neutral, and both fit. i usually wear a small, but they only had the size m left in the neutral. the m is a little big, but the extra room fits the flowy, bohemian style of the blouse, so it works. i love this top and am glad i purchased it in both colors. definitely recommend it.\n",
            "['bought', 'size', 'navy', 'neutral', 'fit', 'usually', 'wear', 'small', 'size', 'left', 'neutral', 'little', 'big', 'etra', 'room', 'fits', 'flowy', 'bohemian', 'style', 'blouse', 'works', 'love', 'top', 'glad', 'purchased', 'colors', 'definitely', 'recommend']\n",
            "3\n",
            "Loved this shirt but it runs pretty big. i'm normally a sm/med due to bust size (34ddd) and ordered a small based on other reviews. could have gotten an x-small. debating going to exchange. i ordered it in three colors bc it was on sale. better quality than some at retailer.\n",
            "['loved', 'shirt', 'runs', 'pretty', 'big', 'im', 'normally', 'sm', 'med', 'due', 'bust', 'size', '34ddd', 'ordered', 'small', 'based', 'reviews', 'could', 'gotten', 'small', 'debating', 'going', 'echange', 'ordered', 'three', 'colors', 'bc', 'sale', 'better', 'quality', 'retailer']\n",
            "4\n",
            "I love this dress! i was trying on some dresses in the store and the sales girl put this one in just for fun. i would have never picked this dress out. i didn't look awesome on the hanger. but i tried it on anyway and i ended up getting two other dresses at that time. but i couldn't stop thinking about how much i loved the way i looked and felt in this dress. so i did what any girl would do and bought it online. it took me a while to find it online because the picture on line doesn't do the dres\n",
            "['love', 'trying', 'dresses', 'store', 'sales', 'girl', 'put', 'one', 'fun', 'would', 'never', 'picked', 'didnt', 'look', 'awesome', 'hanger', 'tried', 'anyway', 'ended', 'getting', 'two', 'dresses', 'time', 'couldnt', 'stop', 'thinking', 'much', 'loved', 'way', 'looked', 'felt', 'girl', 'would', 'bought', 'online', 'took', 'find', 'online', 'picture', 'line', 'doesnt', 'dres']\n"
          ]
        }
      ],
      "source": [
        "limit = 3\n",
        "for i, row in df_train.iterrows():\n",
        "    print(i)\n",
        "    print(row['Review Text'])\n",
        "    print(sentences_training[i])\n",
        "\n",
        "    if i > limit:\n",
        "        break"
      ]
    },
    {
      "cell_type": "markdown",
      "metadata": {
        "id": "n1t2R5KuYIZx"
      },
      "source": [
        "# Hyper parameters\n"
      ]
    },
    {
      "cell_type": "code",
      "execution_count": 8,
      "metadata": {
        "id": "kmceCg6XYLFh"
      },
      "outputs": [],
      "source": [
        "#Hyper parameters\n",
        "\n",
        "vocab_size = 10000\n",
        "embedding_dim = 50\n",
        "max_length = 150\n",
        "trunc_type='post'\n",
        "padding_type='post'\n",
        "oov_tok = \"<OOV>\"\n",
        "#training_size = 18000"
      ]
    },
    {
      "cell_type": "markdown",
      "metadata": {
        "id": "4kXCvofNYzY7"
      },
      "source": [
        "# Data Frame preparation"
      ]
    },
    {
      "cell_type": "code",
      "execution_count": 9,
      "metadata": {
        "id": "czssEj1oY3KS"
      },
      "outputs": [],
      "source": [
        "training_labels = df_train['Rating'].values.tolist()\n",
        "validation_labels = df_validation['Rating'].values.tolist()"
      ]
    },
    {
      "cell_type": "markdown",
      "metadata": {
        "id": "ScXKfBIOXeSy"
      },
      "source": [
        "# Tokenization"
      ]
    },
    {
      "cell_type": "code",
      "execution_count": 10,
      "metadata": {
        "id": "BxUm4kLCXhi-"
      },
      "outputs": [],
      "source": [
        "tokenizer = Tokenizer(num_words=vocab_size, oov_token=oov_tok)\n",
        "tokenizer.fit_on_texts(sentences_training)\n",
        "\n",
        "word_index = tokenizer.word_index\n",
        "\n",
        "training_sequences = tokenizer.texts_to_sequences(sentences_training)\n",
        "training_padded = pad_sequences(training_sequences, maxlen=max_length, padding=padding_type, truncating=trunc_type)\n",
        "\n",
        "validation_sequences = tokenizer.texts_to_sequences(sentences_validation)\n",
        "validation_padded = pad_sequences(validation_sequences, maxlen=max_length, padding=padding_type, truncating=trunc_type)"
      ]
    },
    {
      "cell_type": "code",
      "execution_count": 11,
      "metadata": {
        "id": "USJv_E0yZUvr"
      },
      "outputs": [],
      "source": [
        "import numpy as np\n",
        "training_padded = np.array(training_padded)\n",
        "training_labels = np.array(training_labels)\n",
        "validation_padded = np.array(validation_padded)\n",
        "validation_labels = np.array(validation_labels)"
      ]
    },
    {
      "cell_type": "markdown",
      "metadata": {
        "id": "oPU8z7FLtwnV"
      },
      "source": [
        "# Model construction"
      ]
    },
    {
      "cell_type": "code",
      "execution_count": 12,
      "metadata": {
        "id": "ZE4Q8L-gkQ-D"
      },
      "outputs": [],
      "source": [
        "from keras import backend as K\n",
        "tf.config.run_functions_eagerly(True)\n",
        "\n",
        "\n",
        "def f1(y_true, y_pred):\n",
        "    def recall(y_true, y_pred):\n",
        "        \"\"\"Recall metric.\n",
        "\n",
        "        Only computes a batch-wise average of recall.\n",
        "\n",
        "        Computes the recall, a metric for multi-label classification of\n",
        "        how many relevant items are selected.\n",
        "        \"\"\"\n",
        "        true_positives = K.sum(K.round(K.clip(y_true * y_pred, 0, 1)))\n",
        "        possible_positives = K.sum(K.round(K.clip(y_true, 0, 1)))\n",
        "        recall = true_positives / (possible_positives + K.epsilon())\n",
        "        return recall\n",
        "\n",
        "    def precision(y_true, y_pred):\n",
        "        \"\"\"Precision metric.\n",
        "\n",
        "        Only computes a batch-wise average of precision.\n",
        "\n",
        "        Computes the precision, a metric for multi-label classification of\n",
        "        how many selected items are relevant.\n",
        "        \"\"\"\n",
        "        true_positives = K.sum(K.round(K.clip(y_true * y_pred, 0, 1)))\n",
        "        predicted_positives = K.sum(K.round(K.clip(y_pred, 0, 1)))\n",
        "        precision = true_positives / (predicted_positives + K.epsilon())\n",
        "        return precision\n",
        "    precision = precision(y_true, y_pred)\n",
        "    recall = recall(y_true, y_pred)\n",
        "    return 2*((precision*recall)/(precision+recall+K.epsilon()))\n",
        "\n",
        "def f1_modified(y_true, y_pred):\n",
        "    y_true_final = np.argmax(y_true, axis=1).tolist()\n",
        "    y_pred_final = np.argmax(y_pred, axis=1).tolist()\n",
        " \n",
        "    return f1_score(y_true_final, y_pred_final, average=\"micro\")"
      ]
    },
    {
      "cell_type": "code",
      "execution_count": 13,
      "metadata": {
        "id": "glfB7qmwZobO"
      },
      "outputs": [],
      "source": [
        "from tensorflow.keras.utils import to_categorical\n",
        "\n",
        "model = tf.keras.Sequential([\n",
        "    tf.keras.layers.Embedding(vocab_size, embedding_dim, input_length=max_length),\n",
        "    #tf.keras.layers.GlobalAveragePooling1D(),\n",
        "    #tf.keras.layers.Bidirectional(LSTM(16, return_sequences=True)),\n",
        "    tf.keras.layers.Bidirectional(LSTM(16)),\n",
        "    #tf.keras.layers.Dropout(0.2),\n",
        "    #tf.keras.layers.Dense(16, activation='relu'),\n",
        "    tf.keras.layers.Dropout(0.2),\n",
        "    tf.keras.layers.Dense(len(list(set(training_labels))), activation=\"softmax\")\n",
        "])\n",
        "\n",
        "model.compile(loss='categorical_crossentropy', optimizer=Adam(learning_rate=0.0001), metrics=[f1_modified])"
      ]
    },
    {
      "cell_type": "code",
      "execution_count": 14,
      "metadata": {
        "id": "X6VnoeaEhRbX"
      },
      "outputs": [],
      "source": [
        "def my_to_categorical(y):\n",
        "    new_list = []\n",
        "    for i, e in enumerate(y):\n",
        "        if e == 1:\n",
        "            new_list.append(np.array([1., 0., 0., 0., 0.]))\n",
        "        elif e == 2:\n",
        "            new_list.append(np.array([0., 1., 0., 0., 0.]))\n",
        "        elif e == 3:\n",
        "            new_list.append(np.array([0., 0., 1., 0., 0.]))\n",
        "        elif e == 4:\n",
        "            new_list.append(np.array([0., 0., 0., 1., 0.]))\n",
        "        elif e == 5:\n",
        "            new_list.append(np.array([0., 0., 0., 0., 1.]))\n",
        "    return np.array(new_list)"
      ]
    },
    {
      "cell_type": "code",
      "execution_count": 15,
      "metadata": {
        "id": "LAPTFxv3jhng"
      },
      "outputs": [],
      "source": [
        "from copy import deepcopy\n",
        "\n",
        "def transform(labels):\n",
        "    labels = deepcopy(labels) # python passes arguments by reference\n",
        "    for i in range(len(labels)):\n",
        "        labels[i] = labels[i] - 1\n",
        "    return labels\n",
        "\n",
        "def revert_transform(labels):\n",
        "    labels = deepcopy(labels) # python passes arguments by reference\n",
        "    for i in range(len(labels)):\n",
        "        labels[i] = labels[i] + 1\n",
        "    return labels"
      ]
    },
    {
      "cell_type": "code",
      "execution_count": 16,
      "metadata": {
        "id": "mAglH4PNZ1Qb",
        "colab": {
          "base_uri": "https://localhost:8080/"
        },
        "outputId": "ea498a39-d1ee-43c3-bff4-5d7758f48d48"
      },
      "outputs": [
        {
          "output_type": "stream",
          "name": "stdout",
          "text": [
            "Epoch 1/20\n"
          ]
        },
        {
          "output_type": "stream",
          "name": "stderr",
          "text": [
            "/usr/local/lib/python3.7/dist-packages/tensorflow/python/data/ops/structured_function.py:265: UserWarning: Even though the `tf.config.experimental_run_functions_eagerly` option is set, this option does not apply to tf.data functions. To force eager execution of tf.data functions, please use `tf.data.experimental.enable_debug_mode()`.\n",
            "  \"Even though the `tf.config.experimental_run_functions_eagerly` \"\n",
            "/usr/local/lib/python3.7/dist-packages/tensorflow/python/data/ops/structured_function.py:265: UserWarning: Even though the `tf.config.experimental_run_functions_eagerly` option is set, this option does not apply to tf.data functions. To force eager execution of tf.data functions, please use `tf.data.experimental.enable_debug_mode()`.\n",
            "  \"Even though the `tf.config.experimental_run_functions_eagerly` \"\n"
          ]
        },
        {
          "output_type": "stream",
          "name": "stdout",
          "text": [
            "567/567 - 121s - loss: 1.3090 - f1_modified: 0.5428 - val_loss: 1.1699 - val_f1_modified: 0.5516 - 121s/epoch - 214ms/step\n",
            "Epoch 2/20\n",
            "567/567 - 101s - loss: 1.0647 - f1_modified: 0.5617 - val_loss: 1.0111 - val_f1_modified: 0.5661 - 101s/epoch - 178ms/step\n",
            "Epoch 2: early stopping\n"
          ]
        }
      ],
      "source": [
        "num_epochs = 20\n",
        "es = EarlyStopping(monitor='val_f1_modified', mode='max', verbose=2)\n",
        "history = model.fit(training_padded, to_categorical(transform(training_labels)), epochs=num_epochs, validation_data=(validation_padded, to_categorical(transform(validation_labels))), callbacks=[es], verbose=2)"
      ]
    },
    {
      "cell_type": "code",
      "execution_count": 17,
      "metadata": {
        "colab": {
          "base_uri": "https://localhost:8080/"
        },
        "id": "wMiSsjiwjhnh",
        "outputId": "1dfb0ca3-2dc7-4a20-e0c5-a1ef2b5b51ed"
      },
      "outputs": [
        {
          "output_type": "execute_result",
          "data": {
            "text/plain": [
              "array([2, 4, 4])"
            ]
          },
          "metadata": {},
          "execution_count": 17
        }
      ],
      "source": [
        "transform(training_labels[:3])"
      ]
    },
    {
      "cell_type": "code",
      "execution_count": 18,
      "metadata": {
        "colab": {
          "base_uri": "https://localhost:8080/"
        },
        "id": "sgkiGacIjhnh",
        "outputId": "461e981a-8379-4577-b3fa-108d27505e04"
      },
      "outputs": [
        {
          "output_type": "execute_result",
          "data": {
            "text/plain": [
              "array([3, 5, 5])"
            ]
          },
          "metadata": {},
          "execution_count": 18
        }
      ],
      "source": [
        "training_labels[:3]"
      ]
    },
    {
      "cell_type": "markdown",
      "metadata": {
        "id": "FjJXI9swt049"
      },
      "source": [
        "# Evalutaion"
      ]
    },
    {
      "cell_type": "code",
      "execution_count": 19,
      "metadata": {
        "id": "NGIcR5-zGA6P",
        "colab": {
          "base_uri": "https://localhost:8080/"
        },
        "outputId": "33287a59-cdb5-4801-d481-0a30cf9a9eff"
      },
      "outputs": [
        {
          "output_type": "stream",
          "name": "stderr",
          "text": [
            "/usr/local/lib/python3.7/dist-packages/tensorflow/python/data/ops/structured_function.py:265: UserWarning: Even though the `tf.config.experimental_run_functions_eagerly` option is set, this option does not apply to tf.data functions. To force eager execution of tf.data functions, please use `tf.data.experimental.enable_debug_mode()`.\n",
            "  \"Even though the `tf.config.experimental_run_functions_eagerly` \"\n"
          ]
        }
      ],
      "source": [
        "def predict(padded):\n",
        "    prediction = model.predict(padded)\n",
        "    y_pred = np.argmax(prediction, axis=1)\n",
        "    return y_pred\n",
        "\n",
        "y_pred = predict(training_padded)\n",
        "y_pred_validation = predict(validation_padded)"
      ]
    },
    {
      "cell_type": "code",
      "execution_count": 20,
      "metadata": {
        "id": "ipRDl92eqe8S",
        "colab": {
          "base_uri": "https://localhost:8080/"
        },
        "outputId": "7f1812cf-8878-499f-d19a-7ec27ca973bf"
      },
      "outputs": [
        {
          "output_type": "stream",
          "name": "stdout",
          "text": [
            "Training >>> 0.5745044995307238\n",
            "Validation >>> 0.5654288240495137\n"
          ]
        }
      ],
      "source": [
        "print('Training >>>', f1_score(training_labels, revert_transform(y_pred), average=\"micro\"))\n",
        "print('Validation >>>', f1_score(validation_labels, revert_transform(y_pred_validation), average=\"micro\"))"
      ]
    },
    {
      "cell_type": "code",
      "execution_count": 21,
      "metadata": {
        "colab": {
          "base_uri": "https://localhost:8080/"
        },
        "id": "C8sOX0Itjhni",
        "outputId": "01f007c5-96c7-45ab-ff5d-e94f6c0a5ae9"
      },
      "outputs": [
        {
          "output_type": "stream",
          "name": "stdout",
          "text": [
            "Training >>> 0.5541876000662508\n",
            "Validation >>> 0.5508399646330681\n"
          ]
        }
      ],
      "source": [
        "print('Training >>>', f1_score(training_labels, [5]*len(training_labels), average=\"micro\"))\n",
        "print('Validation >>>', f1_score(validation_labels, [5]*len(validation_labels), average=\"micro\"))"
      ]
    },
    {
      "cell_type": "code",
      "execution_count": 22,
      "metadata": {
        "id": "2cUz9HNShRdX"
      },
      "outputs": [],
      "source": [
        "y = training_labels"
      ]
    },
    {
      "cell_type": "markdown",
      "metadata": {
        "id": "PzrLy1TwhRdY"
      },
      "source": [
        "# Analysis"
      ]
    },
    {
      "cell_type": "code",
      "execution_count": 23,
      "metadata": {
        "id": "LbfOy5C8uKVy",
        "colab": {
          "base_uri": "https://localhost:8080/"
        },
        "outputId": "7db74533-6c31-4dd2-ffca-362d7e64aaa4"
      },
      "outputs": [
        {
          "output_type": "stream",
          "name": "stdout",
          "text": [
            "[[   0    0    0  354  303]\n",
            " [   0    0    0  612  625]\n",
            " [   0    0    0  882 1379]\n",
            " [   0    0    0  466 3454]\n",
            " [   0    0    0   98 9940]]\n"
          ]
        }
      ],
      "source": [
        "print(confusion_matrix(y, revert_transform(y_pred)))"
      ]
    },
    {
      "cell_type": "code",
      "execution_count": 24,
      "metadata": {
        "id": "zNWWTj1dvtV_",
        "colab": {
          "base_uri": "https://localhost:8080/"
        },
        "outputId": "e83f2d20-2bd5-41fb-8bff-567b27757f69"
      },
      "outputs": [
        {
          "output_type": "stream",
          "name": "stdout",
          "text": [
            "              precision    recall  f1-score   support\n",
            "\n",
            "           1       0.00      0.00      0.00       657\n",
            "           2       0.00      0.00      0.00      1237\n",
            "           3       0.00      0.00      0.00      2261\n",
            "           4       0.19      0.12      0.15      3920\n",
            "           5       0.63      0.99      0.77     10038\n",
            "\n",
            "    accuracy                           0.57     18113\n",
            "   macro avg       0.17      0.22      0.18     18113\n",
            "weighted avg       0.39      0.57      0.46     18113\n",
            "\n"
          ]
        },
        {
          "output_type": "stream",
          "name": "stderr",
          "text": [
            "/usr/local/lib/python3.7/dist-packages/sklearn/metrics/_classification.py:1318: UndefinedMetricWarning: Precision and F-score are ill-defined and being set to 0.0 in labels with no predicted samples. Use `zero_division` parameter to control this behavior.\n",
            "  _warn_prf(average, modifier, msg_start, len(result))\n",
            "/usr/local/lib/python3.7/dist-packages/sklearn/metrics/_classification.py:1318: UndefinedMetricWarning: Precision and F-score are ill-defined and being set to 0.0 in labels with no predicted samples. Use `zero_division` parameter to control this behavior.\n",
            "  _warn_prf(average, modifier, msg_start, len(result))\n",
            "/usr/local/lib/python3.7/dist-packages/sklearn/metrics/_classification.py:1318: UndefinedMetricWarning: Precision and F-score are ill-defined and being set to 0.0 in labels with no predicted samples. Use `zero_division` parameter to control this behavior.\n",
            "  _warn_prf(average, modifier, msg_start, len(result))\n"
          ]
        }
      ],
      "source": [
        "print(classification_report(y, revert_transform(y_pred)))"
      ]
    },
    {
      "cell_type": "code",
      "execution_count": 25,
      "metadata": {
        "id": "oiiJvExmv6SW",
        "colab": {
          "base_uri": "https://localhost:8080/",
          "height": 295
        },
        "outputId": "933e5285-b9c3-47f2-f0b8-40632165fec8"
      },
      "outputs": [
        {
          "output_type": "display_data",
          "data": {
            "text/plain": [
              "<Figure size 432x288 with 1 Axes>"
            ],
            "image/png": "[encoded data removed]"
          },
          "metadata": {
            "needs_background": "light"
          }
        }
      ],
      "source": [
        "import pandas as pd\n",
        "import tensorflow as tf\n",
        "from tensorflow import keras\n",
        "from sklearn.model_selection import train_test_split\n",
        "import numpy as np\n",
        "import matplotlib.pyplot as plt\n",
        "\n",
        "loss_train = history.history['loss']\n",
        "loss_val = history.history['val_loss']\n",
        "#epochs = range(1,num_epochs+1)\n",
        "epochs = range(1,2+1)\n",
        "plt.plot(epochs, loss_train, 'g', label='Training loss')\n",
        "plt.plot(epochs, loss_val, 'b', label='validation loss')\n",
        "plt.title('Training and Validation loss')\n",
        "plt.xlabel('Epochs')\n",
        "plt.ylabel('Loss')\n",
        "plt.legend()\n",
        "plt.show()"
      ]
    },
    {
      "cell_type": "code",
      "execution_count": 26,
      "metadata": {
        "id": "hSGS3ZS_w9CE",
        "colab": {
          "base_uri": "https://localhost:8080/",
          "height": 590
        },
        "outputId": "dfecb638-62c6-40c3-877d-7100a1205c4f"
      },
      "outputs": [
        {
          "output_type": "stream",
          "name": "stdout",
          "text": [
            "dict_keys(['loss', 'f1_modified', 'val_loss', 'val_f1_modified'])\n"
          ]
        },
        {
          "output_type": "display_data",
          "data": {
            "text/plain": [
              "<Figure size 432x288 with 1 Axes>"
            ],
            "image/png": "[encoded data removed]"
          },
          "metadata": {
            "needs_background": "light"
          }
        },
        {
          "output_type": "display_data",
          "data": {
            "text/plain": [
              "<Figure size 432x288 with 1 Axes>"
            ],
            "image/png": "[encoded data removed]"
          },
          "metadata": {
            "needs_background": "light"
          }
        }
      ],
      "source": [
        "import matplotlib.pyplot as plt\n",
        "# list all data in history\n",
        "print(history.history.keys())\n",
        "# summarize history for accuracy\n",
        "plt.plot(history.history['f1_modified'])\n",
        "plt.plot(history.history['val_f1_modified'])\n",
        "plt.title('model f1_modified')\n",
        "plt.ylabel('f1_modified')\n",
        "plt.xlabel('epoch')\n",
        "plt.legend(['train', 'validation'], loc='upper left')\n",
        "plt.show()\n",
        "# summarize history for loss\n",
        "plt.plot(history.history['loss'])\n",
        "plt.plot(history.history['val_loss'])\n",
        "plt.title('model loss')\n",
        "plt.ylabel('loss')\n",
        "plt.xlabel('epoch')\n",
        "plt.legend(['train', 'validation'], loc='upper left')\n",
        "plt.show()"
      ]
    },
    {
      "cell_type": "code",
      "execution_count": 27,
      "metadata": {
        "id": "e7Qx647Pjhnj"
      },
      "outputs": [],
      "source": [
        "# model.save(\"rnn_model_0.55\")"
      ]
    }
  ],
  "metadata": {
    "colab": {
      "collapsed_sections": [],
      "name": "RNN refined.ipynb",
      "provenance": []
    },
    "kernelspec": {
      "display_name": "Python 3",
      "name": "python3"
    },
    "language_info": {
      "codemirror_mode": {
        "name": "ipython",
        "version": 3
      },
      "file_extension": ".py",
      "mimetype": "text/x-python",
      "name": "python",
      "nbconvert_exporter": "python",
      "pygments_lexer": "ipython3",
      "version": "3.9.5"
    },
    "accelerator": "GPU"
  },
  "nbformat": 4,
  "nbformat_minor": 0
}