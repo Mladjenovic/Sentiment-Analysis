{
  "nbformat": 4,
  "nbformat_minor": 0,
  "metadata": {
    "colab": {
      "name": "02_data_cleaning-new-new.ipynb",
      "provenance": [],
      "collapsed_sections": [
        "vJ8FsAPulGky",
        "FXwCG7CylAI0",
        "fmnCrzB6lxFu",
        "GfEsR6VYl1o5",
        "0kT-VaS066u0",
        "QhlupnBqtaxu",
        "G8gHdALg9Dq6",
        "3dZJEkt9zKY8"
      ]
    },
    "kernelspec": {
      "name": "python3",
      "display_name": "Python 3"
    },
    "language_info": {
      "name": "python"
    }
  },
  "cells": [
    {
      "cell_type": "markdown",
      "source": [
        "# Setup"
      ],
      "metadata": {
        "id": "N9bg5wtnrqtO"
      }
    },
    {
      "cell_type": "markdown",
      "source": [
        "💡 = some conclusion is drawn from data<br/>\n",
        "⚡ = some decision is made "
      ],
      "metadata": {
        "id": "DsrrcNDMxd0p"
      }
    },
    {
      "cell_type": "markdown",
      "source": [
        "TO DO:<br/>\n",
        "1. Characters: @, # ... (in progress...)\n",
        "2. Spell Checks\n",
        "3. word count per review/title histogram (eda)\n",
        "4. topic modeling (eda)\n",
        "5. NER(eda)\n",
        "6. remove last sentence if it is not finished?"
      ],
      "metadata": {
        "id": "27ASes5ts1Om"
      }
    },
    {
      "cell_type": "code",
      "execution_count": null,
      "metadata": {
        "id": "HqRjFOLWY_u2"
      },
      "outputs": [],
      "source": [
        "import pandas as pd\n",
        "import numpy as np\n",
        "import matplotlib.pyplot as plt\n",
        "from collections import Counter\n",
        "from bs4 import BeautifulSoup\n",
        "from copy import deepcopy\n",
        "import re\n",
        "import regex\n",
        "\n",
        "from google.colab import data_table"
      ]
    },
    {
      "cell_type": "code",
      "source": [
        "df = pd.read_csv('train.csv')\n",
        "df.head(5)"
      ],
      "metadata": {
        "colab": {
          "base_uri": "https://localhost:8080/",
          "height": 206
        },
        "id": "syAObuqJZ8pa",
        "outputId": "ab19cf1c-6d1b-4379-a80a-02c34fb6c5f6"
      },
      "execution_count": null,
      "outputs": [
        {
          "output_type": "execute_result",
          "data": {
            "text/html": [
              "\n",
              "  <div id=\"df-0006c2b4-6aab-47d2-9af5-72fa04f704be\">\n",
              "    <div class=\"colab-df-container\">\n",
              "      <div>\n",
              "<style scoped>\n",
              "    .dataframe tbody tr th:only-of-type {\n",
              "        vertical-align: middle;\n",
              "    }\n",
              "\n",
              "    .dataframe tbody tr th {\n",
              "        vertical-align: top;\n",
              "    }\n",
              "\n",
              "    .dataframe thead th {\n",
              "        text-align: right;\n",
              "    }\n",
              "</style>\n",
              "<table border=\"1\" class=\"dataframe\">\n",
              "  <thead>\n",
              "    <tr style=\"text-align: right;\">\n",
              "      <th></th>\n",
              "      <th>Review ID</th>\n",
              "      <th>Clothing ID</th>\n",
              "      <th>Age</th>\n",
              "      <th>Title</th>\n",
              "      <th>Review Text</th>\n",
              "      <th>Rating</th>\n",
              "      <th>Recommended IND</th>\n",
              "      <th>Positive Feedback Count</th>\n",
              "      <th>Division Name</th>\n",
              "      <th>Department Name</th>\n",
              "      <th>Class Name</th>\n",
              "    </tr>\n",
              "  </thead>\n",
              "  <tbody>\n",
              "    <tr>\n",
              "      <th>0</th>\n",
              "      <td>14192</td>\n",
              "      <td>876</td>\n",
              "      <td>38</td>\n",
              "      <td>NaN</td>\n",
              "      <td>So this top is adorable light and airy and i l...</td>\n",
              "      <td>4</td>\n",
              "      <td>1</td>\n",
              "      <td>3</td>\n",
              "      <td>General Petite</td>\n",
              "      <td>Tops</td>\n",
              "      <td>Knits</td>\n",
              "    </tr>\n",
              "    <tr>\n",
              "      <th>1</th>\n",
              "      <td>3315</td>\n",
              "      <td>1084</td>\n",
              "      <td>22</td>\n",
              "      <td>Not for short or petite women</td>\n",
              "      <td>I bought this online with the intention of it ...</td>\n",
              "      <td>2</td>\n",
              "      <td>0</td>\n",
              "      <td>15</td>\n",
              "      <td>General Petite</td>\n",
              "      <td>Dresses</td>\n",
              "      <td>Dresses</td>\n",
              "    </tr>\n",
              "    <tr>\n",
              "      <th>2</th>\n",
              "      <td>15768</td>\n",
              "      <td>945</td>\n",
              "      <td>30</td>\n",
              "      <td>Amazing!</td>\n",
              "      <td>Love this sweater! not too long or bulky,true ...</td>\n",
              "      <td>5</td>\n",
              "      <td>1</td>\n",
              "      <td>6</td>\n",
              "      <td>General</td>\n",
              "      <td>Tops</td>\n",
              "      <td>Sweaters</td>\n",
              "    </tr>\n",
              "    <tr>\n",
              "      <th>3</th>\n",
              "      <td>19020</td>\n",
              "      <td>976</td>\n",
              "      <td>52</td>\n",
              "      <td>Great for smaller women</td>\n",
              "      <td>This is a well-made kimono style jacket, in a ...</td>\n",
              "      <td>4</td>\n",
              "      <td>1</td>\n",
              "      <td>0</td>\n",
              "      <td>General Petite</td>\n",
              "      <td>Jackets</td>\n",
              "      <td>Jackets</td>\n",
              "    </tr>\n",
              "    <tr>\n",
              "      <th>4</th>\n",
              "      <td>8469</td>\n",
              "      <td>863</td>\n",
              "      <td>51</td>\n",
              "      <td>Great summer tee</td>\n",
              "      <td>I tried this on in the store because i have ha...</td>\n",
              "      <td>5</td>\n",
              "      <td>1</td>\n",
              "      <td>3</td>\n",
              "      <td>General</td>\n",
              "      <td>Tops</td>\n",
              "      <td>Knits</td>\n",
              "    </tr>\n",
              "  </tbody>\n",
              "</table>\n",
              "</div>\n",
              "      <button class=\"colab-df-convert\" onclick=\"convertToInteractive('df-0006c2b4-6aab-47d2-9af5-72fa04f704be')\"\n",
              "              title=\"Convert this dataframe to an interactive table.\"\n",
              "              style=\"display:none;\">\n",
              "        \n",
              "  <svg xmlns=\"http://www.w3.org/2000/svg\" height=\"24px\"viewBox=\"0 0 24 24\"\n",
              "       width=\"24px\">\n",
              "    <path d=\"M0 0h24v24H0V0z\" fill=\"none\"/>\n",
              "    <path d=\"M18.56 5.44l.94 2.06.94-2.06 2.06-.94-2.06-.94-.94-2.06-.94 2.06-2.06.94zm-11 1L8.5 8.5l.94-2.06 2.06-.94-2.06-.94L8.5 2.5l-.94 2.06-2.06.94zm10 10l.94 2.06.94-2.06 2.06-.94-2.06-.94-.94-2.06-.94 2.06-2.06.94z\"/><path d=\"M17.41 7.96l-1.37-1.37c-.4-.4-.92-.59-1.43-.59-.52 0-1.04.2-1.43.59L10.3 9.45l-7.72 7.72c-.78.78-.78 2.05 0 2.83L4 21.41c.39.39.9.59 1.41.59.51 0 1.02-.2 1.41-.59l7.78-7.78 2.81-2.81c.8-.78.8-2.07 0-2.86zM5.41 20L4 18.59l7.72-7.72 1.47 1.35L5.41 20z\"/>\n",
              "  </svg>\n",
              "      </button>\n",
              "      \n",
              "  <style>\n",
              "    .colab-df-container {\n",
              "      display:flex;\n",
              "      flex-wrap:wrap;\n",
              "      gap: 12px;\n",
              "    }\n",
              "\n",
              "    .colab-df-convert {\n",
              "      background-color: #E8F0FE;\n",
              "      border: none;\n",
              "      border-radius: 50%;\n",
              "      cursor: pointer;\n",
              "      display: none;\n",
              "      fill: #1967D2;\n",
              "      height: 32px;\n",
              "      padding: 0 0 0 0;\n",
              "      width: 32px;\n",
              "    }\n",
              "\n",
              "    .colab-df-convert:hover {\n",
              "      background-color: #E2EBFA;\n",
              "      box-shadow: 0px 1px 2px rgba(60, 64, 67, 0.3), 0px 1px 3px 1px rgba(60, 64, 67, 0.15);\n",
              "      fill: #174EA6;\n",
              "    }\n",
              "\n",
              "    [theme=dark] .colab-df-convert {\n",
              "      background-color: #3B4455;\n",
              "      fill: #D2E3FC;\n",
              "    }\n",
              "\n",
              "    [theme=dark] .colab-df-convert:hover {\n",
              "      background-color: #434B5C;\n",
              "      box-shadow: 0px 1px 3px 1px rgba(0, 0, 0, 0.15);\n",
              "      filter: drop-shadow(0px 1px 2px rgba(0, 0, 0, 0.3));\n",
              "      fill: #FFFFFF;\n",
              "    }\n",
              "  </style>\n",
              "\n",
              "      <script>\n",
              "        const buttonEl =\n",
              "          document.querySelector('#df-0006c2b4-6aab-47d2-9af5-72fa04f704be button.colab-df-convert');\n",
              "        buttonEl.style.display =\n",
              "          google.colab.kernel.accessAllowed ? 'block' : 'none';\n",
              "\n",
              "        async function convertToInteractive(key) {\n",
              "          const element = document.querySelector('#df-0006c2b4-6aab-47d2-9af5-72fa04f704be');\n",
              "          const dataTable =\n",
              "            await google.colab.kernel.invokeFunction('convertToInteractive',\n",
              "                                                     [key], {});\n",
              "          if (!dataTable) return;\n",
              "\n",
              "          const docLinkHtml = 'Like what you see? Visit the ' +\n",
              "            '<a target=\"_blank\" href=https://colab.research.google.com/notebooks/data_table.ipynb>data table notebook</a>'\n",
              "            + ' to learn more about interactive tables.';\n",
              "          element.innerHTML = '';\n",
              "          dataTable['output_type'] = 'display_data';\n",
              "          await google.colab.output.renderOutput(dataTable, element);\n",
              "          const docLink = document.createElement('div');\n",
              "          docLink.innerHTML = docLinkHtml;\n",
              "          element.appendChild(docLink);\n",
              "        }\n",
              "      </script>\n",
              "    </div>\n",
              "  </div>\n",
              "  "
            ],
            "text/plain": [
              "   Review ID  Clothing ID  Age                          Title  \\\n",
              "0      14192          876   38                            NaN   \n",
              "1       3315         1084   22  Not for short or petite women   \n",
              "2      15768          945   30                       Amazing!   \n",
              "3      19020          976   52        Great for smaller women   \n",
              "4       8469          863   51               Great summer tee   \n",
              "\n",
              "                                         Review Text  Rating  Recommended IND  \\\n",
              "0  So this top is adorable light and airy and i l...       4                1   \n",
              "1  I bought this online with the intention of it ...       2                0   \n",
              "2  Love this sweater! not too long or bulky,true ...       5                1   \n",
              "3  This is a well-made kimono style jacket, in a ...       4                1   \n",
              "4  I tried this on in the store because i have ha...       5                1   \n",
              "\n",
              "   Positive Feedback Count   Division Name Department Name Class Name  \n",
              "0                        3  General Petite            Tops      Knits  \n",
              "1                       15  General Petite         Dresses    Dresses  \n",
              "2                        6         General            Tops   Sweaters  \n",
              "3                        0  General Petite         Jackets    Jackets  \n",
              "4                        3         General            Tops      Knits  "
            ]
          },
          "metadata": {},
          "execution_count": 62
        }
      ]
    },
    {
      "cell_type": "code",
      "source": [
        "len(df)"
      ],
      "metadata": {
        "colab": {
          "base_uri": "https://localhost:8080/"
        },
        "id": "SnqR-emrdbXS",
        "outputId": "75690968-fe21-43ce-af77-0a5575b13d39"
      },
      "execution_count": null,
      "outputs": [
        {
          "output_type": "execute_result",
          "data": {
            "text/plain": [
              "2349"
            ]
          },
          "metadata": {},
          "execution_count": 63
        }
      ]
    },
    {
      "cell_type": "markdown",
      "source": [
        "# Check empty values"
      ],
      "metadata": {
        "id": "vJ8FsAPulGky"
      }
    },
    {
      "cell_type": "code",
      "source": [
        "df.dtypes"
      ],
      "metadata": {
        "colab": {
          "base_uri": "https://localhost:8080/"
        },
        "id": "rY9sgkRoawpf",
        "outputId": "ffd9bf92-4cf6-4a18-f4e1-bb1110ed371c"
      },
      "execution_count": null,
      "outputs": [
        {
          "output_type": "execute_result",
          "data": {
            "text/plain": [
              "Review ID                   int64\n",
              "Clothing ID                 int64\n",
              "Age                         int64\n",
              "Title                      object\n",
              "Review Text                object\n",
              "Rating                      int64\n",
              "Recommended IND             int64\n",
              "Positive Feedback Count     int64\n",
              "Division Name              object\n",
              "Department Name            object\n",
              "Class Name                 object\n",
              "dtype: object"
            ]
          },
          "metadata": {},
          "execution_count": 64
        }
      ]
    },
    {
      "cell_type": "code",
      "source": [
        "print(len(df[df['Title'] == None]))\n",
        "print(len(df[df['Review Text'] == None]))"
      ],
      "metadata": {
        "colab": {
          "base_uri": "https://localhost:8080/"
        },
        "id": "IV6o_rIka4FX",
        "outputId": "5d96529a-eda7-4d9a-92d1-3a3e487c103f"
      },
      "execution_count": null,
      "outputs": [
        {
          "output_type": "stream",
          "name": "stdout",
          "text": [
            "0\n",
            "0\n"
          ]
        }
      ]
    },
    {
      "cell_type": "markdown",
      "source": [
        "String columns should be converted to str type because object type can represent multiple types"
      ],
      "metadata": {
        "id": "ReQiWhi0a052"
      }
    },
    {
      "cell_type": "code",
      "source": [
        "df['Review Text'] = df['Review Text'].values.astype(str)\n",
        "df['Title'] = df['Title'].values.astype(str)"
      ],
      "metadata": {
        "id": "jTJK6bqsa0Cy"
      },
      "execution_count": null,
      "outputs": []
    },
    {
      "cell_type": "code",
      "source": [
        "print(len(df[df['Title'] == '']))\n",
        "print(len(df[df['Review Text'] == '']))"
      ],
      "metadata": {
        "colab": {
          "base_uri": "https://localhost:8080/"
        },
        "id": "fvw-1w7hci3n",
        "outputId": "0d35868c-afe2-40d2-9755-a3ff3686b99b"
      },
      "execution_count": null,
      "outputs": [
        {
          "output_type": "stream",
          "name": "stdout",
          "text": [
            "0\n",
            "0\n"
          ]
        }
      ]
    },
    {
      "cell_type": "code",
      "source": [
        "df['Title'].value_counts()"
      ],
      "metadata": {
        "colab": {
          "base_uri": "https://localhost:8080/"
        },
        "id": "6BcB0YuvbjcM",
        "outputId": "9bce98e4-dc05-49ca-fb34-657733c31674"
      },
      "execution_count": null,
      "outputs": [
        {
          "output_type": "execute_result",
          "data": {
            "text/plain": [
              "nan                        390\n",
              "Beautiful                   15\n",
              "Love it!                    13\n",
              "Love                        11\n",
              "Beautiful!                  10\n",
              "                          ... \n",
              "Wear this tank anywhere      1\n",
              "Flattering tee               1\n",
              "Nice fit but runs small      1\n",
              "Exquisite                    1\n",
              "Pj's for the win             1\n",
              "Name: Title, Length: 1699, dtype: int64"
            ]
          },
          "metadata": {},
          "execution_count": 68
        }
      ]
    },
    {
      "cell_type": "code",
      "source": [
        "df[df['Title'] == 'nan'].head()"
      ],
      "metadata": {
        "colab": {
          "base_uri": "https://localhost:8080/"
        },
        "id": "Ouhdu9qCc-5H",
        "outputId": "dd5db58b-f324-470a-848a-c1c304ed847a"
      },
      "execution_count": null,
      "outputs": [
        {
          "output_type": "execute_result",
          "data": {
            "text/html": [
              "\n",
              "  <div id=\"df-7e092593-19f0-49b3-9fe1-afa1846f31d1\">\n",
              "    <div class=\"colab-df-container\">\n",
              "      <div>\n",
              "<style scoped>\n",
              "    .dataframe tbody tr th:only-of-type {\n",
              "        vertical-align: middle;\n",
              "    }\n",
              "\n",
              "    .dataframe tbody tr th {\n",
              "        vertical-align: top;\n",
              "    }\n",
              "\n",
              "    .dataframe thead th {\n",
              "        text-align: right;\n",
              "    }\n",
              "</style>\n",
              "<table border=\"1\" class=\"dataframe\">\n",
              "  <thead>\n",
              "    <tr style=\"text-align: right;\">\n",
              "      <th></th>\n",
              "      <th>Review ID</th>\n",
              "      <th>Clothing ID</th>\n",
              "      <th>Age</th>\n",
              "      <th>Title</th>\n",
              "      <th>Review Text</th>\n",
              "      <th>Rating</th>\n",
              "      <th>Recommended IND</th>\n",
              "      <th>Positive Feedback Count</th>\n",
              "      <th>Division Name</th>\n",
              "      <th>Department Name</th>\n",
              "      <th>Class Name</th>\n",
              "    </tr>\n",
              "  </thead>\n",
              "  <tbody>\n",
              "    <tr>\n",
              "      <th>0</th>\n",
              "      <td>14192</td>\n",
              "      <td>876</td>\n",
              "      <td>38</td>\n",
              "      <td>nan</td>\n",
              "      <td>So this top is adorable light and airy and i l...</td>\n",
              "      <td>4</td>\n",
              "      <td>1</td>\n",
              "      <td>3</td>\n",
              "      <td>General Petite</td>\n",
              "      <td>Tops</td>\n",
              "      <td>Knits</td>\n",
              "    </tr>\n",
              "    <tr>\n",
              "      <th>22</th>\n",
              "      <td>19811</td>\n",
              "      <td>868</td>\n",
              "      <td>29</td>\n",
              "      <td>nan</td>\n",
              "      <td>The design of this shirt is stunning. i can't ...</td>\n",
              "      <td>5</td>\n",
              "      <td>1</td>\n",
              "      <td>0</td>\n",
              "      <td>General</td>\n",
              "      <td>Tops</td>\n",
              "      <td>Knits</td>\n",
              "    </tr>\n",
              "    <tr>\n",
              "      <th>23</th>\n",
              "      <td>22004</td>\n",
              "      <td>860</td>\n",
              "      <td>27</td>\n",
              "      <td>nan</td>\n",
              "      <td>Lovely top that will be a great year-round sta...</td>\n",
              "      <td>5</td>\n",
              "      <td>1</td>\n",
              "      <td>14</td>\n",
              "      <td>General</td>\n",
              "      <td>Tops</td>\n",
              "      <td>Knits</td>\n",
              "    </tr>\n",
              "    <tr>\n",
              "      <th>26</th>\n",
              "      <td>5921</td>\n",
              "      <td>815</td>\n",
              "      <td>35</td>\n",
              "      <td>nan</td>\n",
              "      <td>nan</td>\n",
              "      <td>5</td>\n",
              "      <td>1</td>\n",
              "      <td>0</td>\n",
              "      <td>General</td>\n",
              "      <td>Tops</td>\n",
              "      <td>Blouses</td>\n",
              "    </tr>\n",
              "    <tr>\n",
              "      <th>27</th>\n",
              "      <td>3607</td>\n",
              "      <td>881</td>\n",
              "      <td>47</td>\n",
              "      <td>nan</td>\n",
              "      <td>This ia a great casual top...the design flaws ...</td>\n",
              "      <td>5</td>\n",
              "      <td>1</td>\n",
              "      <td>0</td>\n",
              "      <td>General</td>\n",
              "      <td>Tops</td>\n",
              "      <td>Knits</td>\n",
              "    </tr>\n",
              "  </tbody>\n",
              "</table>\n",
              "</div>\n",
              "      <button class=\"colab-df-convert\" onclick=\"convertToInteractive('df-7e092593-19f0-49b3-9fe1-afa1846f31d1')\"\n",
              "              title=\"Convert this dataframe to an interactive table.\"\n",
              "              style=\"display:none;\">\n",
              "        \n",
              "  <svg xmlns=\"http://www.w3.org/2000/svg\" height=\"24px\"viewBox=\"0 0 24 24\"\n",
              "       width=\"24px\">\n",
              "    <path d=\"M0 0h24v24H0V0z\" fill=\"none\"/>\n",
              "    <path d=\"M18.56 5.44l.94 2.06.94-2.06 2.06-.94-2.06-.94-.94-2.06-.94 2.06-2.06.94zm-11 1L8.5 8.5l.94-2.06 2.06-.94-2.06-.94L8.5 2.5l-.94 2.06-2.06.94zm10 10l.94 2.06.94-2.06 2.06-.94-2.06-.94-.94-2.06-.94 2.06-2.06.94z\"/><path d=\"M17.41 7.96l-1.37-1.37c-.4-.4-.92-.59-1.43-.59-.52 0-1.04.2-1.43.59L10.3 9.45l-7.72 7.72c-.78.78-.78 2.05 0 2.83L4 21.41c.39.39.9.59 1.41.59.51 0 1.02-.2 1.41-.59l7.78-7.78 2.81-2.81c.8-.78.8-2.07 0-2.86zM5.41 20L4 18.59l7.72-7.72 1.47 1.35L5.41 20z\"/>\n",
              "  </svg>\n",
              "      </button>\n",
              "      \n",
              "  <style>\n",
              "    .colab-df-container {\n",
              "      display:flex;\n",
              "      flex-wrap:wrap;\n",
              "      gap: 12px;\n",
              "    }\n",
              "\n",
              "    .colab-df-convert {\n",
              "      background-color: #E8F0FE;\n",
              "      border: none;\n",
              "      border-radius: 50%;\n",
              "      cursor: pointer;\n",
              "      display: none;\n",
              "      fill: #1967D2;\n",
              "      height: 32px;\n",
              "      padding: 0 0 0 0;\n",
              "      width: 32px;\n",
              "    }\n",
              "\n",
              "    .colab-df-convert:hover {\n",
              "      background-color: #E2EBFA;\n",
              "      box-shadow: 0px 1px 2px rgba(60, 64, 67, 0.3), 0px 1px 3px 1px rgba(60, 64, 67, 0.15);\n",
              "      fill: #174EA6;\n",
              "    }\n",
              "\n",
              "    [theme=dark] .colab-df-convert {\n",
              "      background-color: #3B4455;\n",
              "      fill: #D2E3FC;\n",
              "    }\n",
              "\n",
              "    [theme=dark] .colab-df-convert:hover {\n",
              "      background-color: #434B5C;\n",
              "      box-shadow: 0px 1px 3px 1px rgba(0, 0, 0, 0.15);\n",
              "      filter: drop-shadow(0px 1px 2px rgba(0, 0, 0, 0.3));\n",
              "      fill: #FFFFFF;\n",
              "    }\n",
              "  </style>\n",
              "\n",
              "      <script>\n",
              "        const buttonEl =\n",
              "          document.querySelector('#df-7e092593-19f0-49b3-9fe1-afa1846f31d1 button.colab-df-convert');\n",
              "        buttonEl.style.display =\n",
              "          google.colab.kernel.accessAllowed ? 'block' : 'none';\n",
              "\n",
              "        async function convertToInteractive(key) {\n",
              "          const element = document.querySelector('#df-7e092593-19f0-49b3-9fe1-afa1846f31d1');\n",
              "          const dataTable =\n",
              "            await google.colab.kernel.invokeFunction('convertToInteractive',\n",
              "                                                     [key], {});\n",
              "          if (!dataTable) return;\n",
              "\n",
              "          const docLinkHtml = 'Like what you see? Visit the ' +\n",
              "            '<a target=\"_blank\" href=https://colab.research.google.com/notebooks/data_table.ipynb>data table notebook</a>'\n",
              "            + ' to learn more about interactive tables.';\n",
              "          element.innerHTML = '';\n",
              "          dataTable['output_type'] = 'display_data';\n",
              "          await google.colab.output.renderOutput(dataTable, element);\n",
              "          const docLink = document.createElement('div');\n",
              "          docLink.innerHTML = docLinkHtml;\n",
              "          element.appendChild(docLink);\n",
              "        }\n",
              "      </script>\n",
              "    </div>\n",
              "  </div>\n",
              "  "
            ],
            "text/plain": [
              "    Review ID  Clothing ID  Age Title  \\\n",
              "0       14192          876   38   nan   \n",
              "22      19811          868   29   nan   \n",
              "23      22004          860   27   nan   \n",
              "26       5921          815   35   nan   \n",
              "27       3607          881   47   nan   \n",
              "\n",
              "                                          Review Text  Rating  \\\n",
              "0   So this top is adorable light and airy and i l...       4   \n",
              "22  The design of this shirt is stunning. i can't ...       5   \n",
              "23  Lovely top that will be a great year-round sta...       5   \n",
              "26                                                nan       5   \n",
              "27  This ia a great casual top...the design flaws ...       5   \n",
              "\n",
              "    Recommended IND  Positive Feedback Count   Division Name Department Name  \\\n",
              "0                 1                        3  General Petite            Tops   \n",
              "22                1                        0         General            Tops   \n",
              "23                1                       14         General            Tops   \n",
              "26                1                        0         General            Tops   \n",
              "27                1                        0         General            Tops   \n",
              "\n",
              "   Class Name  \n",
              "0       Knits  \n",
              "22      Knits  \n",
              "23      Knits  \n",
              "26    Blouses  \n",
              "27      Knits  "
            ]
          },
          "metadata": {},
          "execution_count": 69
        }
      ]
    },
    {
      "cell_type": "code",
      "source": [
        "df['Review Text'].value_counts()"
      ],
      "metadata": {
        "colab": {
          "base_uri": "https://localhost:8080/"
        },
        "id": "y1yWmlhKdH-d",
        "outputId": "34d4e161-3efb-4653-ffdd-afd12564a640"
      },
      "execution_count": null,
      "outputs": [
        {
          "output_type": "execute_result",
          "data": {
            "text/plain": [
              "nan                                                                                                                                                                                                                                                                                                                                                                                                                                                                                                                87\n",
              "So this top is adorable light and airy and i like the loose fit, i think it will nice and cool for summer. the red is very flattering color, i have fairer skin and feel like it gave nice color without being overbearing. love this top. my only complaint is that i feel like the the arm hole is a bit snug. not enough to not keep, just wish there was a little more room.                                                                                                                                    1\n",
              "I have two of these tops. the maroon and tan and white stripe. the material is great and the neckline lays great. it isn't too thick so i can wear it on cooler florida days. you can dress it up under a jacket or dress down with some jeans.                                                                                                                                                                                                                                                                     1\n",
              "I purchased this sweater in black to dress up my everyday cardigan. this is very soft and can dress up a skirt or great with jeans.                                                                                                                                                                                                                                                                                                                                                                                 1\n",
              "I bought this online to wear in my engagement photos, and its absolutely perfect! i typically wear a size l or xl and could have easily worn the l in this top, runs a tad big. keep in mind it is on the shorter side. i will be purchasing a white tank to wear underneath it.                                                                                                                                                                                                                                    1\n",
              "                                                                                                                                                                                                                                                                                                                                                                                                                                                                                                                   ..\n",
              "I love the style of this dress but felt that it didn't look great on. really sad it didn't work out :( felt like it was too short and the drop waist was awkward and looked childish. beautiful fabric and design if it fits you well though!                                                                                                                                                                                                                                                                       1\n",
              "I tried this on even though i usually am not interested in cowlneck tops. the fabric is heavier, so it is not good for hot weather. the fabric is a weave of lighter and darker colors - you can see if you zoom in, so it has an interesting texture. very flattering because it is fitted and not boxy.                                                                                                                                                                                                           1\n",
              "The design is very strange. the inner slip is quite form-fitting, but the dress on top was just massive, like a sack. on the sides were tassels that i could not figure out what to do with. they looked weird just hanging off the side, so i tried to knot them like a belt. overall, this dress was not attractive on. it looks much better on the model. the coloring on the snakeskin print dress is also different in real life, harsher red, blue, and white print not the dusty rose and plum pictured.     1\n",
              "Adorable romper. the only thing is the sleeves are a little shorter than portrayed in the picture. they come to about mid-forearm on me (and i'm a petite person). still cute but def not if you're looking for a full sleeve.                                                                                                                                                                                                                                                                                      1\n",
              "The colors, style and fit were great. this dress you could wear on many different occasions. all around great piece to own!                                                                                                                                                                                                                                                                                                                                                                                         1\n",
              "Name: Review Text, Length: 2263, dtype: int64"
            ]
          },
          "metadata": {},
          "execution_count": 70
        }
      ]
    },
    {
      "cell_type": "markdown",
      "source": [
        "'nan' is same as empty string"
      ],
      "metadata": {
        "id": "r1R7wP36dpCK"
      }
    },
    {
      "cell_type": "code",
      "source": [
        "df['Title'] = df['Title'].apply(lambda x: '' if x == 'nan' else x)"
      ],
      "metadata": {
        "id": "UK0NnWYndx9g"
      },
      "execution_count": null,
      "outputs": []
    },
    {
      "cell_type": "code",
      "source": [
        "df['Title'].value_counts()"
      ],
      "metadata": {
        "colab": {
          "base_uri": "https://localhost:8080/"
        },
        "id": "4Tjd_h40f7ay",
        "outputId": "1a5a5967-0d1c-4ea3-c733-6d108587b6c0"
      },
      "execution_count": null,
      "outputs": [
        {
          "output_type": "execute_result",
          "data": {
            "text/plain": [
              "                           390\n",
              "Beautiful                   15\n",
              "Love it!                    13\n",
              "Love                        11\n",
              "Beautiful!                  10\n",
              "                          ... \n",
              "Wear this tank anywhere      1\n",
              "Flattering tee               1\n",
              "Nice fit but runs small      1\n",
              "Exquisite                    1\n",
              "Pj's for the win             1\n",
              "Name: Title, Length: 1699, dtype: int64"
            ]
          },
          "metadata": {},
          "execution_count": 72
        }
      ]
    },
    {
      "cell_type": "code",
      "source": [
        "len(df[(df['Review Text'] == 'nan') & (df['Title'] != '')])"
      ],
      "metadata": {
        "colab": {
          "base_uri": "https://localhost:8080/"
        },
        "id": "hG7UkfB8hJlf",
        "outputId": "9b0f98ce-2cbc-44cf-b5ca-b0580db05685"
      },
      "execution_count": null,
      "outputs": [
        {
          "output_type": "execute_result",
          "data": {
            "text/plain": [
              "1"
            ]
          },
          "metadata": {},
          "execution_count": 73
        }
      ]
    },
    {
      "cell_type": "markdown",
      "source": [
        "💡 When review is empty, title is also empty "
      ],
      "metadata": {
        "id": "MiTrJ3sJpMP8"
      }
    },
    {
      "cell_type": "code",
      "source": [
        "df['Rating'].hist()"
      ],
      "metadata": {
        "colab": {
          "base_uri": "https://localhost:8080/"
        },
        "id": "0eCcwyN6vEXW",
        "outputId": "1b5ad764-5fbb-4035-f10d-26a35e36a6e4"
      },
      "execution_count": null,
      "outputs": [
        {
          "output_type": "execute_result",
          "data": {
            "text/plain": [
              "<matplotlib.axes._subplots.AxesSubplot at 0x7f88e4324e90>"
            ]
          },
          "metadata": {},
          "execution_count": 74
        },
        {
          "output_type": "display_data",
          "data": {
            "image/png": "[encoded data removed]",
            "text/plain": [
              "<Figure size 432x288 with 1 Axes>"
            ]
          },
          "metadata": {
            "needs_background": "light"
          }
        }
      ]
    },
    {
      "cell_type": "code",
      "source": [
        "df[df['Review Text'] == 'nan']['Rating'].hist()"
      ],
      "metadata": {
        "colab": {
          "base_uri": "https://localhost:8080/"
        },
        "id": "KOhl7AqyiBxR",
        "outputId": "ebbf5f52-848e-4827-890c-7acbf690d2da"
      },
      "execution_count": null,
      "outputs": [
        {
          "output_type": "execute_result",
          "data": {
            "text/plain": [
              "<matplotlib.axes._subplots.AxesSubplot at 0x7f88e2c12050>"
            ]
          },
          "metadata": {},
          "execution_count": 75
        },
        {
          "output_type": "display_data",
          "data": {
            "image/png": "[encoded data removed]",
            "text/plain": [
              "<Figure size 432x288 with 1 Axes>"
            ]
          },
          "metadata": {
            "needs_background": "light"
          }
        }
      ]
    },
    {
      "cell_type": "markdown",
      "source": [
        "💡 No correlation between empty reviews and rating"
      ],
      "metadata": {
        "id": "4TvvSKsyo07s"
      }
    },
    {
      "cell_type": "markdown",
      "source": [
        "⚡ Remove empty reviews"
      ],
      "metadata": {
        "id": "bAGCRunliK59"
      }
    },
    {
      "cell_type": "code",
      "source": [
        "len(df)"
      ],
      "metadata": {
        "colab": {
          "base_uri": "https://localhost:8080/"
        },
        "id": "zLr9i9IBhDB3",
        "outputId": "affc4593-3c89-46b4-dae4-95b9980e13cc"
      },
      "execution_count": null,
      "outputs": [
        {
          "output_type": "execute_result",
          "data": {
            "text/plain": [
              "2349"
            ]
          },
          "metadata": {},
          "execution_count": 76
        }
      ]
    },
    {
      "cell_type": "code",
      "source": [
        "df = df[df['Review Text'] != 'nan']"
      ],
      "metadata": {
        "id": "u_RnQkFze4yE"
      },
      "execution_count": null,
      "outputs": []
    },
    {
      "cell_type": "code",
      "source": [
        "len(df)"
      ],
      "metadata": {
        "colab": {
          "base_uri": "https://localhost:8080/"
        },
        "id": "25TpJE7mgrpU",
        "outputId": "1f7a4829-1a94-49eb-883c-964f9534fcca"
      },
      "execution_count": null,
      "outputs": [
        {
          "output_type": "execute_result",
          "data": {
            "text/plain": [
              "2262"
            ]
          },
          "metadata": {},
          "execution_count": 78
        }
      ]
    },
    {
      "cell_type": "markdown",
      "source": [
        "# Check duplicate reviews"
      ],
      "metadata": {
        "id": "FXwCG7CylAI0"
      }
    },
    {
      "cell_type": "code",
      "source": [
        "review_text_counts_df = df['Review Text'].value_counts().rename_axis('unique_values').reset_index(name='counts')"
      ],
      "metadata": {
        "id": "vF4aOa1rkNln"
      },
      "execution_count": null,
      "outputs": []
    },
    {
      "cell_type": "code",
      "source": [
        "len(review_text_counts_df[review_text_counts_df['counts'] > 1])"
      ],
      "metadata": {
        "colab": {
          "base_uri": "https://localhost:8080/"
        },
        "id": "fS3h60H5kXIl",
        "outputId": "9699056b-0563-4bab-f076-5ed2c03e955c"
      },
      "execution_count": null,
      "outputs": [
        {
          "output_type": "execute_result",
          "data": {
            "text/plain": [
              "0"
            ]
          },
          "metadata": {},
          "execution_count": 80
        }
      ]
    },
    {
      "cell_type": "code",
      "source": [
        "for review in review_text_counts_df[review_text_counts_df['counts'] > 1]['unique_values']:\n",
        "  print(review)\n",
        "  print('---------------------------------------')"
      ],
      "metadata": {
        "id": "9jOg4LmPlUQk"
      },
      "execution_count": null,
      "outputs": []
    },
    {
      "cell_type": "code",
      "source": [
        "df[df['Review Text'].isin(review_text_counts_df[review_text_counts_df['counts'] > 1]['unique_values'])]"
      ],
      "metadata": {
        "colab": {
          "base_uri": "https://localhost:8080/"
        },
        "id": "d8Iei-NymGQY",
        "outputId": "9e31c79b-af3f-4b15-de3f-8b44aea05d6f"
      },
      "execution_count": null,
      "outputs": [
        {
          "output_type": "execute_result",
          "data": {
            "text/html": [
              "\n",
              "  <div id=\"df-45d2f563-49e8-4171-ae8b-12356443ef68\">\n",
              "    <div class=\"colab-df-container\">\n",
              "      <div>\n",
              "<style scoped>\n",
              "    .dataframe tbody tr th:only-of-type {\n",
              "        vertical-align: middle;\n",
              "    }\n",
              "\n",
              "    .dataframe tbody tr th {\n",
              "        vertical-align: top;\n",
              "    }\n",
              "\n",
              "    .dataframe thead th {\n",
              "        text-align: right;\n",
              "    }\n",
              "</style>\n",
              "<table border=\"1\" class=\"dataframe\">\n",
              "  <thead>\n",
              "    <tr style=\"text-align: right;\">\n",
              "      <th></th>\n",
              "      <th>Review ID</th>\n",
              "      <th>Clothing ID</th>\n",
              "      <th>Age</th>\n",
              "      <th>Title</th>\n",
              "      <th>Review Text</th>\n",
              "      <th>Rating</th>\n",
              "      <th>Recommended IND</th>\n",
              "      <th>Positive Feedback Count</th>\n",
              "      <th>Division Name</th>\n",
              "      <th>Department Name</th>\n",
              "      <th>Class Name</th>\n",
              "    </tr>\n",
              "  </thead>\n",
              "  <tbody>\n",
              "  </tbody>\n",
              "</table>\n",
              "</div>\n",
              "      <button class=\"colab-df-convert\" onclick=\"convertToInteractive('df-45d2f563-49e8-4171-ae8b-12356443ef68')\"\n",
              "              title=\"Convert this dataframe to an interactive table.\"\n",
              "              style=\"display:none;\">\n",
              "        \n",
              "  <svg xmlns=\"http://www.w3.org/2000/svg\" height=\"24px\"viewBox=\"0 0 24 24\"\n",
              "       width=\"24px\">\n",
              "    <path d=\"M0 0h24v24H0V0z\" fill=\"none\"/>\n",
              "    <path d=\"M18.56 5.44l.94 2.06.94-2.06 2.06-.94-2.06-.94-.94-2.06-.94 2.06-2.06.94zm-11 1L8.5 8.5l.94-2.06 2.06-.94-2.06-.94L8.5 2.5l-.94 2.06-2.06.94zm10 10l.94 2.06.94-2.06 2.06-.94-2.06-.94-.94-2.06-.94 2.06-2.06.94z\"/><path d=\"M17.41 7.96l-1.37-1.37c-.4-.4-.92-.59-1.43-.59-.52 0-1.04.2-1.43.59L10.3 9.45l-7.72 7.72c-.78.78-.78 2.05 0 2.83L4 21.41c.39.39.9.59 1.41.59.51 0 1.02-.2 1.41-.59l7.78-7.78 2.81-2.81c.8-.78.8-2.07 0-2.86zM5.41 20L4 18.59l7.72-7.72 1.47 1.35L5.41 20z\"/>\n",
              "  </svg>\n",
              "      </button>\n",
              "      \n",
              "  <style>\n",
              "    .colab-df-container {\n",
              "      display:flex;\n",
              "      flex-wrap:wrap;\n",
              "      gap: 12px;\n",
              "    }\n",
              "\n",
              "    .colab-df-convert {\n",
              "      background-color: #E8F0FE;\n",
              "      border: none;\n",
              "      border-radius: 50%;\n",
              "      cursor: pointer;\n",
              "      display: none;\n",
              "      fill: #1967D2;\n",
              "      height: 32px;\n",
              "      padding: 0 0 0 0;\n",
              "      width: 32px;\n",
              "    }\n",
              "\n",
              "    .colab-df-convert:hover {\n",
              "      background-color: #E2EBFA;\n",
              "      box-shadow: 0px 1px 2px rgba(60, 64, 67, 0.3), 0px 1px 3px 1px rgba(60, 64, 67, 0.15);\n",
              "      fill: #174EA6;\n",
              "    }\n",
              "\n",
              "    [theme=dark] .colab-df-convert {\n",
              "      background-color: #3B4455;\n",
              "      fill: #D2E3FC;\n",
              "    }\n",
              "\n",
              "    [theme=dark] .colab-df-convert:hover {\n",
              "      background-color: #434B5C;\n",
              "      box-shadow: 0px 1px 3px 1px rgba(0, 0, 0, 0.15);\n",
              "      filter: drop-shadow(0px 1px 2px rgba(0, 0, 0, 0.3));\n",
              "      fill: #FFFFFF;\n",
              "    }\n",
              "  </style>\n",
              "\n",
              "      <script>\n",
              "        const buttonEl =\n",
              "          document.querySelector('#df-45d2f563-49e8-4171-ae8b-12356443ef68 button.colab-df-convert');\n",
              "        buttonEl.style.display =\n",
              "          google.colab.kernel.accessAllowed ? 'block' : 'none';\n",
              "\n",
              "        async function convertToInteractive(key) {\n",
              "          const element = document.querySelector('#df-45d2f563-49e8-4171-ae8b-12356443ef68');\n",
              "          const dataTable =\n",
              "            await google.colab.kernel.invokeFunction('convertToInteractive',\n",
              "                                                     [key], {});\n",
              "          if (!dataTable) return;\n",
              "\n",
              "          const docLinkHtml = 'Like what you see? Visit the ' +\n",
              "            '<a target=\"_blank\" href=https://colab.research.google.com/notebooks/data_table.ipynb>data table notebook</a>'\n",
              "            + ' to learn more about interactive tables.';\n",
              "          element.innerHTML = '';\n",
              "          dataTable['output_type'] = 'display_data';\n",
              "          await google.colab.output.renderOutput(dataTable, element);\n",
              "          const docLink = document.createElement('div');\n",
              "          docLink.innerHTML = docLinkHtml;\n",
              "          element.appendChild(docLink);\n",
              "        }\n",
              "      </script>\n",
              "    </div>\n",
              "  </div>\n",
              "  "
            ],
            "text/plain": [
              "Empty DataFrame\n",
              "Columns: [Review ID, Clothing ID, Age, Title, Review Text, Rating, Recommended IND, Positive Feedback Count, Division Name, Department Name, Class Name]\n",
              "Index: []"
            ]
          },
          "metadata": {},
          "execution_count": 82
        }
      ]
    },
    {
      "cell_type": "markdown",
      "source": [
        "⚡ No need to keep duplicate reviews"
      ],
      "metadata": {
        "id": "BRyZFwgPonL7"
      }
    },
    {
      "cell_type": "code",
      "source": [
        "len(df)"
      ],
      "metadata": {
        "colab": {
          "base_uri": "https://localhost:8080/"
        },
        "id": "ogJLSpw5oTI9",
        "outputId": "be157f19-6ae2-48e2-d4f2-4c951945aea4"
      },
      "execution_count": null,
      "outputs": [
        {
          "output_type": "execute_result",
          "data": {
            "text/plain": [
              "2262"
            ]
          },
          "metadata": {},
          "execution_count": 83
        }
      ]
    },
    {
      "cell_type": "code",
      "source": [
        "df.drop_duplicates(subset='Review Text', inplace=True)"
      ],
      "metadata": {
        "id": "NDXCT3Srn-Os"
      },
      "execution_count": null,
      "outputs": []
    },
    {
      "cell_type": "code",
      "source": [
        "len(df)"
      ],
      "metadata": {
        "colab": {
          "base_uri": "https://localhost:8080/"
        },
        "id": "dxkAQUvAoVBs",
        "outputId": "1b331e97-e845-4f76-a01e-0c2ec9706217"
      },
      "execution_count": null,
      "outputs": [
        {
          "output_type": "execute_result",
          "data": {
            "text/plain": [
              "2262"
            ]
          },
          "metadata": {},
          "execution_count": 85
        }
      ]
    },
    {
      "cell_type": "markdown",
      "source": [
        "# Fix whitespaces"
      ],
      "metadata": {
        "id": "fmnCrzB6lxFu"
      }
    },
    {
      "cell_type": "code",
      "source": [
        "df['Review Text'].str.contains('\\n').sum()"
      ],
      "metadata": {
        "colab": {
          "base_uri": "https://localhost:8080/"
        },
        "id": "AXhDSZdTrD5c",
        "outputId": "496ca92b-0c26-4978-f17f-eaa82f62b5a2"
      },
      "execution_count": null,
      "outputs": [
        {
          "output_type": "execute_result",
          "data": {
            "text/plain": [
              "194"
            ]
          },
          "metadata": {},
          "execution_count": 86
        }
      ]
    },
    {
      "cell_type": "code",
      "source": [
        "df['Review Text'] = df['Review Text'].apply(lambda x: ' '.join(x.split()))"
      ],
      "metadata": {
        "id": "RaXLq2YRqz47"
      },
      "execution_count": null,
      "outputs": []
    },
    {
      "cell_type": "code",
      "source": [
        "df['Review Text'].str.contains('\\n').sum()"
      ],
      "metadata": {
        "colab": {
          "base_uri": "https://localhost:8080/"
        },
        "id": "fI6_9Qh9q-jT",
        "outputId": "ad2a7feb-1f16-4b26-afb8-22afbde3a190"
      },
      "execution_count": null,
      "outputs": [
        {
          "output_type": "execute_result",
          "data": {
            "text/plain": [
              "0"
            ]
          },
          "metadata": {},
          "execution_count": 88
        }
      ]
    },
    {
      "cell_type": "markdown",
      "source": [
        "# Check shortest/longest reviews and titles"
      ],
      "metadata": {
        "id": "GfEsR6VYl1o5"
      }
    },
    {
      "cell_type": "code",
      "source": [
        "df['Title Length'] = df['Title'].apply(lambda x: len(x.split()))\n",
        "df['Review Length'] = df['Review Text'].apply(lambda x: len(x.split()))"
      ],
      "metadata": {
        "id": "gBxuG7dsr8ay"
      },
      "execution_count": null,
      "outputs": []
    },
    {
      "cell_type": "code",
      "source": [
        "df.head()"
      ],
      "metadata": {
        "colab": {
          "base_uri": "https://localhost:8080/"
        },
        "id": "QihN-fj4tS0I",
        "outputId": "53b9fc66-1a56-45e9-b4c7-fdfa9f8692eb"
      },
      "execution_count": null,
      "outputs": [
        {
          "output_type": "execute_result",
          "data": {
            "text/html": [
              "\n",
              "  <div id=\"df-f999a802-d5f0-45fd-90e2-528aa9946c00\">\n",
              "    <div class=\"colab-df-container\">\n",
              "      <div>\n",
              "<style scoped>\n",
              "    .dataframe tbody tr th:only-of-type {\n",
              "        vertical-align: middle;\n",
              "    }\n",
              "\n",
              "    .dataframe tbody tr th {\n",
              "        vertical-align: top;\n",
              "    }\n",
              "\n",
              "    .dataframe thead th {\n",
              "        text-align: right;\n",
              "    }\n",
              "</style>\n",
              "<table border=\"1\" class=\"dataframe\">\n",
              "  <thead>\n",
              "    <tr style=\"text-align: right;\">\n",
              "      <th></th>\n",
              "      <th>Review ID</th>\n",
              "      <th>Clothing ID</th>\n",
              "      <th>Age</th>\n",
              "      <th>Title</th>\n",
              "      <th>Review Text</th>\n",
              "      <th>Rating</th>\n",
              "      <th>Recommended IND</th>\n",
              "      <th>Positive Feedback Count</th>\n",
              "      <th>Division Name</th>\n",
              "      <th>Department Name</th>\n",
              "      <th>Class Name</th>\n",
              "      <th>Title Length</th>\n",
              "      <th>Review Length</th>\n",
              "    </tr>\n",
              "  </thead>\n",
              "  <tbody>\n",
              "    <tr>\n",
              "      <th>0</th>\n",
              "      <td>14192</td>\n",
              "      <td>876</td>\n",
              "      <td>38</td>\n",
              "      <td></td>\n",
              "      <td>So this top is adorable light and airy and i l...</td>\n",
              "      <td>4</td>\n",
              "      <td>1</td>\n",
              "      <td>3</td>\n",
              "      <td>General Petite</td>\n",
              "      <td>Tops</td>\n",
              "      <td>Knits</td>\n",
              "      <td>0</td>\n",
              "      <td>75</td>\n",
              "    </tr>\n",
              "    <tr>\n",
              "      <th>1</th>\n",
              "      <td>3315</td>\n",
              "      <td>1084</td>\n",
              "      <td>22</td>\n",
              "      <td>Not for short or petite women</td>\n",
              "      <td>I bought this online with the intention of it ...</td>\n",
              "      <td>2</td>\n",
              "      <td>0</td>\n",
              "      <td>15</td>\n",
              "      <td>General Petite</td>\n",
              "      <td>Dresses</td>\n",
              "      <td>Dresses</td>\n",
              "      <td>6</td>\n",
              "      <td>94</td>\n",
              "    </tr>\n",
              "    <tr>\n",
              "      <th>2</th>\n",
              "      <td>15768</td>\n",
              "      <td>945</td>\n",
              "      <td>30</td>\n",
              "      <td>Amazing!</td>\n",
              "      <td>Love this sweater! not too long or bulky,true ...</td>\n",
              "      <td>5</td>\n",
              "      <td>1</td>\n",
              "      <td>6</td>\n",
              "      <td>General</td>\n",
              "      <td>Tops</td>\n",
              "      <td>Sweaters</td>\n",
              "      <td>1</td>\n",
              "      <td>17</td>\n",
              "    </tr>\n",
              "    <tr>\n",
              "      <th>3</th>\n",
              "      <td>19020</td>\n",
              "      <td>976</td>\n",
              "      <td>52</td>\n",
              "      <td>Great for smaller women</td>\n",
              "      <td>This is a well-made kimono style jacket, in a ...</td>\n",
              "      <td>4</td>\n",
              "      <td>1</td>\n",
              "      <td>0</td>\n",
              "      <td>General Petite</td>\n",
              "      <td>Jackets</td>\n",
              "      <td>Jackets</td>\n",
              "      <td>4</td>\n",
              "      <td>60</td>\n",
              "    </tr>\n",
              "    <tr>\n",
              "      <th>4</th>\n",
              "      <td>8469</td>\n",
              "      <td>863</td>\n",
              "      <td>51</td>\n",
              "      <td>Great summer tee</td>\n",
              "      <td>I tried this on in the store because i have ha...</td>\n",
              "      <td>5</td>\n",
              "      <td>1</td>\n",
              "      <td>3</td>\n",
              "      <td>General</td>\n",
              "      <td>Tops</td>\n",
              "      <td>Knits</td>\n",
              "      <td>3</td>\n",
              "      <td>108</td>\n",
              "    </tr>\n",
              "  </tbody>\n",
              "</table>\n",
              "</div>\n",
              "      <button class=\"colab-df-convert\" onclick=\"convertToInteractive('df-f999a802-d5f0-45fd-90e2-528aa9946c00')\"\n",
              "              title=\"Convert this dataframe to an interactive table.\"\n",
              "              style=\"display:none;\">\n",
              "        \n",
              "  <svg xmlns=\"http://www.w3.org/2000/svg\" height=\"24px\"viewBox=\"0 0 24 24\"\n",
              "       width=\"24px\">\n",
              "    <path d=\"M0 0h24v24H0V0z\" fill=\"none\"/>\n",
              "    <path d=\"M18.56 5.44l.94 2.06.94-2.06 2.06-.94-2.06-.94-.94-2.06-.94 2.06-2.06.94zm-11 1L8.5 8.5l.94-2.06 2.06-.94-2.06-.94L8.5 2.5l-.94 2.06-2.06.94zm10 10l.94 2.06.94-2.06 2.06-.94-2.06-.94-.94-2.06-.94 2.06-2.06.94z\"/><path d=\"M17.41 7.96l-1.37-1.37c-.4-.4-.92-.59-1.43-.59-.52 0-1.04.2-1.43.59L10.3 9.45l-7.72 7.72c-.78.78-.78 2.05 0 2.83L4 21.41c.39.39.9.59 1.41.59.51 0 1.02-.2 1.41-.59l7.78-7.78 2.81-2.81c.8-.78.8-2.07 0-2.86zM5.41 20L4 18.59l7.72-7.72 1.47 1.35L5.41 20z\"/>\n",
              "  </svg>\n",
              "      </button>\n",
              "      \n",
              "  <style>\n",
              "    .colab-df-container {\n",
              "      display:flex;\n",
              "      flex-wrap:wrap;\n",
              "      gap: 12px;\n",
              "    }\n",
              "\n",
              "    .colab-df-convert {\n",
              "      background-color: #E8F0FE;\n",
              "      border: none;\n",
              "      border-radius: 50%;\n",
              "      cursor: pointer;\n",
              "      display: none;\n",
              "      fill: #1967D2;\n",
              "      height: 32px;\n",
              "      padding: 0 0 0 0;\n",
              "      width: 32px;\n",
              "    }\n",
              "\n",
              "    .colab-df-convert:hover {\n",
              "      background-color: #E2EBFA;\n",
              "      box-shadow: 0px 1px 2px rgba(60, 64, 67, 0.3), 0px 1px 3px 1px rgba(60, 64, 67, 0.15);\n",
              "      fill: #174EA6;\n",
              "    }\n",
              "\n",
              "    [theme=dark] .colab-df-convert {\n",
              "      background-color: #3B4455;\n",
              "      fill: #D2E3FC;\n",
              "    }\n",
              "\n",
              "    [theme=dark] .colab-df-convert:hover {\n",
              "      background-color: #434B5C;\n",
              "      box-shadow: 0px 1px 3px 1px rgba(0, 0, 0, 0.15);\n",
              "      filter: drop-shadow(0px 1px 2px rgba(0, 0, 0, 0.3));\n",
              "      fill: #FFFFFF;\n",
              "    }\n",
              "  </style>\n",
              "\n",
              "      <script>\n",
              "        const buttonEl =\n",
              "          document.querySelector('#df-f999a802-d5f0-45fd-90e2-528aa9946c00 button.colab-df-convert');\n",
              "        buttonEl.style.display =\n",
              "          google.colab.kernel.accessAllowed ? 'block' : 'none';\n",
              "\n",
              "        async function convertToInteractive(key) {\n",
              "          const element = document.querySelector('#df-f999a802-d5f0-45fd-90e2-528aa9946c00');\n",
              "          const dataTable =\n",
              "            await google.colab.kernel.invokeFunction('convertToInteractive',\n",
              "                                                     [key], {});\n",
              "          if (!dataTable) return;\n",
              "\n",
              "          const docLinkHtml = 'Like what you see? Visit the ' +\n",
              "            '<a target=\"_blank\" href=https://colab.research.google.com/notebooks/data_table.ipynb>data table notebook</a>'\n",
              "            + ' to learn more about interactive tables.';\n",
              "          element.innerHTML = '';\n",
              "          dataTable['output_type'] = 'display_data';\n",
              "          await google.colab.output.renderOutput(dataTable, element);\n",
              "          const docLink = document.createElement('div');\n",
              "          docLink.innerHTML = docLinkHtml;\n",
              "          element.appendChild(docLink);\n",
              "        }\n",
              "      </script>\n",
              "    </div>\n",
              "  </div>\n",
              "  "
            ],
            "text/plain": [
              "   Review ID  Clothing ID  Age                          Title  \\\n",
              "0      14192          876   38                                  \n",
              "1       3315         1084   22  Not for short or petite women   \n",
              "2      15768          945   30                       Amazing!   \n",
              "3      19020          976   52        Great for smaller women   \n",
              "4       8469          863   51               Great summer tee   \n",
              "\n",
              "                                         Review Text  Rating  Recommended IND  \\\n",
              "0  So this top is adorable light and airy and i l...       4                1   \n",
              "1  I bought this online with the intention of it ...       2                0   \n",
              "2  Love this sweater! not too long or bulky,true ...       5                1   \n",
              "3  This is a well-made kimono style jacket, in a ...       4                1   \n",
              "4  I tried this on in the store because i have ha...       5                1   \n",
              "\n",
              "   Positive Feedback Count   Division Name Department Name Class Name  \\\n",
              "0                        3  General Petite            Tops      Knits   \n",
              "1                       15  General Petite         Dresses    Dresses   \n",
              "2                        6         General            Tops   Sweaters   \n",
              "3                        0  General Petite         Jackets    Jackets   \n",
              "4                        3         General            Tops      Knits   \n",
              "\n",
              "   Title Length  Review Length  \n",
              "0             0             75  \n",
              "1             6             94  \n",
              "2             1             17  \n",
              "3             4             60  \n",
              "4             3            108  "
            ]
          },
          "metadata": {},
          "execution_count": 90
        }
      ]
    },
    {
      "cell_type": "code",
      "source": [
        "df.sort_values('Title Length', ascending=False).head()"
      ],
      "metadata": {
        "colab": {
          "base_uri": "https://localhost:8080/"
        },
        "id": "djnkwxI7uZPk",
        "outputId": "5d935549-5144-4346-c9fb-42043c06f5bf"
      },
      "execution_count": null,
      "outputs": [
        {
          "output_type": "execute_result",
          "data": {
            "text/html": [
              "\n",
              "  <div id=\"df-92110ee0-d666-4de0-8a41-68aac1073b72\">\n",
              "    <div class=\"colab-df-container\">\n",
              "      <div>\n",
              "<style scoped>\n",
              "    .dataframe tbody tr th:only-of-type {\n",
              "        vertical-align: middle;\n",
              "    }\n",
              "\n",
              "    .dataframe tbody tr th {\n",
              "        vertical-align: top;\n",
              "    }\n",
              "\n",
              "    .dataframe thead th {\n",
              "        text-align: right;\n",
              "    }\n",
              "</style>\n",
              "<table border=\"1\" class=\"dataframe\">\n",
              "  <thead>\n",
              "    <tr style=\"text-align: right;\">\n",
              "      <th></th>\n",
              "      <th>Review ID</th>\n",
              "      <th>Clothing ID</th>\n",
              "      <th>Age</th>\n",
              "      <th>Title</th>\n",
              "      <th>Review Text</th>\n",
              "      <th>Rating</th>\n",
              "      <th>Recommended IND</th>\n",
              "      <th>Positive Feedback Count</th>\n",
              "      <th>Division Name</th>\n",
              "      <th>Department Name</th>\n",
              "      <th>Class Name</th>\n",
              "      <th>Title Length</th>\n",
              "      <th>Review Length</th>\n",
              "    </tr>\n",
              "  </thead>\n",
              "  <tbody>\n",
              "    <tr>\n",
              "      <th>678</th>\n",
              "      <td>13637</td>\n",
              "      <td>1078</td>\n",
              "      <td>50</td>\n",
              "      <td>I love this dress so much i almost said a bad ...</td>\n",
              "      <td>Omg, i am 5'8 size 14, big hips and i simply l...</td>\n",
              "      <td>5</td>\n",
              "      <td>1</td>\n",
              "      <td>3</td>\n",
              "      <td>General</td>\n",
              "      <td>Dresses</td>\n",
              "      <td>Dresses</td>\n",
              "      <td>12</td>\n",
              "      <td>58</td>\n",
              "    </tr>\n",
              "    <tr>\n",
              "      <th>1915</th>\n",
              "      <td>12294</td>\n",
              "      <td>569</td>\n",
              "      <td>46</td>\n",
              "      <td>It's like a work of art, but sadly, not flatte...</td>\n",
              "      <td>It's like a work of art, but sadly, not flatte...</td>\n",
              "      <td>2</td>\n",
              "      <td>0</td>\n",
              "      <td>1</td>\n",
              "      <td>General</td>\n",
              "      <td>Trend</td>\n",
              "      <td>Trend</td>\n",
              "      <td>10</td>\n",
              "      <td>55</td>\n",
              "    </tr>\n",
              "    <tr>\n",
              "      <th>1231</th>\n",
              "      <td>21881</td>\n",
              "      <td>1052</td>\n",
              "      <td>25</td>\n",
              "      <td>Yes to love, yes to life, yes to these pants</td>\n",
              "      <td>These are excellent. as previous reviewers not...</td>\n",
              "      <td>5</td>\n",
              "      <td>1</td>\n",
              "      <td>0</td>\n",
              "      <td>General</td>\n",
              "      <td>Bottoms</td>\n",
              "      <td>Pants</td>\n",
              "      <td>10</td>\n",
              "      <td>87</td>\n",
              "    </tr>\n",
              "    <tr>\n",
              "      <th>156</th>\n",
              "      <td>17654</td>\n",
              "      <td>918</td>\n",
              "      <td>49</td>\n",
              "      <td>Long on sleeves, short in the torso. and - sna...</td>\n",
              "      <td>Well, it's the snails that really make this ca...</td>\n",
              "      <td>4</td>\n",
              "      <td>1</td>\n",
              "      <td>0</td>\n",
              "      <td>General</td>\n",
              "      <td>Tops</td>\n",
              "      <td>Fine gauge</td>\n",
              "      <td>10</td>\n",
              "      <td>99</td>\n",
              "    </tr>\n",
              "    <tr>\n",
              "      <th>585</th>\n",
              "      <td>15586</td>\n",
              "      <td>862</td>\n",
              "      <td>34</td>\n",
              "      <td>Feels lovely to the skin; 1 major flaw for me</td>\n",
              "      <td>I'm a sucker for anything in rich velvet tones...</td>\n",
              "      <td>4</td>\n",
              "      <td>1</td>\n",
              "      <td>12</td>\n",
              "      <td>General</td>\n",
              "      <td>Tops</td>\n",
              "      <td>Knits</td>\n",
              "      <td>10</td>\n",
              "      <td>96</td>\n",
              "    </tr>\n",
              "  </tbody>\n",
              "</table>\n",
              "</div>\n",
              "      <button class=\"colab-df-convert\" onclick=\"convertToInteractive('df-92110ee0-d666-4de0-8a41-68aac1073b72')\"\n",
              "              title=\"Convert this dataframe to an interactive table.\"\n",
              "              style=\"display:none;\">\n",
              "        \n",
              "  <svg xmlns=\"http://www.w3.org/2000/svg\" height=\"24px\"viewBox=\"0 0 24 24\"\n",
              "       width=\"24px\">\n",
              "    <path d=\"M0 0h24v24H0V0z\" fill=\"none\"/>\n",
              "    <path d=\"M18.56 5.44l.94 2.06.94-2.06 2.06-.94-2.06-.94-.94-2.06-.94 2.06-2.06.94zm-11 1L8.5 8.5l.94-2.06 2.06-.94-2.06-.94L8.5 2.5l-.94 2.06-2.06.94zm10 10l.94 2.06.94-2.06 2.06-.94-2.06-.94-.94-2.06-.94 2.06-2.06.94z\"/><path d=\"M17.41 7.96l-1.37-1.37c-.4-.4-.92-.59-1.43-.59-.52 0-1.04.2-1.43.59L10.3 9.45l-7.72 7.72c-.78.78-.78 2.05 0 2.83L4 21.41c.39.39.9.59 1.41.59.51 0 1.02-.2 1.41-.59l7.78-7.78 2.81-2.81c.8-.78.8-2.07 0-2.86zM5.41 20L4 18.59l7.72-7.72 1.47 1.35L5.41 20z\"/>\n",
              "  </svg>\n",
              "      </button>\n",
              "      \n",
              "  <style>\n",
              "    .colab-df-container {\n",
              "      display:flex;\n",
              "      flex-wrap:wrap;\n",
              "      gap: 12px;\n",
              "    }\n",
              "\n",
              "    .colab-df-convert {\n",
              "      background-color: #E8F0FE;\n",
              "      border: none;\n",
              "      border-radius: 50%;\n",
              "      cursor: pointer;\n",
              "      display: none;\n",
              "      fill: #1967D2;\n",
              "      height: 32px;\n",
              "      padding: 0 0 0 0;\n",
              "      width: 32px;\n",
              "    }\n",
              "\n",
              "    .colab-df-convert:hover {\n",
              "      background-color: #E2EBFA;\n",
              "      box-shadow: 0px 1px 2px rgba(60, 64, 67, 0.3), 0px 1px 3px 1px rgba(60, 64, 67, 0.15);\n",
              "      fill: #174EA6;\n",
              "    }\n",
              "\n",
              "    [theme=dark] .colab-df-convert {\n",
              "      background-color: #3B4455;\n",
              "      fill: #D2E3FC;\n",
              "    }\n",
              "\n",
              "    [theme=dark] .colab-df-convert:hover {\n",
              "      background-color: #434B5C;\n",
              "      box-shadow: 0px 1px 3px 1px rgba(0, 0, 0, 0.15);\n",
              "      filter: drop-shadow(0px 1px 2px rgba(0, 0, 0, 0.3));\n",
              "      fill: #FFFFFF;\n",
              "    }\n",
              "  </style>\n",
              "\n",
              "      <script>\n",
              "        const buttonEl =\n",
              "          document.querySelector('#df-92110ee0-d666-4de0-8a41-68aac1073b72 button.colab-df-convert');\n",
              "        buttonEl.style.display =\n",
              "          google.colab.kernel.accessAllowed ? 'block' : 'none';\n",
              "\n",
              "        async function convertToInteractive(key) {\n",
              "          const element = document.querySelector('#df-92110ee0-d666-4de0-8a41-68aac1073b72');\n",
              "          const dataTable =\n",
              "            await google.colab.kernel.invokeFunction('convertToInteractive',\n",
              "                                                     [key], {});\n",
              "          if (!dataTable) return;\n",
              "\n",
              "          const docLinkHtml = 'Like what you see? Visit the ' +\n",
              "            '<a target=\"_blank\" href=https://colab.research.google.com/notebooks/data_table.ipynb>data table notebook</a>'\n",
              "            + ' to learn more about interactive tables.';\n",
              "          element.innerHTML = '';\n",
              "          dataTable['output_type'] = 'display_data';\n",
              "          await google.colab.output.renderOutput(dataTable, element);\n",
              "          const docLink = document.createElement('div');\n",
              "          docLink.innerHTML = docLinkHtml;\n",
              "          element.appendChild(docLink);\n",
              "        }\n",
              "      </script>\n",
              "    </div>\n",
              "  </div>\n",
              "  "
            ],
            "text/plain": [
              "      Review ID  Clothing ID  Age  \\\n",
              "678       13637         1078   50   \n",
              "1915      12294          569   46   \n",
              "1231      21881         1052   25   \n",
              "156       17654          918   49   \n",
              "585       15586          862   34   \n",
              "\n",
              "                                                  Title  \\\n",
              "678   I love this dress so much i almost said a bad ...   \n",
              "1915  It's like a work of art, but sadly, not flatte...   \n",
              "1231       Yes to love, yes to life, yes to these pants   \n",
              "156   Long on sleeves, short in the torso. and - sna...   \n",
              "585       Feels lovely to the skin; 1 major flaw for me   \n",
              "\n",
              "                                            Review Text  Rating  \\\n",
              "678   Omg, i am 5'8 size 14, big hips and i simply l...       5   \n",
              "1915  It's like a work of art, but sadly, not flatte...       2   \n",
              "1231  These are excellent. as previous reviewers not...       5   \n",
              "156   Well, it's the snails that really make this ca...       4   \n",
              "585   I'm a sucker for anything in rich velvet tones...       4   \n",
              "\n",
              "      Recommended IND  Positive Feedback Count Division Name Department Name  \\\n",
              "678                 1                        3       General         Dresses   \n",
              "1915                0                        1       General           Trend   \n",
              "1231                1                        0       General         Bottoms   \n",
              "156                 1                        0       General            Tops   \n",
              "585                 1                       12       General            Tops   \n",
              "\n",
              "      Class Name  Title Length  Review Length  \n",
              "678      Dresses            12             58  \n",
              "1915       Trend            10             55  \n",
              "1231       Pants            10             87  \n",
              "156   Fine gauge            10             99  \n",
              "585        Knits            10             96  "
            ]
          },
          "metadata": {},
          "execution_count": 91
        }
      ]
    },
    {
      "cell_type": "code",
      "source": [
        "df[df['Title Length'] > 0].sort_values('Title Length', ascending=True).head(10)"
      ],
      "metadata": {
        "id": "ZuCNeIWrvetn",
        "colab": {
          "base_uri": "https://localhost:8080/"
        },
        "outputId": "3ec2a3ba-a00f-40f9-d6ee-5c77a902f8f3"
      },
      "execution_count": null,
      "outputs": [
        {
          "output_type": "execute_result",
          "data": {
            "text/html": [
              "\n",
              "  <div id=\"df-e50e397b-e051-4129-af3e-d038b14aed17\">\n",
              "    <div class=\"colab-df-container\">\n",
              "      <div>\n",
              "<style scoped>\n",
              "    .dataframe tbody tr th:only-of-type {\n",
              "        vertical-align: middle;\n",
              "    }\n",
              "\n",
              "    .dataframe tbody tr th {\n",
              "        vertical-align: top;\n",
              "    }\n",
              "\n",
              "    .dataframe thead th {\n",
              "        text-align: right;\n",
              "    }\n",
              "</style>\n",
              "<table border=\"1\" class=\"dataframe\">\n",
              "  <thead>\n",
              "    <tr style=\"text-align: right;\">\n",
              "      <th></th>\n",
              "      <th>Review ID</th>\n",
              "      <th>Clothing ID</th>\n",
              "      <th>Age</th>\n",
              "      <th>Title</th>\n",
              "      <th>Review Text</th>\n",
              "      <th>Rating</th>\n",
              "      <th>Recommended IND</th>\n",
              "      <th>Positive Feedback Count</th>\n",
              "      <th>Division Name</th>\n",
              "      <th>Department Name</th>\n",
              "      <th>Class Name</th>\n",
              "      <th>Title Length</th>\n",
              "      <th>Review Length</th>\n",
              "    </tr>\n",
              "  </thead>\n",
              "  <tbody>\n",
              "    <tr>\n",
              "      <th>407</th>\n",
              "      <td>16097</td>\n",
              "      <td>936</td>\n",
              "      <td>42</td>\n",
              "      <td>Gorgeous</td>\n",
              "      <td>I completely agree with the other reviewer. th...</td>\n",
              "      <td>5</td>\n",
              "      <td>1</td>\n",
              "      <td>4</td>\n",
              "      <td>General Petite</td>\n",
              "      <td>Tops</td>\n",
              "      <td>Sweaters</td>\n",
              "      <td>1</td>\n",
              "      <td>87</td>\n",
              "    </tr>\n",
              "    <tr>\n",
              "      <th>568</th>\n",
              "      <td>9344</td>\n",
              "      <td>895</td>\n",
              "      <td>59</td>\n",
              "      <td>Shrunk</td>\n",
              "      <td>Love it but it shrank and that makes me so mad.</td>\n",
              "      <td>4</td>\n",
              "      <td>1</td>\n",
              "      <td>3</td>\n",
              "      <td>General</td>\n",
              "      <td>Tops</td>\n",
              "      <td>Fine gauge</td>\n",
              "      <td>1</td>\n",
              "      <td>11</td>\n",
              "    </tr>\n",
              "    <tr>\n",
              "      <th>1858</th>\n",
              "      <td>10964</td>\n",
              "      <td>1083</td>\n",
              "      <td>36</td>\n",
              "      <td>Gor-geous</td>\n",
              "      <td>This dress is absolutely fantastic. beautiful,...</td>\n",
              "      <td>5</td>\n",
              "      <td>1</td>\n",
              "      <td>0</td>\n",
              "      <td>General</td>\n",
              "      <td>Dresses</td>\n",
              "      <td>Dresses</td>\n",
              "      <td>1</td>\n",
              "      <td>19</td>\n",
              "    </tr>\n",
              "    <tr>\n",
              "      <th>1855</th>\n",
              "      <td>11809</td>\n",
              "      <td>865</td>\n",
              "      <td>24</td>\n",
              "      <td>Unique+flattering+easy</td>\n",
              "      <td>This top is great for those days when you have...</td>\n",
              "      <td>5</td>\n",
              "      <td>1</td>\n",
              "      <td>1</td>\n",
              "      <td>General</td>\n",
              "      <td>Tops</td>\n",
              "      <td>Knits</td>\n",
              "      <td>1</td>\n",
              "      <td>23</td>\n",
              "    </tr>\n",
              "    <tr>\n",
              "      <th>982</th>\n",
              "      <td>21016</td>\n",
              "      <td>1078</td>\n",
              "      <td>41</td>\n",
              "      <td>Gorgeous!!</td>\n",
              "      <td>Easy breezy summer dress!!! love the detailing...</td>\n",
              "      <td>5</td>\n",
              "      <td>1</td>\n",
              "      <td>6</td>\n",
              "      <td>General</td>\n",
              "      <td>Dresses</td>\n",
              "      <td>Dresses</td>\n",
              "      <td>1</td>\n",
              "      <td>10</td>\n",
              "    </tr>\n",
              "    <tr>\n",
              "      <th>985</th>\n",
              "      <td>22633</td>\n",
              "      <td>886</td>\n",
              "      <td>47</td>\n",
              "      <td>Cute!</td>\n",
              "      <td>Got this today and highly recommend it! it fit...</td>\n",
              "      <td>5</td>\n",
              "      <td>1</td>\n",
              "      <td>0</td>\n",
              "      <td>General Petite</td>\n",
              "      <td>Tops</td>\n",
              "      <td>Knits</td>\n",
              "      <td>1</td>\n",
              "      <td>25</td>\n",
              "    </tr>\n",
              "    <tr>\n",
              "      <th>563</th>\n",
              "      <td>18187</td>\n",
              "      <td>1087</td>\n",
              "      <td>65</td>\n",
              "      <td>Disappointing</td>\n",
              "      <td>I really wanted to love this dress. i thought ...</td>\n",
              "      <td>3</td>\n",
              "      <td>0</td>\n",
              "      <td>6</td>\n",
              "      <td>General</td>\n",
              "      <td>Dresses</td>\n",
              "      <td>Dresses</td>\n",
              "      <td>1</td>\n",
              "      <td>102</td>\n",
              "    </tr>\n",
              "    <tr>\n",
              "      <th>1453</th>\n",
              "      <td>5251</td>\n",
              "      <td>871</td>\n",
              "      <td>53</td>\n",
              "      <td>Love!</td>\n",
              "      <td>I got the green one. as the other reviewers co...</td>\n",
              "      <td>5</td>\n",
              "      <td>1</td>\n",
              "      <td>0</td>\n",
              "      <td>General</td>\n",
              "      <td>Tops</td>\n",
              "      <td>Knits</td>\n",
              "      <td>1</td>\n",
              "      <td>33</td>\n",
              "    </tr>\n",
              "    <tr>\n",
              "      <th>561</th>\n",
              "      <td>13473</td>\n",
              "      <td>1024</td>\n",
              "      <td>55</td>\n",
              "      <td>Love!</td>\n",
              "      <td>So glad to see high waisted jeans again! very ...</td>\n",
              "      <td>5</td>\n",
              "      <td>1</td>\n",
              "      <td>0</td>\n",
              "      <td>General</td>\n",
              "      <td>Bottoms</td>\n",
              "      <td>Jeans</td>\n",
              "      <td>1</td>\n",
              "      <td>22</td>\n",
              "    </tr>\n",
              "    <tr>\n",
              "      <th>465</th>\n",
              "      <td>22192</td>\n",
              "      <td>824</td>\n",
              "      <td>63</td>\n",
              "      <td>Beautiful</td>\n",
              "      <td>Love, love this top. fabric is nice and soft, ...</td>\n",
              "      <td>5</td>\n",
              "      <td>1</td>\n",
              "      <td>0</td>\n",
              "      <td>General</td>\n",
              "      <td>Tops</td>\n",
              "      <td>Blouses</td>\n",
              "      <td>1</td>\n",
              "      <td>27</td>\n",
              "    </tr>\n",
              "  </tbody>\n",
              "</table>\n",
              "</div>\n",
              "      <button class=\"colab-df-convert\" onclick=\"convertToInteractive('df-e50e397b-e051-4129-af3e-d038b14aed17')\"\n",
              "              title=\"Convert this dataframe to an interactive table.\"\n",
              "              style=\"display:none;\">\n",
              "        \n",
              "  <svg xmlns=\"http://www.w3.org/2000/svg\" height=\"24px\"viewBox=\"0 0 24 24\"\n",
              "       width=\"24px\">\n",
              "    <path d=\"M0 0h24v24H0V0z\" fill=\"none\"/>\n",
              "    <path d=\"M18.56 5.44l.94 2.06.94-2.06 2.06-.94-2.06-.94-.94-2.06-.94 2.06-2.06.94zm-11 1L8.5 8.5l.94-2.06 2.06-.94-2.06-.94L8.5 2.5l-.94 2.06-2.06.94zm10 10l.94 2.06.94-2.06 2.06-.94-2.06-.94-.94-2.06-.94 2.06-2.06.94z\"/><path d=\"M17.41 7.96l-1.37-1.37c-.4-.4-.92-.59-1.43-.59-.52 0-1.04.2-1.43.59L10.3 9.45l-7.72 7.72c-.78.78-.78 2.05 0 2.83L4 21.41c.39.39.9.59 1.41.59.51 0 1.02-.2 1.41-.59l7.78-7.78 2.81-2.81c.8-.78.8-2.07 0-2.86zM5.41 20L4 18.59l7.72-7.72 1.47 1.35L5.41 20z\"/>\n",
              "  </svg>\n",
              "      </button>\n",
              "      \n",
              "  <style>\n",
              "    .colab-df-container {\n",
              "      display:flex;\n",
              "      flex-wrap:wrap;\n",
              "      gap: 12px;\n",
              "    }\n",
              "\n",
              "    .colab-df-convert {\n",
              "      background-color: #E8F0FE;\n",
              "      border: none;\n",
              "      border-radius: 50%;\n",
              "      cursor: pointer;\n",
              "      display: none;\n",
              "      fill: #1967D2;\n",
              "      height: 32px;\n",
              "      padding: 0 0 0 0;\n",
              "      width: 32px;\n",
              "    }\n",
              "\n",
              "    .colab-df-convert:hover {\n",
              "      background-color: #E2EBFA;\n",
              "      box-shadow: 0px 1px 2px rgba(60, 64, 67, 0.3), 0px 1px 3px 1px rgba(60, 64, 67, 0.15);\n",
              "      fill: #174EA6;\n",
              "    }\n",
              "\n",
              "    [theme=dark] .colab-df-convert {\n",
              "      background-color: #3B4455;\n",
              "      fill: #D2E3FC;\n",
              "    }\n",
              "\n",
              "    [theme=dark] .colab-df-convert:hover {\n",
              "      background-color: #434B5C;\n",
              "      box-shadow: 0px 1px 3px 1px rgba(0, 0, 0, 0.15);\n",
              "      filter: drop-shadow(0px 1px 2px rgba(0, 0, 0, 0.3));\n",
              "      fill: #FFFFFF;\n",
              "    }\n",
              "  </style>\n",
              "\n",
              "      <script>\n",
              "        const buttonEl =\n",
              "          document.querySelector('#df-e50e397b-e051-4129-af3e-d038b14aed17 button.colab-df-convert');\n",
              "        buttonEl.style.display =\n",
              "          google.colab.kernel.accessAllowed ? 'block' : 'none';\n",
              "\n",
              "        async function convertToInteractive(key) {\n",
              "          const element = document.querySelector('#df-e50e397b-e051-4129-af3e-d038b14aed17');\n",
              "          const dataTable =\n",
              "            await google.colab.kernel.invokeFunction('convertToInteractive',\n",
              "                                                     [key], {});\n",
              "          if (!dataTable) return;\n",
              "\n",
              "          const docLinkHtml = 'Like what you see? Visit the ' +\n",
              "            '<a target=\"_blank\" href=https://colab.research.google.com/notebooks/data_table.ipynb>data table notebook</a>'\n",
              "            + ' to learn more about interactive tables.';\n",
              "          element.innerHTML = '';\n",
              "          dataTable['output_type'] = 'display_data';\n",
              "          await google.colab.output.renderOutput(dataTable, element);\n",
              "          const docLink = document.createElement('div');\n",
              "          docLink.innerHTML = docLinkHtml;\n",
              "          element.appendChild(docLink);\n",
              "        }\n",
              "      </script>\n",
              "    </div>\n",
              "  </div>\n",
              "  "
            ],
            "text/plain": [
              "      Review ID  Clothing ID  Age                   Title  \\\n",
              "407       16097          936   42                Gorgeous   \n",
              "568        9344          895   59                  Shrunk   \n",
              "1858      10964         1083   36               Gor-geous   \n",
              "1855      11809          865   24  Unique+flattering+easy   \n",
              "982       21016         1078   41              Gorgeous!!   \n",
              "985       22633          886   47                   Cute!   \n",
              "563       18187         1087   65           Disappointing   \n",
              "1453       5251          871   53                   Love!   \n",
              "561       13473         1024   55                   Love!   \n",
              "465       22192          824   63               Beautiful   \n",
              "\n",
              "                                            Review Text  Rating  \\\n",
              "407   I completely agree with the other reviewer. th...       5   \n",
              "568     Love it but it shrank and that makes me so mad.       4   \n",
              "1858  This dress is absolutely fantastic. beautiful,...       5   \n",
              "1855  This top is great for those days when you have...       5   \n",
              "982   Easy breezy summer dress!!! love the detailing...       5   \n",
              "985   Got this today and highly recommend it! it fit...       5   \n",
              "563   I really wanted to love this dress. i thought ...       3   \n",
              "1453  I got the green one. as the other reviewers co...       5   \n",
              "561   So glad to see high waisted jeans again! very ...       5   \n",
              "465   Love, love this top. fabric is nice and soft, ...       5   \n",
              "\n",
              "      Recommended IND  Positive Feedback Count   Division Name  \\\n",
              "407                 1                        4  General Petite   \n",
              "568                 1                        3         General   \n",
              "1858                1                        0         General   \n",
              "1855                1                        1         General   \n",
              "982                 1                        6         General   \n",
              "985                 1                        0  General Petite   \n",
              "563                 0                        6         General   \n",
              "1453                1                        0         General   \n",
              "561                 1                        0         General   \n",
              "465                 1                        0         General   \n",
              "\n",
              "     Department Name  Class Name  Title Length  Review Length  \n",
              "407             Tops    Sweaters             1             87  \n",
              "568             Tops  Fine gauge             1             11  \n",
              "1858         Dresses     Dresses             1             19  \n",
              "1855            Tops       Knits             1             23  \n",
              "982          Dresses     Dresses             1             10  \n",
              "985             Tops       Knits             1             25  \n",
              "563          Dresses     Dresses             1            102  \n",
              "1453            Tops       Knits             1             33  \n",
              "561          Bottoms       Jeans             1             22  \n",
              "465             Tops     Blouses             1             27  "
            ]
          },
          "metadata": {},
          "execution_count": 92
        }
      ]
    },
    {
      "cell_type": "markdown",
      "source": [
        "💡 No insights from Title Length"
      ],
      "metadata": {
        "id": "mk7tLPvzweNI"
      }
    },
    {
      "cell_type": "code",
      "source": [
        "data_table.enable_dataframe_formatter()\n",
        "df.sort_values('Review Length', ascending=False).head()"
      ],
      "metadata": {
        "colab": {
          "base_uri": "https://localhost:8080/"
        },
        "id": "Ae_LQQ4owJ9D",
        "outputId": "895c2def-2ab4-4bc1-dc3a-697c450668d5"
      },
      "execution_count": null,
      "outputs": [
        {
          "output_type": "execute_result",
          "data": {
            "application/vnd.google.colaboratory.module+javascript": "\n      import \"https://ssl.gstatic.com/colaboratory/data_table/81f25a011006ed3d/data_table.js\";\n\n      window.createDataTable({\n        data: [[{\n            'v': 930,\n            'f': \"930\",\n        },\n{\n            'v': 17909,\n            'f': \"17909\",\n        },\n{\n            'v': 861,\n            'f': \"861\",\n        },\n{\n            'v': 43,\n            'f': \"43\",\n        },\n\"Fit off\",\n\"I got a medium as i usually wear that in everything. i am a 36d and this pulled a bit across my chest and back. it is a cute idea, but the fit is off for my body. i am 5'6 and hits me shorter than shown on the model, so hits at an odd length. i may try to order a large and see if it is better on me, because i am so hopeful for this to look cute on me! the teal blue color is beautiful, the pink is more a blush and washed me out, the grey is just grey. i bought three thinking this would be my go t\",\n{\n            'v': 3,\n            'f': \"3\",\n        },\n{\n            'v': 1,\n            'f': \"1\",\n        },\n{\n            'v': 9,\n            'f': \"9\",\n        },\n\"General\",\n\"Tops\",\n\"Knits\",\n{\n            'v': 2,\n            'f': \"2\",\n        },\n{\n            'v': 114,\n            'f': \"114\",\n        }],\n [{\n            'v': 2108,\n            'f': \"2108\",\n        },\n{\n            'v': 15096,\n            'f': \"15096\",\n        },\n{\n            'v': 881,\n            'f': \"881\",\n        },\n{\n            'v': 21,\n            'f': \"21\",\n        },\n\"Pretty but the doesn't fit right.\",\n\"Alright, so i really love this shirt. but i am having it taken in to fit me. i weigh 110 and am 5 foot 3 and pretty petite, and this shirt is too big on me and i got an xs. i didn't wanna get xxs and am glad i didn't because i think it would be too short. i'm going to keep the shirt, but it is too big on me, it puffs out in the front and some in the back when you stand certain ways and i need to have it taken in, or else it isn't as flattering as it should be. the material is awesome and i love\",\n{\n            'v': 4,\n            'f': \"4\",\n        },\n{\n            'v': 1,\n            'f': \"1\",\n        },\n{\n            'v': 4,\n            'f': \"4\",\n        },\n\"General\",\n\"Tops\",\n\"Knits\",\n{\n            'v': 6,\n            'f': \"6\",\n        },\n{\n            'v': 113,\n            'f': \"113\",\n        }],\n [{\n            'v': 1644,\n            'f': \"1644\",\n        },\n{\n            'v': 6368,\n            'f': \"6368\",\n        },\n{\n            'v': 1059,\n            'f': \"1059\",\n        },\n{\n            'v': 52,\n            'f': \"52\",\n        },\n\"Dress them up or down\",\n\"Let me talk about the fit. i am a size 6 petite. i weigh 120 and am 5' tall. i am curvy and have short legs. what little height i have is in my torso. that being said, i ordered the 6p and the 6. no doubt about it! the 6p fits like a 4p. the 6p was tight in the hips and thighs. the size 6 regular was a perfect fit. if you want the pant to have s cropped look like in the picture then order up a size and stay in petite. so i would have ordered a 8p i'd i wanted the cropped look like in the pic. bu\",\n{\n            'v': 5,\n            'f': \"5\",\n        },\n{\n            'v': 1,\n            'f': \"1\",\n        },\n{\n            'v': 5,\n            'f': \"5\",\n        },\n\"General\",\n\"Bottoms\",\n\"Pants\",\n{\n            'v': 5,\n            'f': \"5\",\n        },\n{\n            'v': 113,\n            'f': \"113\",\n        }],\n [{\n            'v': 2177,\n            'f': \"2177\",\n        },\n{\n            'v': 18708,\n            'f': \"18708\",\n        },\n{\n            'v': 872,\n            'f': \"872\",\n        },\n{\n            'v': 27,\n            'f': \"27\",\n        },\n\"Perfect light weight sweater\",\n\"I ordered the cream colored duster after purchasing the grey one in store. i loved the grey one so much i had to get the other color. i love the length of the item. i am 5'9\\\" and don't feel like it is too short for me to get the look. it is light weight so i did not get too warm in it and will be able to wear it much of the year. i did wear it open as i feel that it runs a tad tight on the arms and torso when buttoned. however, i prefer the look of it worn open so that was not a problem for me.\",\n{\n            'v': 5,\n            'f': \"5\",\n        },\n{\n            'v': 1,\n            'f': \"1\",\n        },\n{\n            'v': 0,\n            'f': \"0\",\n        },\n\"General\",\n\"Tops\",\n\"Knits\",\n{\n            'v': 4,\n            'f': \"4\",\n        },\n{\n            'v': 113,\n            'f': \"113\",\n        }],\n [{\n            'v': 517,\n            'f': \"517\",\n        },\n{\n            'v': 12466,\n            'f': \"12466\",\n        },\n{\n            'v': 927,\n            'f': \"927\",\n        },\n{\n            'v': 36,\n            'f': \"36\",\n        },\n\"Love this vest\",\n\"I have been looking for a vest this winter and i saw this one online. i am a huge fan of swing tops. i don't care for super fitted clothes. the knit says part wool so i was expecting it to be a little scratchier, however when i got it, it is so soft and more cotteny feel to it than wool but has the warmth of wool when wearing it. i really have to try not to wear it everyday. just love this vest! it's my favorite purchase this season. i am a size 10 in tops and i can either do a med or a large. i\",\n{\n            'v': 5,\n            'f': \"5\",\n        },\n{\n            'v': 1,\n            'f': \"1\",\n        },\n{\n            'v': 2,\n            'f': \"2\",\n        },\n\"General Petite\",\n\"Tops\",\n\"Sweaters\",\n{\n            'v': 3,\n            'f': \"3\",\n        },\n{\n            'v': 109,\n            'f': \"109\",\n        }]],\n        columns: [[\"number\", \"index\"], [\"number\", \"Review ID\"], [\"number\", \"Clothing ID\"], [\"number\", \"Age\"], [\"string\", \"Title\"], [\"string\", \"Review Text\"], [\"number\", \"Rating\"], [\"number\", \"Recommended IND\"], [\"number\", \"Positive Feedback Count\"], [\"string\", \"Division Name\"], [\"string\", \"Department Name\"], [\"string\", \"Class Name\"], [\"number\", \"Title Length\"], [\"number\", \"Review Length\"]],\n        columnOptions: [{\"width\": \"1px\", \"className\": \"index_column\"}],\n        rowsPerPage: 25,\n        helpUrl: \"https://colab.research.google.com/notebooks/data_table.ipynb\",\n        suppressOutputScrolling: true,\n        minimumWidth: undefined,\n      });\n    ",
            "text/html": [
              "\n",
              "  <div id=\"df-4ee87623-baa3-4cf2-bfc3-534596ae0da3\">\n",
              "    <div class=\"colab-df-container\">\n",
              "      <div>\n",
              "<style scoped>\n",
              "    .dataframe tbody tr th:only-of-type {\n",
              "        vertical-align: middle;\n",
              "    }\n",
              "\n",
              "    .dataframe tbody tr th {\n",
              "        vertical-align: top;\n",
              "    }\n",
              "\n",
              "    .dataframe thead th {\n",
              "        text-align: right;\n",
              "    }\n",
              "</style>\n",
              "<table border=\"1\" class=\"dataframe\">\n",
              "  <thead>\n",
              "    <tr style=\"text-align: right;\">\n",
              "      <th></th>\n",
              "      <th>Review ID</th>\n",
              "      <th>Clothing ID</th>\n",
              "      <th>Age</th>\n",
              "      <th>Title</th>\n",
              "      <th>Review Text</th>\n",
              "      <th>Rating</th>\n",
              "      <th>Recommended IND</th>\n",
              "      <th>Positive Feedback Count</th>\n",
              "      <th>Division Name</th>\n",
              "      <th>Department Name</th>\n",
              "      <th>Class Name</th>\n",
              "      <th>Title Length</th>\n",
              "      <th>Review Length</th>\n",
              "    </tr>\n",
              "  </thead>\n",
              "  <tbody>\n",
              "    <tr>\n",
              "      <th>930</th>\n",
              "      <td>17909</td>\n",
              "      <td>861</td>\n",
              "      <td>43</td>\n",
              "      <td>Fit off</td>\n",
              "      <td>I got a medium as i usually wear that in every...</td>\n",
              "      <td>3</td>\n",
              "      <td>1</td>\n",
              "      <td>9</td>\n",
              "      <td>General</td>\n",
              "      <td>Tops</td>\n",
              "      <td>Knits</td>\n",
              "      <td>2</td>\n",
              "      <td>114</td>\n",
              "    </tr>\n",
              "    <tr>\n",
              "      <th>2108</th>\n",
              "      <td>15096</td>\n",
              "      <td>881</td>\n",
              "      <td>21</td>\n",
              "      <td>Pretty but the doesn't fit right.</td>\n",
              "      <td>Alright, so i really love this shirt. but i am...</td>\n",
              "      <td>4</td>\n",
              "      <td>1</td>\n",
              "      <td>4</td>\n",
              "      <td>General</td>\n",
              "      <td>Tops</td>\n",
              "      <td>Knits</td>\n",
              "      <td>6</td>\n",
              "      <td>113</td>\n",
              "    </tr>\n",
              "    <tr>\n",
              "      <th>1644</th>\n",
              "      <td>6368</td>\n",
              "      <td>1059</td>\n",
              "      <td>52</td>\n",
              "      <td>Dress them up or down</td>\n",
              "      <td>Let me talk about the fit. i am a size 6 petit...</td>\n",
              "      <td>5</td>\n",
              "      <td>1</td>\n",
              "      <td>5</td>\n",
              "      <td>General</td>\n",
              "      <td>Bottoms</td>\n",
              "      <td>Pants</td>\n",
              "      <td>5</td>\n",
              "      <td>113</td>\n",
              "    </tr>\n",
              "    <tr>\n",
              "      <th>2177</th>\n",
              "      <td>18708</td>\n",
              "      <td>872</td>\n",
              "      <td>27</td>\n",
              "      <td>Perfect light weight sweater</td>\n",
              "      <td>I ordered the cream colored duster after purch...</td>\n",
              "      <td>5</td>\n",
              "      <td>1</td>\n",
              "      <td>0</td>\n",
              "      <td>General</td>\n",
              "      <td>Tops</td>\n",
              "      <td>Knits</td>\n",
              "      <td>4</td>\n",
              "      <td>113</td>\n",
              "    </tr>\n",
              "    <tr>\n",
              "      <th>517</th>\n",
              "      <td>12466</td>\n",
              "      <td>927</td>\n",
              "      <td>36</td>\n",
              "      <td>Love this vest</td>\n",
              "      <td>I have been looking for a vest this winter and...</td>\n",
              "      <td>5</td>\n",
              "      <td>1</td>\n",
              "      <td>2</td>\n",
              "      <td>General Petite</td>\n",
              "      <td>Tops</td>\n",
              "      <td>Sweaters</td>\n",
              "      <td>3</td>\n",
              "      <td>109</td>\n",
              "    </tr>\n",
              "  </tbody>\n",
              "</table>\n",
              "</div>\n",
              "      <button class=\"colab-df-convert\" onclick=\"convertToInteractive('df-4ee87623-baa3-4cf2-bfc3-534596ae0da3')\"\n",
              "              title=\"Convert this dataframe to an interactive table.\"\n",
              "              style=\"display:none;\">\n",
              "        \n",
              "  <svg xmlns=\"http://www.w3.org/2000/svg\" height=\"24px\"viewBox=\"0 0 24 24\"\n",
              "       width=\"24px\">\n",
              "    <path d=\"M0 0h24v24H0V0z\" fill=\"none\"/>\n",
              "    <path d=\"M18.56 5.44l.94 2.06.94-2.06 2.06-.94-2.06-.94-.94-2.06-.94 2.06-2.06.94zm-11 1L8.5 8.5l.94-2.06 2.06-.94-2.06-.94L8.5 2.5l-.94 2.06-2.06.94zm10 10l.94 2.06.94-2.06 2.06-.94-2.06-.94-.94-2.06-.94 2.06-2.06.94z\"/><path d=\"M17.41 7.96l-1.37-1.37c-.4-.4-.92-.59-1.43-.59-.52 0-1.04.2-1.43.59L10.3 9.45l-7.72 7.72c-.78.78-.78 2.05 0 2.83L4 21.41c.39.39.9.59 1.41.59.51 0 1.02-.2 1.41-.59l7.78-7.78 2.81-2.81c.8-.78.8-2.07 0-2.86zM5.41 20L4 18.59l7.72-7.72 1.47 1.35L5.41 20z\"/>\n",
              "  </svg>\n",
              "      </button>\n",
              "      \n",
              "  <style>\n",
              "    .colab-df-container {\n",
              "      display:flex;\n",
              "      flex-wrap:wrap;\n",
              "      gap: 12px;\n",
              "    }\n",
              "\n",
              "    .colab-df-convert {\n",
              "      background-color: #E8F0FE;\n",
              "      border: none;\n",
              "      border-radius: 50%;\n",
              "      cursor: pointer;\n",
              "      display: none;\n",
              "      fill: #1967D2;\n",
              "      height: 32px;\n",
              "      padding: 0 0 0 0;\n",
              "      width: 32px;\n",
              "    }\n",
              "\n",
              "    .colab-df-convert:hover {\n",
              "      background-color: #E2EBFA;\n",
              "      box-shadow: 0px 1px 2px rgba(60, 64, 67, 0.3), 0px 1px 3px 1px rgba(60, 64, 67, 0.15);\n",
              "      fill: #174EA6;\n",
              "    }\n",
              "\n",
              "    [theme=dark] .colab-df-convert {\n",
              "      background-color: #3B4455;\n",
              "      fill: #D2E3FC;\n",
              "    }\n",
              "\n",
              "    [theme=dark] .colab-df-convert:hover {\n",
              "      background-color: #434B5C;\n",
              "      box-shadow: 0px 1px 3px 1px rgba(0, 0, 0, 0.15);\n",
              "      filter: drop-shadow(0px 1px 2px rgba(0, 0, 0, 0.3));\n",
              "      fill: #FFFFFF;\n",
              "    }\n",
              "  </style>\n",
              "\n",
              "      <script>\n",
              "        const buttonEl =\n",
              "          document.querySelector('#df-4ee87623-baa3-4cf2-bfc3-534596ae0da3 button.colab-df-convert');\n",
              "        buttonEl.style.display =\n",
              "          google.colab.kernel.accessAllowed ? 'block' : 'none';\n",
              "\n",
              "        async function convertToInteractive(key) {\n",
              "          const element = document.querySelector('#df-4ee87623-baa3-4cf2-bfc3-534596ae0da3');\n",
              "          const dataTable =\n",
              "            await google.colab.kernel.invokeFunction('convertToInteractive',\n",
              "                                                     [key], {});\n",
              "          if (!dataTable) return;\n",
              "\n",
              "          const docLinkHtml = 'Like what you see? Visit the ' +\n",
              "            '<a target=\"_blank\" href=https://colab.research.google.com/notebooks/data_table.ipynb>data table notebook</a>'\n",
              "            + ' to learn more about interactive tables.';\n",
              "          element.innerHTML = '';\n",
              "          dataTable['output_type'] = 'display_data';\n",
              "          await google.colab.output.renderOutput(dataTable, element);\n",
              "          const docLink = document.createElement('div');\n",
              "          docLink.innerHTML = docLinkHtml;\n",
              "          element.appendChild(docLink);\n",
              "        }\n",
              "      </script>\n",
              "    </div>\n",
              "  </div>\n",
              "  "
            ],
            "text/plain": [
              "      Review ID  Clothing ID  Age                              Title  \\\n",
              "930       17909          861   43                            Fit off   \n",
              "2108      15096          881   21  Pretty but the doesn't fit right.   \n",
              "1644       6368         1059   52              Dress them up or down   \n",
              "2177      18708          872   27       Perfect light weight sweater   \n",
              "517       12466          927   36                     Love this vest   \n",
              "\n",
              "                                            Review Text  Rating  \\\n",
              "930   I got a medium as i usually wear that in every...       3   \n",
              "2108  Alright, so i really love this shirt. but i am...       4   \n",
              "1644  Let me talk about the fit. i am a size 6 petit...       5   \n",
              "2177  I ordered the cream colored duster after purch...       5   \n",
              "517   I have been looking for a vest this winter and...       5   \n",
              "\n",
              "      Recommended IND  Positive Feedback Count   Division Name  \\\n",
              "930                 1                        9         General   \n",
              "2108                1                        4         General   \n",
              "1644                1                        5         General   \n",
              "2177                1                        0         General   \n",
              "517                 1                        2  General Petite   \n",
              "\n",
              "     Department Name Class Name  Title Length  Review Length  \n",
              "930             Tops      Knits             2            114  \n",
              "2108            Tops      Knits             6            113  \n",
              "1644         Bottoms      Pants             5            113  \n",
              "2177            Tops      Knits             4            113  \n",
              "517             Tops   Sweaters             3            109  "
            ]
          },
          "metadata": {},
          "execution_count": 93
        }
      ]
    },
    {
      "cell_type": "markdown",
      "source": [
        "💡 Seems like longest reviews are truncated :/ also in original file :("
      ],
      "metadata": {
        "id": "ohyV7wGqwUvg"
      }
    },
    {
      "cell_type": "code",
      "source": [
        "data_table.disable_dataframe_formatter()\n",
        "df.sort_values('Review Length', ascending=True).head(10)"
      ],
      "metadata": {
        "colab": {
          "base_uri": "https://localhost:8080/"
        },
        "id": "9BpUyhUPwYEQ",
        "outputId": "2bbae4d7-8b3a-48bd-a68d-434e1baa0c11"
      },
      "execution_count": null,
      "outputs": [
        {
          "output_type": "execute_result",
          "data": {
            "text/html": [
              "\n",
              "  <div id=\"df-9843ae21-807f-410a-81d0-9f4f0b71df80\">\n",
              "    <div class=\"colab-df-container\">\n",
              "      <div>\n",
              "<style scoped>\n",
              "    .dataframe tbody tr th:only-of-type {\n",
              "        vertical-align: middle;\n",
              "    }\n",
              "\n",
              "    .dataframe tbody tr th {\n",
              "        vertical-align: top;\n",
              "    }\n",
              "\n",
              "    .dataframe thead th {\n",
              "        text-align: right;\n",
              "    }\n",
              "</style>\n",
              "<table border=\"1\" class=\"dataframe\">\n",
              "  <thead>\n",
              "    <tr style=\"text-align: right;\">\n",
              "      <th></th>\n",
              "      <th>Review ID</th>\n",
              "      <th>Clothing ID</th>\n",
              "      <th>Age</th>\n",
              "      <th>Title</th>\n",
              "      <th>Review Text</th>\n",
              "      <th>Rating</th>\n",
              "      <th>Recommended IND</th>\n",
              "      <th>Positive Feedback Count</th>\n",
              "      <th>Division Name</th>\n",
              "      <th>Department Name</th>\n",
              "      <th>Class Name</th>\n",
              "      <th>Title Length</th>\n",
              "      <th>Review Length</th>\n",
              "    </tr>\n",
              "  </thead>\n",
              "  <tbody>\n",
              "    <tr>\n",
              "      <th>1216</th>\n",
              "      <td>4274</td>\n",
              "      <td>857</td>\n",
              "      <td>55</td>\n",
              "      <td></td>\n",
              "      <td>Love this top!</td>\n",
              "      <td>5</td>\n",
              "      <td>1</td>\n",
              "      <td>1</td>\n",
              "      <td>General</td>\n",
              "      <td>Tops</td>\n",
              "      <td>Knits</td>\n",
              "      <td>0</td>\n",
              "      <td>3</td>\n",
              "    </tr>\n",
              "    <tr>\n",
              "      <th>2311</th>\n",
              "      <td>22325</td>\n",
              "      <td>1077</td>\n",
              "      <td>46</td>\n",
              "      <td></td>\n",
              "      <td>Love this dress, beautiful!</td>\n",
              "      <td>5</td>\n",
              "      <td>1</td>\n",
              "      <td>0</td>\n",
              "      <td>General Petite</td>\n",
              "      <td>Dresses</td>\n",
              "      <td>Dresses</td>\n",
              "      <td>0</td>\n",
              "      <td>4</td>\n",
              "    </tr>\n",
              "    <tr>\n",
              "      <th>474</th>\n",
              "      <td>4888</td>\n",
              "      <td>826</td>\n",
              "      <td>41</td>\n",
              "      <td>Absolutely beautiful</td>\n",
              "      <td>Got the green one</td>\n",
              "      <td>5</td>\n",
              "      <td>1</td>\n",
              "      <td>0</td>\n",
              "      <td>General Petite</td>\n",
              "      <td>Tops</td>\n",
              "      <td>Blouses</td>\n",
              "      <td>2</td>\n",
              "      <td>4</td>\n",
              "    </tr>\n",
              "    <tr>\n",
              "      <th>51</th>\n",
              "      <td>8740</td>\n",
              "      <td>952</td>\n",
              "      <td>43</td>\n",
              "      <td>Lovely sweater!</td>\n",
              "      <td>This is a beautiful sweater.</td>\n",
              "      <td>5</td>\n",
              "      <td>1</td>\n",
              "      <td>0</td>\n",
              "      <td>General</td>\n",
              "      <td>Tops</td>\n",
              "      <td>Sweaters</td>\n",
              "      <td>2</td>\n",
              "      <td>5</td>\n",
              "    </tr>\n",
              "    <tr>\n",
              "      <th>1318</th>\n",
              "      <td>7966</td>\n",
              "      <td>862</td>\n",
              "      <td>63</td>\n",
              "      <td>Basic go to</td>\n",
              "      <td>Love the feel and comfort</td>\n",
              "      <td>3</td>\n",
              "      <td>1</td>\n",
              "      <td>0</td>\n",
              "      <td>General Petite</td>\n",
              "      <td>Tops</td>\n",
              "      <td>Knits</td>\n",
              "      <td>3</td>\n",
              "      <td>5</td>\n",
              "    </tr>\n",
              "    <tr>\n",
              "      <th>932</th>\n",
              "      <td>21640</td>\n",
              "      <td>1109</td>\n",
              "      <td>32</td>\n",
              "      <td>Soft and easy</td>\n",
              "      <td>Fits well, soft and comfortable</td>\n",
              "      <td>5</td>\n",
              "      <td>1</td>\n",
              "      <td>0</td>\n",
              "      <td>General Petite</td>\n",
              "      <td>Dresses</td>\n",
              "      <td>Dresses</td>\n",
              "      <td>3</td>\n",
              "      <td>5</td>\n",
              "    </tr>\n",
              "    <tr>\n",
              "      <th>687</th>\n",
              "      <td>8493</td>\n",
              "      <td>861</td>\n",
              "      <td>63</td>\n",
              "      <td>Easy</td>\n",
              "      <td>Easy, breezy comfortable light weight tee</td>\n",
              "      <td>5</td>\n",
              "      <td>1</td>\n",
              "      <td>0</td>\n",
              "      <td>General</td>\n",
              "      <td>Tops</td>\n",
              "      <td>Knits</td>\n",
              "      <td>1</td>\n",
              "      <td>6</td>\n",
              "    </tr>\n",
              "    <tr>\n",
              "      <th>909</th>\n",
              "      <td>23240</td>\n",
              "      <td>859</td>\n",
              "      <td>53</td>\n",
              "      <td>Super cute top</td>\n",
              "      <td>Very comfortable, flattering, washes nicely- l...</td>\n",
              "      <td>4</td>\n",
              "      <td>1</td>\n",
              "      <td>1</td>\n",
              "      <td>General</td>\n",
              "      <td>Tops</td>\n",
              "      <td>Knits</td>\n",
              "      <td>3</td>\n",
              "      <td>7</td>\n",
              "    </tr>\n",
              "    <tr>\n",
              "      <th>574</th>\n",
              "      <td>976</td>\n",
              "      <td>154</td>\n",
              "      <td>48</td>\n",
              "      <td>Cozy comfy beautiful top</td>\n",
              "      <td>I was initially attracted to the colors</td>\n",
              "      <td>5</td>\n",
              "      <td>1</td>\n",
              "      <td>1</td>\n",
              "      <td>Initmates</td>\n",
              "      <td>Intimate</td>\n",
              "      <td>Sleep</td>\n",
              "      <td>4</td>\n",
              "      <td>7</td>\n",
              "    </tr>\n",
              "    <tr>\n",
              "      <th>110</th>\n",
              "      <td>19092</td>\n",
              "      <td>879</td>\n",
              "      <td>32</td>\n",
              "      <td></td>\n",
              "      <td>Love this top! so soft, fits perfect.</td>\n",
              "      <td>5</td>\n",
              "      <td>1</td>\n",
              "      <td>1</td>\n",
              "      <td>General</td>\n",
              "      <td>Tops</td>\n",
              "      <td>Knits</td>\n",
              "      <td>0</td>\n",
              "      <td>7</td>\n",
              "    </tr>\n",
              "  </tbody>\n",
              "</table>\n",
              "</div>\n",
              "      <button class=\"colab-df-convert\" onclick=\"convertToInteractive('df-9843ae21-807f-410a-81d0-9f4f0b71df80')\"\n",
              "              title=\"Convert this dataframe to an interactive table.\"\n",
              "              style=\"display:none;\">\n",
              "        \n",
              "  <svg xmlns=\"http://www.w3.org/2000/svg\" height=\"24px\"viewBox=\"0 0 24 24\"\n",
              "       width=\"24px\">\n",
              "    <path d=\"M0 0h24v24H0V0z\" fill=\"none\"/>\n",
              "    <path d=\"M18.56 5.44l.94 2.06.94-2.06 2.06-.94-2.06-.94-.94-2.06-.94 2.06-2.06.94zm-11 1L8.5 8.5l.94-2.06 2.06-.94-2.06-.94L8.5 2.5l-.94 2.06-2.06.94zm10 10l.94 2.06.94-2.06 2.06-.94-2.06-.94-.94-2.06-.94 2.06-2.06.94z\"/><path d=\"M17.41 7.96l-1.37-1.37c-.4-.4-.92-.59-1.43-.59-.52 0-1.04.2-1.43.59L10.3 9.45l-7.72 7.72c-.78.78-.78 2.05 0 2.83L4 21.41c.39.39.9.59 1.41.59.51 0 1.02-.2 1.41-.59l7.78-7.78 2.81-2.81c.8-.78.8-2.07 0-2.86zM5.41 20L4 18.59l7.72-7.72 1.47 1.35L5.41 20z\"/>\n",
              "  </svg>\n",
              "      </button>\n",
              "      \n",
              "  <style>\n",
              "    .colab-df-container {\n",
              "      display:flex;\n",
              "      flex-wrap:wrap;\n",
              "      gap: 12px;\n",
              "    }\n",
              "\n",
              "    .colab-df-convert {\n",
              "      background-color: #E8F0FE;\n",
              "      border: none;\n",
              "      border-radius: 50%;\n",
              "      cursor: pointer;\n",
              "      display: none;\n",
              "      fill: #1967D2;\n",
              "      height: 32px;\n",
              "      padding: 0 0 0 0;\n",
              "      width: 32px;\n",
              "    }\n",
              "\n",
              "    .colab-df-convert:hover {\n",
              "      background-color: #E2EBFA;\n",
              "      box-shadow: 0px 1px 2px rgba(60, 64, 67, 0.3), 0px 1px 3px 1px rgba(60, 64, 67, 0.15);\n",
              "      fill: #174EA6;\n",
              "    }\n",
              "\n",
              "    [theme=dark] .colab-df-convert {\n",
              "      background-color: #3B4455;\n",
              "      fill: #D2E3FC;\n",
              "    }\n",
              "\n",
              "    [theme=dark] .colab-df-convert:hover {\n",
              "      background-color: #434B5C;\n",
              "      box-shadow: 0px 1px 3px 1px rgba(0, 0, 0, 0.15);\n",
              "      filter: drop-shadow(0px 1px 2px rgba(0, 0, 0, 0.3));\n",
              "      fill: #FFFFFF;\n",
              "    }\n",
              "  </style>\n",
              "\n",
              "      <script>\n",
              "        const buttonEl =\n",
              "          document.querySelector('#df-9843ae21-807f-410a-81d0-9f4f0b71df80 button.colab-df-convert');\n",
              "        buttonEl.style.display =\n",
              "          google.colab.kernel.accessAllowed ? 'block' : 'none';\n",
              "\n",
              "        async function convertToInteractive(key) {\n",
              "          const element = document.querySelector('#df-9843ae21-807f-410a-81d0-9f4f0b71df80');\n",
              "          const dataTable =\n",
              "            await google.colab.kernel.invokeFunction('convertToInteractive',\n",
              "                                                     [key], {});\n",
              "          if (!dataTable) return;\n",
              "\n",
              "          const docLinkHtml = 'Like what you see? Visit the ' +\n",
              "            '<a target=\"_blank\" href=https://colab.research.google.com/notebooks/data_table.ipynb>data table notebook</a>'\n",
              "            + ' to learn more about interactive tables.';\n",
              "          element.innerHTML = '';\n",
              "          dataTable['output_type'] = 'display_data';\n",
              "          await google.colab.output.renderOutput(dataTable, element);\n",
              "          const docLink = document.createElement('div');\n",
              "          docLink.innerHTML = docLinkHtml;\n",
              "          element.appendChild(docLink);\n",
              "        }\n",
              "      </script>\n",
              "    </div>\n",
              "  </div>\n",
              "  "
            ],
            "text/plain": [
              "      Review ID  Clothing ID  Age                     Title  \\\n",
              "1216       4274          857   55                             \n",
              "2311      22325         1077   46                             \n",
              "474        4888          826   41      Absolutely beautiful   \n",
              "51         8740          952   43           Lovely sweater!   \n",
              "1318       7966          862   63               Basic go to   \n",
              "932       21640         1109   32             Soft and easy   \n",
              "687        8493          861   63                      Easy   \n",
              "909       23240          859   53            Super cute top   \n",
              "574         976          154   48  Cozy comfy beautiful top   \n",
              "110       19092          879   32                             \n",
              "\n",
              "                                            Review Text  Rating  \\\n",
              "1216                                     Love this top!       5   \n",
              "2311                        Love this dress, beautiful!       5   \n",
              "474                                   Got the green one       5   \n",
              "51                         This is a beautiful sweater.       5   \n",
              "1318                          Love the feel and comfort       3   \n",
              "932                     Fits well, soft and comfortable       5   \n",
              "687           Easy, breezy comfortable light weight tee       5   \n",
              "909   Very comfortable, flattering, washes nicely- l...       4   \n",
              "574             I was initially attracted to the colors       5   \n",
              "110               Love this top! so soft, fits perfect.       5   \n",
              "\n",
              "      Recommended IND  Positive Feedback Count   Division Name  \\\n",
              "1216                1                        1         General   \n",
              "2311                1                        0  General Petite   \n",
              "474                 1                        0  General Petite   \n",
              "51                  1                        0         General   \n",
              "1318                1                        0  General Petite   \n",
              "932                 1                        0  General Petite   \n",
              "687                 1                        0         General   \n",
              "909                 1                        1         General   \n",
              "574                 1                        1       Initmates   \n",
              "110                 1                        1         General   \n",
              "\n",
              "     Department Name Class Name  Title Length  Review Length  \n",
              "1216            Tops      Knits             0              3  \n",
              "2311         Dresses    Dresses             0              4  \n",
              "474             Tops    Blouses             2              4  \n",
              "51              Tops   Sweaters             2              5  \n",
              "1318            Tops      Knits             3              5  \n",
              "932          Dresses    Dresses             3              5  \n",
              "687             Tops      Knits             1              6  \n",
              "909             Tops      Knits             3              7  \n",
              "574         Intimate      Sleep             4              7  \n",
              "110             Tops      Knits             0              7  "
            ]
          },
          "metadata": {},
          "execution_count": 94
        }
      ]
    },
    {
      "cell_type": "markdown",
      "source": [
        "💡 Review is 'Very pretty, romantic' and rating is 3 :/ "
      ],
      "metadata": {
        "id": "dLGFI_7rxLdI"
      }
    },
    {
      "cell_type": "markdown",
      "source": [
        "# Fix potential HTML"
      ],
      "metadata": {
        "id": "0kT-VaS066u0"
      }
    },
    {
      "cell_type": "code",
      "source": [
        "df['Review Text'] = df['Review Text'].apply(lambda x: BeautifulSoup(x).get_text(separator=' ')) \n",
        "df['Title'] = df['Title'].apply(lambda x: BeautifulSoup(x).get_text(separator=' ')) "
      ],
      "metadata": {
        "id": "gTg5J-Ia69TP"
      },
      "execution_count": null,
      "outputs": []
    },
    {
      "cell_type": "markdown",
      "source": [
        "# Check unwanted characters"
      ],
      "metadata": {
        "id": "QhlupnBqtaxu"
      }
    },
    {
      "cell_type": "code",
      "source": [
        "characters = ['#', '&', '@', '_']\n",
        "for c in characters:\n",
        "  print(c, df['Review Text'].str.contains(c).sum())"
      ],
      "metadata": {
        "colab": {
          "base_uri": "https://localhost:8080/"
        },
        "id": "ClwtjOl-38hz",
        "outputId": "60b121d1-c560-43fa-97d0-319a908e5fa6"
      },
      "execution_count": null,
      "outputs": [
        {
          "output_type": "stream",
          "name": "stdout",
          "text": [
            "# 27\n",
            "& 50\n",
            "@ 1\n",
            "_ 4\n"
          ]
        }
      ]
    },
    {
      "cell_type": "code",
      "source": [
        "for x in df[df['Review Text'].str.contains('@')]['Review Text'][:10]:\n",
        "  print(x)\n",
        "  print('--------------------------------------')"
      ],
      "metadata": {
        "colab": {
          "base_uri": "https://localhost:8080/"
        },
        "id": "fqNZYvxMtnka",
        "outputId": "c7c343b8-95b0-4c0f-aec9-7486b6facb0e"
      },
      "execution_count": null,
      "outputs": [
        {
          "output_type": "stream",
          "name": "stdout",
          "text": [
            "I ordered this a little big because the smallest size that they had was a medium. i probably could have gone with a small, but given that i am a 34d on top (and @ a size 2 on the bottom & @ 120lbs), the medium fits me just fine. it is super soft, and you can wear it with just about anything. keep in mind that your midriff may show a bit depending on how high your bottoms are. however, i paired it with a white pair of skinny jeans with a cute belt (so a teeny bit of my midriff was showing at time\n",
            "--------------------------------------\n"
          ]
        }
      ]
    },
    {
      "cell_type": "markdown",
      "source": [
        "💡 somewhere @ means 'at', somewhere can be removed"
      ],
      "metadata": {
        "id": "fkTk5Od-wZAT"
      }
    },
    {
      "cell_type": "code",
      "source": [
        "for x in df[df['Review Text'].str.contains('#')]['Review Text'][:10]:\n",
        "  print(x)\n",
        "  print('--------------------------------------')"
      ],
      "metadata": {
        "colab": {
          "base_uri": "https://localhost:8080/"
        },
        "id": "8OIyFNboxfe5",
        "outputId": "e36a4d7a-1b02-4b45-f1ba-884d81aef464"
      },
      "execution_count": null,
      "outputs": [
        {
          "output_type": "stream",
          "name": "stdout",
          "text": [
            "Love the look and quality of this jacket. i&#39;d say it fits true to size but it is way too short for me (i&#39;m just under 6&#39; tall). wish these came in tall sizes!\n",
            "--------------------------------------\n",
            "I bought this sweater in the lovely lilac and black. the sweater is a typical cotton weave in the front with more of a t-shirt material on the back. the drape is lovely after a quick iron. swingy with a flirty neckline. my middle us still recovering from baby #2 and this does a nice job of covering the bump. interestingly, i think they went overboard on the fabric and pleats and i could easily have down sized from a large (wear size 12) to a medium.\n",
            "--------------------------------------\n",
            "I had my eye on this for a while, and my store finally got it in (in tmie for the 40% off sweaters). too bad hte petite size was already sold out by then, however good thing isthe xs stil lfit me in a nice way. i wil lnever know about petite, decided to jsut purchase as is (they don't have xxs either#. the fit is on hte looser comfortable side. the red color is rich, and the design is subtle, adn will nto fall apart, so it add some interest to an otherwise typical pullover. will look nice with j\n",
            "--------------------------------------\n",
            "I bought this dress in a medium petite. i'm 5'2 and 140#. it fit great and made my waist look really tiny. i cannot wait the dress with heels or else you would see the entire shoe. it works perfect with flat sandals. i've received tons of compliments! you can also wear a normal bra with the dress. love it!\n",
            "--------------------------------------\n",
            "The skirt material is super comfortable. hte cut is also pretty flattering, i don't hink this picture does the skirt justice. the regualr size was a little long on me, i would order a petite (if like me, you are 5'1.5\"#, went xs #at 115 lbs). the skirt is also a bit stretchy, not stiff. color is way prettier in person, i never looked twice at th skirt online, but in the store, it looked myuch prettier.\n",
            "--------------------------------------\n",
            "This blouse is a perfect creation: perfect-weight cotton, many, many details, and color, all perfectly executed. there's fullness to the body, so this will definitely be easy to wear in hot, humid locations this summer, and it would be easy to pair with many things you have already for a casual yet collected look. there's no mistaking quality when you look at this piece! i bought the medium for my 130#, 34f, size 8 blouse/tee frame. this is the blouse you will have for years, and you will enjoy\n",
            "--------------------------------------\n",
            "I really liked this dress online and i loved it in person. the print is different, the waist is synched, skirt is full. has a very feminine shape. definitely a special piece. runs large. i'm usually a 6 in dresses and an 8 in skirts. i'm 5-5\" 136#s, 34c and then 6 was noticeably too big. size 4 fit perfect (and i'm no size 4). no sleeves will make if easy to add a denim jacket or a cardigan. it hits approx 3-4\" above the knees, but has a conservative high neckline and back is covered. good quali\n",
            "--------------------------------------\n",
            "This dress is so soft and cozy and pretty. love the shine and interesting sheen whenever you move. very comfortable and looks great with a variety of layers. i want to buy more colors but right now i just have the mauve. ordered size m and i'm 38-27-35 #135.\n",
            "--------------------------------------\n",
            "This jacket has a nautical look which is a refreshing change for this year. it is double breasted & a stretchy cotton, which i love. i am a big fan of cotton. it appealed to me so much that i ordered both the white & the navy in the regular size small. i am of small build at 5'3\", 117# & expected that the sleeves c/b a little long. i avoid ordering petite size jackets b/c sometimes they are snug in the shoulders. ok, so the regular s was a good length at the bottom of my hips, but arms were bagg\n",
            "--------------------------------------\n",
            "So i ordered this because i like amadi dreses in general, and was curious how hte long one would fit. i do love it, it is really comfortable. color is pretty neitral, material is thick enough for fall, california winters and cold spring days. can be dressed up a little with nice heeled booties. i am less than 5'2\" (115 lbs if curious# and this worked on me #petite, xs). i say go for it!\n",
            "--------------------------------------\n"
          ]
        }
      ]
    },
    {
      "cell_type": "markdown",
      "source": [
        "💡 1. most commonly # goes after number, in most cases it is related to weight (in pounds(lbs)), replace with lbs ⚡</br>\n",
        "2. `&#39;` represents single quote, which should be replaced ⚡"
      ],
      "metadata": {
        "id": "bUNEFedyxyTd"
      }
    },
    {
      "cell_type": "code",
      "source": [
        "df['Review Text']  = df['Review Text'].apply(lambda x: regex.sub(r'(?<=[0-9]+)#', ' lbs', x))\n",
        "df['Review Text'] = df['Review Text'].apply(lambda x: x.replace(\"amp;\", \"\"))\n",
        "df['Review Text'] = df['Review Text'].apply(lambda x: x.replace(\"&#39;\", \"'\")) "
      ],
      "metadata": {
        "id": "euHIcgKy0PFe"
      },
      "execution_count": null,
      "outputs": []
    },
    {
      "cell_type": "markdown",
      "source": [
        "# Check links"
      ],
      "metadata": {
        "id": "G8gHdALg9Dq6"
      }
    },
    {
      "cell_type": "code",
      "source": [
        "print('http in title >>', df['Review Text'].str.contains('http').sum())\n",
        "print('http in review >>', df['Review Text'].str.contains('http').sum())"
      ],
      "metadata": {
        "colab": {
          "base_uri": "https://localhost:8080/"
        },
        "id": "eZpuhtu99FJ5",
        "outputId": "7636a0f8-f953-4719-e9ae-785f04c68250"
      },
      "execution_count": null,
      "outputs": [
        {
          "output_type": "stream",
          "name": "stdout",
          "text": [
            "http in title >> 0\n",
            "http in review >> 0\n"
          ]
        }
      ]
    },
    {
      "cell_type": "markdown",
      "source": [
        "# Check non-ascii characters"
      ],
      "metadata": {
        "id": "3dZJEkt9zKY8"
      }
    },
    {
      "cell_type": "code",
      "source": [
        "df['Not ascii characters title'] = df['Title'].apply(lambda x: not x.isascii())\n",
        "df['Not ascii characters review'] = df['Review Text'].apply(lambda x: not x.isascii())\n",
        "\n",
        "print('Not ascii titles: ', str(round(len(df[df['Not ascii characters title']])/len(df)*100, 2)) + ' %')\n",
        "a = len(df[df['Not ascii characters review']])\n",
        "b = len(df)\n",
        "c = round(len(df[df['Not ascii characters review']])/len(df)*100, 2)\n",
        "print(f'Not ascii reviews: {a} / {b} = {c} %')"
      ],
      "metadata": {
        "colab": {
          "base_uri": "https://localhost:8080/"
        },
        "id": "wusNHaKXyA8d",
        "outputId": "e8aadc50-9feb-47ac-8b4c-3d2056942a8a"
      },
      "execution_count": null,
      "outputs": [
        {
          "output_type": "stream",
          "name": "stdout",
          "text": [
            "Not ascii titles:  0.0 %\n",
            "Not ascii reviews: 3 / 2262 = 0.13 %\n"
          ]
        }
      ]
    },
    {
      "cell_type": "code",
      "source": [
        "for x in df[df['Not ascii characters review']]['Review Text']:\n",
        "    print(x)\n",
        "    print('------------------------')"
      ],
      "metadata": {
        "colab": {
          "base_uri": "https://localhost:8080/"
        },
        "id": "2B7zp1pBNErP",
        "outputId": "6c9963ae-b404-4fe1-dfae-efda8ca9a26d"
      },
      "execution_count": null,
      "outputs": [
        {
          "output_type": "stream",
          "name": "stdout",
          "text": [
            "Love this top! it has a beautiful appliquã© that is reminiscent of many past retailer favorites. it's comfy, yet cute and fashionable.\n",
            "------------------------\n",
            "I loved this dress so much i bought in the cream/pink as well as the blue/teal. it is so light and easy to throw on. the slits are higher on me (i am 5'2) but not in a risquã© way. it's very flattering and gives it a little sassiness. i wish they had even more colors to choose from. that is how obsessed i am with it!\n",
            "------------------------\n",
            "The rest of the reviewers are right about the color being in accurately pictured. i ordered the dark orange color and i recieved more of a dark cedar brown colored jacket. the print is great, i love it! it's so different than any other jackets ive seen. while the jacket is ã¼ber cute, it is a bit bulky (though the waist tie helps with that) and its not heavy winter appropriate ( it's not waterproof or heavily insulated). for your average winter day though, it will be a fun option! the removable v\n",
            "------------------------\n"
          ]
        }
      ]
    },
    {
      "cell_type": "markdown",
      "source": [
        "💡 words with non-ascii characters: <br/>\n",
        "<br/>\n",
        "â â   x1 <br/>\n",
        "dã©colletã©   x1 <br/>\n",
        "appliquã©   x10 <br/> \n",
        "derriã©re   x1 <br/>\n",
        "ombrã©   x4<br/>\n",
        "derriã¨re   x4<br/>\n",
        "fiancã©   x1<br/>\n",
        "dã©colletage   x1<br/>\n",
        "risquã©   x1<br/>\n",
        "aprã¨s-ski   x1<br/>\n",
        "<br/>\n",
        "According to [this](https://www.i18nqa.com/debug/utf8-debug.html) source:<br/>\n",
        "ã© => é<br/>\n",
        "ã¨ => é<br/>\n",
        "<br/>\n",
        "⚡ <br/>\n",
        "â â => remove <br/>\n",
        "ã© and ã¨ => replace with simple e <br/>"
      ],
      "metadata": {
        "id": "uf7mxKzEMeTu"
      }
    },
    {
      "cell_type": "code",
      "source": [
        "df['Review Text'] = df['Review Text'].str.replace('â â', '')\n",
        "df['Review Text'] = df['Review Text'].str.replace('ã©', 'e')\n",
        "df['Review Text'] = df['Review Text'].str.replace('ã¨', 'e')"
      ],
      "metadata": {
        "id": "BSrsj2jATuba"
      },
      "execution_count": null,
      "outputs": []
    },
    {
      "cell_type": "code",
      "source": [
        "df['Not ascii characters review'] = df['Review Text'].apply(lambda x: not x.isascii())\n",
        "print(f'Not ascii reviews: ', len(df[df['Not ascii characters review']]))"
      ],
      "metadata": {
        "colab": {
          "base_uri": "https://localhost:8080/"
        },
        "id": "qaT-e7cwTMB_",
        "outputId": "fdb14ff2-9e5f-497c-f455-fedfd3fcbece"
      },
      "execution_count": null,
      "outputs": [
        {
          "output_type": "stream",
          "name": "stdout",
          "text": [
            "Not ascii reviews:  1\n"
          ]
        }
      ]
    },
    {
      "cell_type": "markdown",
      "source": [
        "# Check emojis"
      ],
      "metadata": {
        "id": "ltgkRg2yrUJn"
      }
    },
    {
      "cell_type": "code",
      "source": [
        "!pip install emot"
      ],
      "metadata": {
        "colab": {
          "base_uri": "https://localhost:8080/"
        },
        "id": "Pe0A7Rpr44H-",
        "outputId": "6b958c0c-95f3-44f3-b057-9e9dda7904d3"
      },
      "execution_count": null,
      "outputs": [
        {
          "output_type": "stream",
          "name": "stdout",
          "text": [
            "Requirement already satisfied: emot in /usr/local/lib/python3.7/dist-packages (3.1)\n"
          ]
        }
      ]
    },
    {
      "cell_type": "code",
      "source": [
        "import emot \n",
        "emot_obj = emot.core.emot()\n",
        "print('Emoji') \n",
        "print(emot_obj.emoji('🙂'))\n",
        "print('\\nNo emoji') \n",
        "print(emot_obj.emoji(' text '))\n",
        "print('\\nEmoticon') \n",
        "print(emot_obj.emoticons(' :) '))\n",
        "print('\\nNo emoticon') \n",
        "print(emot_obj.emoticons(' text '))"
      ],
      "metadata": {
        "colab": {
          "base_uri": "https://localhost:8080/"
        },
        "id": "oIH0z1Pj42ph",
        "outputId": "5fd0bcfb-8918-4a95-c945-b528230abcf9"
      },
      "execution_count": null,
      "outputs": [
        {
          "output_type": "stream",
          "name": "stdout",
          "text": [
            "Emoji\n",
            "{'value': ['🙂'], 'location': [[0, 1]], 'mean': [':slightly_smiling_face:'], 'flag': True}\n",
            "\n",
            "No emoji\n",
            "{'value': [], 'location': [], 'mean': [], 'flag': False}\n",
            "\n",
            "Emoticon\n",
            "{'value': [':)'], 'location': [[1, 3]], 'mean': ['Happy face or smiley'], 'flag': True}\n",
            "\n",
            "No emoticon\n",
            "{'value': [], 'location': [], 'mean': [], 'flag': False}\n"
          ]
        }
      ]
    },
    {
      "cell_type": "markdown",
      "source": [
        ""
      ],
      "metadata": {
        "id": "e6GBRwVTfenY"
      }
    },
    {
      "cell_type": "code",
      "source": [
        "df['Emoji in Title'] = df['Title'].apply(lambda x: emot_obj.emoji(x)['flag'])\n",
        "df['Emoji in Review Text'] = df['Review Text'].apply(lambda x: emot_obj.emoji(x)['flag'])\n",
        "df['Emoticons in Title'] = df['Title'].apply(lambda x: emot_obj.emoticons(x)['flag'])\n",
        "df['Emoticons in Review Text'] = df['Review Text'].apply(lambda x: emot_obj.emoticons(x)['flag'])\n",
        "\n",
        "print('Number of titles with emojis: ', len(df[df['Emoji in Title']]))\n",
        "print('Number of reviews with emojis: ', len(df[df['Emoji in Review Text']]))\n",
        "print('Number of titles with emoticons: ', len(df[df['Emoticons in Title']]))\n",
        "print('Number of reviews with emoticons: ', len(df[df['Emoticons in Review Text']]))"
      ],
      "metadata": {
        "colab": {
          "base_uri": "https://localhost:8080/"
        },
        "id": "Bjy81iGm5yNM",
        "outputId": "435caebe-ee76-483a-aeac-a1c227839414"
      },
      "execution_count": null,
      "outputs": [
        {
          "output_type": "stream",
          "name": "stdout",
          "text": [
            "Number of titles with emojis:  0\n",
            "Number of reviews with emojis:  0\n",
            "Number of titles with emoticons:  4\n",
            "Number of reviews with emoticons:  48\n"
          ]
        }
      ]
    },
    {
      "cell_type": "code",
      "source": [
        "def get_emoticons_dict(column):\n",
        "  emoticons_title_dict = {}\n",
        "  for x in df[df[f'Emoticons in {column}']][column]:\n",
        "    result = emot_obj.emoticons(x)\n",
        "    for emoticon in result['value']:\n",
        "      if emoticon not in emoticons_title_dict:\n",
        "        emoticons_title_dict[emoticon] = []\n",
        "      emoticons_title_dict[emoticon].append(x)\n",
        "  return emoticons_title_dict\n",
        "\n",
        "def emoticons_to_count(emoticons_dict):\n",
        "  items = emoticons_dict.items()\n",
        "  items = [(item[0], len(item[1])) for item in items]\n",
        "  items = sorted(items, key=lambda x: x[1], reverse=True)\n",
        "  return items"
      ],
      "metadata": {
        "id": "liWLu1A16-eN"
      },
      "execution_count": null,
      "outputs": []
    },
    {
      "cell_type": "code",
      "source": [
        "emoticons_title_dict = get_emoticons_dict('Title')\n",
        "emoticons_to_count(emoticons_title_dict)"
      ],
      "metadata": {
        "id": "fFFjBnPWEYXF",
        "colab": {
          "base_uri": "https://localhost:8080/"
        },
        "outputId": "7f0fc244-e9ef-495e-b12d-868f00a4fecc"
      },
      "execution_count": null,
      "outputs": [
        {
          "output_type": "execute_result",
          "data": {
            "text/plain": [
              "[(':)', 2), (':(', 2)]"
            ]
          },
          "metadata": {},
          "execution_count": 109
        }
      ]
    },
    {
      "cell_type": "code",
      "source": [
        "top = 2\n",
        "for emoticon in emoticons_title_dict:\n",
        "  print(emoticon)\n",
        "  for sentence in emoticons_title_dict[emoticon][:top]: \n",
        "    print(sentence)\n",
        "  print('-------------------------------')"
      ],
      "metadata": {
        "id": "jymOhSJfF8Yg",
        "colab": {
          "base_uri": "https://localhost:8080/"
        },
        "outputId": "e13a8ba3-26de-4586-97d5-3138ae8eaa0e"
      },
      "execution_count": null,
      "outputs": [
        {
          "output_type": "stream",
          "name": "stdout",
          "text": [
            ":)\n",
            "Love this thing :)\n",
            "Lovely :)\n",
            "-------------------------------\n",
            ":(\n",
            "Tassels :(\n",
            "Not for big girls :(\n",
            "-------------------------------\n"
          ]
        }
      ]
    },
    {
      "cell_type": "markdown",
      "source": [
        "💡 Not all emojis detected with this library are valid!"
      ],
      "metadata": {
        "id": "0pES-Xc_EC6p"
      }
    },
    {
      "cell_type": "code",
      "source": [
        "emoticons_review_dict = get_emoticons_dict('Review Text')\n",
        "emoticons_to_count(emoticons_review_dict)"
      ],
      "metadata": {
        "id": "8bT-ziNpKKPv",
        "colab": {
          "base_uri": "https://localhost:8080/"
        },
        "outputId": "6000000e-169a-4b65-8ab8-2b81603840ba"
      },
      "execution_count": null,
      "outputs": [
        {
          "output_type": "execute_result",
          "data": {
            "text/plain": [
              "[(':(', 17), (':)', 16), (':-)', 6), (';)', 5), ('d:', 3), (':/', 1)]"
            ]
          },
          "metadata": {},
          "execution_count": 111
        }
      ]
    },
    {
      "cell_type": "code",
      "source": [
        "for emoticon in emoticons_review_dict:\n",
        "  if len(emoticons_review_dict[emoticon]) < 5:\n",
        "    print(emoticon)\n",
        "    for sentence in emoticons_review_dict[emoticon]: \n",
        "      print(sentence)\n",
        "    print('-------------------------------')"
      ],
      "metadata": {
        "id": "oIx_mS-0OmXG",
        "colab": {
          "base_uri": "https://localhost:8080/"
        },
        "outputId": "c7d8a52a-47e1-457a-a4e5-7d10f0751897"
      },
      "execution_count": null,
      "outputs": [
        {
          "output_type": "stream",
          "name": "stdout",
          "text": [
            "d:\n",
            "I'm: 34a, 125 lbs, 5'8\" purchased: small i was going back and forth between xs and s. i decided on small because it fit better in my arms, didn't feel as tight. the xs fit well in the torso area and didn't have as much fabric as the small. the small also had a longer shirt tail. if you don't have as much mass in the arms, get the xs. if you have some muscle or extra mass in the arms, it's better to go with the small.\n",
            "Swimsuit shopping can be the worst. it's difficult to find bathing suits that fit well and are flattering. this swim top is a winner. the straps are comfortable, and the scoop in the front was not too low for a 36d cup. the best part is the higher back! a lot of swimwear dips in the back, but this does not (read: eliminates the dreaded back fat). my only concern was that it isn't super supportive for larger busts, but i'm keeping it because i love the straps and how it flatters overall. this wou\n",
            "This shirt is made of fabric so soft you can practically feel it with your eyes. i saw it right when i walked into the store and knew that i had to have it. it is unlike any fabric i've ever had: a soft two-ply, almost gauzy cotton. one cute detail is that the \"inside\" layer is a smaller windowpane plaid than the outside layer. so cute! and so soft! one thickness above cheesecloth, i would say. and like cheesecloth, it has a natural \"give\" within the weave, but it is not stretchy. the shoulders\n",
            "-------------------------------\n",
            ":/\n",
            "Nice soft jeans, cute style, and i wish i could keep them...they just are too small on me. :/ not sure if i've gained weight (which i don't think i have because i had on a size 28 pair of pants today) but i ordered a size 29 in these jeans and they zipped but just too snug around the waist. i would honestly need a 30 or 31. looks like they are selling out quickly so i doubt i'll be able to get the size i need. if you have a small waist i think they would be fine but they don't fit my body type\n",
            "-------------------------------\n"
          ]
        }
      ]
    },
    {
      "cell_type": "code",
      "source": [
        "emoticon = 'd:'\n",
        "top = 5\n",
        "for sentence in emoticons_review_dict[emoticon][:top]:\n",
        "  print(sentence)\n",
        "  print('-------------------------------')"
      ],
      "metadata": {
        "id": "VD4FBsh-KilR",
        "colab": {
          "base_uri": "https://localhost:8080/"
        },
        "outputId": "10bc166a-01dc-4149-b71b-e4d872802557"
      },
      "execution_count": null,
      "outputs": [
        {
          "output_type": "stream",
          "name": "stdout",
          "text": [
            "I'm: 34a, 125 lbs, 5'8\" purchased: small i was going back and forth between xs and s. i decided on small because it fit better in my arms, didn't feel as tight. the xs fit well in the torso area and didn't have as much fabric as the small. the small also had a longer shirt tail. if you don't have as much mass in the arms, get the xs. if you have some muscle or extra mass in the arms, it's better to go with the small.\n",
            "-------------------------------\n",
            "Swimsuit shopping can be the worst. it's difficult to find bathing suits that fit well and are flattering. this swim top is a winner. the straps are comfortable, and the scoop in the front was not too low for a 36d cup. the best part is the higher back! a lot of swimwear dips in the back, but this does not (read: eliminates the dreaded back fat). my only concern was that it isn't super supportive for larger busts, but i'm keeping it because i love the straps and how it flatters overall. this wou\n",
            "-------------------------------\n",
            "This shirt is made of fabric so soft you can practically feel it with your eyes. i saw it right when i walked into the store and knew that i had to have it. it is unlike any fabric i've ever had: a soft two-ply, almost gauzy cotton. one cute detail is that the \"inside\" layer is a smaller windowpane plaid than the outside layer. so cute! and so soft! one thickness above cheesecloth, i would say. and like cheesecloth, it has a natural \"give\" within the weave, but it is not stretchy. the shoulders\n",
            "-------------------------------\n"
          ]
        }
      ]
    },
    {
      "cell_type": "code",
      "source": [
        "def fix_emoticons(row):\n",
        "  if row['Emoticons in Title']:\n",
        "    row['Title'] = row['Title'].replace('d:(', 'd :(')\n",
        "    row['Title'] = row['Title'].replace('=))', '=)')\n",
        "  if row['Emoticons in Review Text']:\n",
        "    row['Review Text'] = row['Review Text'].replace('d:(', 'd :(')\n",
        "    row['Review Text'] = row['Review Text'].replace('=))', '=)')\n",
        "  return row\n",
        "\n",
        "emoticons_to_ignore = ['=/', 'd:', '%)', '*)']\n",
        "\n",
        "def remove_emoticons(row):\n",
        "  if row['Emoticons in Title']:\n",
        "    result = emot_obj.emoticons(row['Title'])\n",
        "    for emoticon in result['value']:\n",
        "      if emoticon not in emoticons_to_ignore:\n",
        "        row['Title'] = row['Title'].replace(emoticon, ' ')\n",
        "  if row['Emoticons in Review Text']:\n",
        "    result = emot_obj.emoticons(row['Review Text'])\n",
        "    for emoticon in result['value']:\n",
        "      if emoticon not in emoticons_to_ignore:\n",
        "        row['Review Text'] = row['Review Text'].replace(emoticon, ' ')\n",
        "  return row\n",
        "\n",
        "def replace_emoticons(row):\n",
        "  if row['Emoticons in Title']:\n",
        "    result = emot_obj.emoticons(row['Title'])\n",
        "    for emoticon, meaning in zip(result['value'], result['mean']):\n",
        "      if emoticon not in emoticons_to_ignore:\n",
        "        row['Title'] = row['Title'].replace(emoticon, f' {meaning} ')\n",
        "  if row['Emoticons in Review Text']:\n",
        "    result = emot_obj.emoticons(row['Review Text'])\n",
        "    for emoticon, meaning in zip(result['value'], result['mean']):\n",
        "      if emoticon not in emoticons_to_ignore:\n",
        "        row['Review Text'] = row['Review Text'].replace(emoticon, f' {meaning} ')\n",
        "  return row\n",
        "\n",
        "df = df.apply(lambda row: fix_emoticons(row), axis=1)\n",
        "\n",
        "df_removed_emoticons = deepcopy(df)\n",
        "df_replaced_emoticons = deepcopy(df)\n",
        "df_removed_emoticons = df_removed_emoticons.apply(lambda row: remove_emoticons(row), axis=1)\n",
        "df_replaced_emoticons = df_replaced_emoticons.apply(lambda row: replace_emoticons(row), axis=1)"
      ],
      "metadata": {
        "id": "YAf-MT7STspp"
      },
      "execution_count": null,
      "outputs": []
    },
    {
      "cell_type": "code",
      "source": [
        "df[df['Emoticons in Title']]['Title'].head()"
      ],
      "metadata": {
        "id": "NAGWB4mYguCY",
        "colab": {
          "base_uri": "https://localhost:8080/"
        },
        "outputId": "9859cf6b-d271-4e28-e2ac-fa6548421b61"
      },
      "execution_count": null,
      "outputs": [
        {
          "output_type": "execute_result",
          "data": {
            "text/plain": [
              "737       Love this thing :)\n",
              "1106              Tassels :(\n",
              "1137               Lovely :)\n",
              "2190    Not for big girls :(\n",
              "Name: Title, dtype: object"
            ]
          },
          "metadata": {},
          "execution_count": 115
        }
      ]
    },
    {
      "cell_type": "code",
      "source": [
        "df_replaced_emoticons[df_replaced_emoticons['Emoticons in Title']]['Title'].head()"
      ],
      "metadata": {
        "id": "26gbpbGQgugS",
        "colab": {
          "base_uri": "https://localhost:8080/"
        },
        "outputId": "309cf54a-0bd9-4d9a-c913-dedc28d1cc2e"
      },
      "execution_count": null,
      "outputs": [
        {
          "output_type": "execute_result",
          "data": {
            "text/plain": [
              "737               Love this thing  Happy face or smiley \n",
              "1106              Tassels  Frown, sad, andry or pouting \n",
              "1137                       Lovely  Happy face or smiley \n",
              "2190    Not for big girls  Frown, sad, andry or pouting \n",
              "Name: Title, dtype: object"
            ]
          },
          "metadata": {},
          "execution_count": 116
        }
      ]
    },
    {
      "cell_type": "code",
      "source": [
        "df_removed_emoticons[df_removed_emoticons['Emoticons in Title']]['Title'].head()"
      ],
      "metadata": {
        "id": "orVQMNpCYUvJ",
        "colab": {
          "base_uri": "https://localhost:8080/"
        },
        "outputId": "9848ff76-19d0-4d63-ba59-98b3a141866e"
      },
      "execution_count": null,
      "outputs": [
        {
          "output_type": "execute_result",
          "data": {
            "text/plain": [
              "737       Love this thing  \n",
              "1106              Tassels  \n",
              "1137               Lovely  \n",
              "2190    Not for big girls  \n",
              "Name: Title, dtype: object"
            ]
          },
          "metadata": {},
          "execution_count": 117
        }
      ]
    },
    {
      "cell_type": "markdown",
      "source": [
        "# Save cleaned dataset"
      ],
      "metadata": {
        "id": "pP00Sm0AbpF0"
      }
    },
    {
      "cell_type": "markdown",
      "source": [
        "Fix whitespaces again"
      ],
      "metadata": {
        "id": "yp5-it9IxBjZ"
      }
    },
    {
      "cell_type": "code",
      "source": [
        "df['Review Text'] = df['Review Text'].apply(lambda x: ' '.join(x.split()))\n",
        "df_removed_emoticons['Review Text'] = df_removed_emoticons['Review Text'].apply(lambda x: ' '.join(x.split()))\n",
        "df_replaced_emoticons['Review Text'] = df_replaced_emoticons['Review Text'].apply(lambda x: ' '.join(x.split()))\n",
        "df['Title'] = df['Title'].apply(lambda x: ' '.join(x.split()))\n",
        "df_removed_emoticons['Title'] = df_removed_emoticons['Title'].apply(lambda x: ' '.join(x.split()))\n",
        "df_replaced_emoticons['Title'] = df_replaced_emoticons['Title'].apply(lambda x: ' '.join(x.split()))"
      ],
      "metadata": {
        "id": "33UgJcxdxAYD"
      },
      "execution_count": null,
      "outputs": []
    },
    {
      "cell_type": "markdown",
      "source": [
        "Remove duplicates again"
      ],
      "metadata": {
        "id": "I_nOfuOSh6N5"
      }
    },
    {
      "cell_type": "code",
      "source": [
        "print('df_removed_emoticons')\n",
        "print(len(df_removed_emoticons))\n",
        "df_removed_emoticons.drop_duplicates(subset='Review Text', inplace=True)\n",
        "print(len(df_removed_emoticons))\n",
        "print()\n",
        "print('df_replaced_emoticons')\n",
        "print(len(df_replaced_emoticons))\n",
        "df_replaced_emoticons.drop_duplicates(subset='Review Text', inplace=True)\n",
        "print(len(df_replaced_emoticons))\n",
        "print()\n",
        "print('df')\n",
        "print(len(df))\n",
        "df.drop_duplicates(subset='Review Text', inplace=True)\n",
        "print(len(df))"
      ],
      "metadata": {
        "id": "slZwkuX1hxMC",
        "colab": {
          "base_uri": "https://localhost:8080/"
        },
        "outputId": "e10aca8a-8fe0-4db5-cf11-95f7d53634e8"
      },
      "execution_count": null,
      "outputs": [
        {
          "output_type": "stream",
          "name": "stdout",
          "text": [
            "df_removed_emoticons\n",
            "2262\n",
            "2262\n",
            "\n",
            "df_replaced_emoticons\n",
            "2262\n",
            "2262\n",
            "\n",
            "df\n",
            "2262\n",
            "2262\n"
          ]
        }
      ]
    },
    {
      "cell_type": "code",
      "source": [
        "df.to_csv('train_clean_with_emoticons.csv', index=False)\n",
        "df_removed_emoticons.to_csv('train_clean_removed_emoticons.csv', index=False)\n",
        "df_replaced_emoticons.to_csv('train_clean_replaced_emoticons.csv', index=False)"
      ],
      "metadata": {
        "id": "k7w5JJNfboW5"
      },
      "execution_count": null,
      "outputs": []
    }
  ]
}