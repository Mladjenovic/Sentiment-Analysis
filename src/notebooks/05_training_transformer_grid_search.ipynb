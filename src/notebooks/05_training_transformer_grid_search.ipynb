{
  "nbformat": 4,
  "nbformat_minor": 0,
  "metadata": {
    "colab": {
      "name": "training_transformer_grid_search.ipynb",
      "provenance": [],
      "collapsed_sections": []
    },
    "kernelspec": {
      "name": "python3",
      "display_name": "Python 3"
    },
    "language_info": {
      "name": "python"
    },
    "accelerator": "GPU"
  },
  "cells": [
    {
      "cell_type": "markdown",
      "source": [
        "# Setup"
      ],
      "metadata": {
        "id": "hjyJdsL4GprB"
      }
    },
    {
      "cell_type": "markdown",
      "source": [
        "TODO:\n",
        "2. proveri na jednom modelu da li title poboljsava skor"
      ],
      "metadata": {
        "id": "0Ewu_QUgBp9h"
      }
    },
    {
      "cell_type": "code",
      "source": [
        "!pip install -q sentence-transformers;"
      ],
      "metadata": {
        "id": "u6H5D7hVCbBs"
      },
      "execution_count": null,
      "outputs": []
    },
    {
      "cell_type": "code",
      "source": [
        "from google.colab import drive\n",
        "drive.mount('/content/drive')"
      ],
      "metadata": {
        "colab": {
          "base_uri": "https://localhost:8080/"
        },
        "id": "sb3xV3bhvz_v",
        "outputId": "38e001c8-4374-4b32-ca33-5174b6bab5b7"
      },
      "execution_count": null,
      "outputs": [
        {
          "output_type": "stream",
          "name": "stdout",
          "text": [
            "Drive already mounted at /content/drive; to attempt to forcibly remount, call drive.mount(\"/content/drive\", force_remount=True).\n"
          ]
        }
      ]
    },
    {
      "cell_type": "code",
      "source": [
        "cd drive/MyDrive/Colab Notebooks/siap/datasets"
      ],
      "metadata": {
        "colab": {
          "base_uri": "https://localhost:8080/"
        },
        "id": "bNVXWNqUv2L8",
        "outputId": "fbe9aaba-5ddb-449c-a908-0c305a9123c6"
      },
      "execution_count": null,
      "outputs": [
        {
          "output_type": "stream",
          "name": "stdout",
          "text": [
            "[Errno 2] No such file or directory: 'drive/MyDrive/Colab Notebooks/siap/datasets'\n",
            "/content/drive/MyDrive/Colab Notebooks/siap/datasets\n"
          ]
        }
      ]
    },
    {
      "cell_type": "code",
      "source": [
        "from sklearn.metrics import classification_report\n",
        "from sentence_transformers import SentenceTransformer\n",
        "import tensorflow_hub as hub\n",
        "import pandas as pd\n",
        "from sklearn.metrics import f1_score\n",
        "from sklearn import svm, neighbors\n",
        "from enum import Enum\n",
        "\n",
        "import warnings\n",
        "warnings.filterwarnings(\"ignore\")"
      ],
      "metadata": {
        "id": "bqxFJYXu-UIt"
      },
      "execution_count": null,
      "outputs": []
    },
    {
      "cell_type": "code",
      "source": [
        "def get_classification_model(model_name):\n",
        "  if model_name == 'svm linear':\n",
        "    return svm.SVC(kernel='linear', random_state=1)\n",
        "  elif model_name == 'svm rbf':\n",
        "    return svm.SVC(kernel='rbf')\n",
        "  elif model_name == 'knn':\n",
        "    return neighbors.KNeighborsClassifier(n_neighbors=5)\n",
        "  else:\n",
        "    raise Exception('classification model not defined')\n",
        "\n",
        "def get_embedding_model(model_name):\n",
        "  return SentenceTransformer(model_name)"
      ],
      "metadata": {
        "id": "bZN6bgA-1JsU"
      },
      "execution_count": null,
      "outputs": []
    },
    {
      "cell_type": "markdown",
      "source": [
        "load models"
      ],
      "metadata": {
        "id": "Kj99eE8qGshF"
      }
    },
    {
      "cell_type": "code",
      "source": [
        "possible_train_datasets = ['train_clean_with_emoticons.csv', 'train_clean_removed_emoticons.csv', 'train_clean_replaced_emoticons.csv']\n",
        "#possible_embedding_models = ['nli-mpnet-base-v2', 'all-mpnet-base-v2']\n",
        "possible_embedding_models = ['nli-mpnet-base-v2']\n",
        "#possible_clf_models = ['svm linear', 'svm rbf', 'knn']\n",
        "possible_clf_models = ['svm linear']"
      ],
      "metadata": {
        "id": "kcXr8Yq_A680"
      },
      "execution_count": null,
      "outputs": []
    },
    {
      "cell_type": "code",
      "source": [
        "results = []\n",
        "\n",
        "for train_dataset in possible_train_datasets:\n",
        "  df_train = pd.read_csv(train_dataset)\n",
        "  df_validation = pd.read_csv(train_dataset.replace('train', 'validation'))\n",
        "  y_train = df_train['Rating']\n",
        "  y_validation = df_validation['Rating']\n",
        "\n",
        "  for embedding_model_name in possible_embedding_models: \n",
        "    embedding_model = get_embedding_model(embedding_model_name)\n",
        "    X_train = embedding_model.encode(list(df_train['Review Text'].values))\n",
        "    X_validation = embedding_model.encode(list(df_validation['Review Text'].values))\n",
        "    \n",
        "    for clf_model_name in possible_clf_models:\n",
        "      clf_model = get_classification_model(clf_model_name)\n",
        "      clf_model.fit(X_train, y_train)\n",
        "      \n",
        "      y_train_pred = clf_model.predict(X_train)\n",
        "      y_validation_pred = clf_model.predict(X_validation)\n",
        "\n",
        "      f1_train = f1_score(y_train, y_train_pred, average='micro')\n",
        "      f1_validation = f1_score(y_validation, y_validation_pred, average='micro')\n",
        "\n",
        "      results.append((train_dataset, embedding_model_name, clf_model_name, f1_train, f1_validation))\n"
      ],
      "metadata": {
        "id": "H2fXTIMSLs-7"
      },
      "execution_count": null,
      "outputs": []
    },
    {
      "cell_type": "code",
      "source": [
        "sorted_results = sorted(results, key=lambda x: x[4], reverse=True)\n",
        "for res in sorted_results:\n",
        "  print(res)"
      ],
      "metadata": {
        "colab": {
          "base_uri": "https://localhost:8080/"
        },
        "id": "VginBW9uvKq_",
        "outputId": "11bda41e-1449-48a9-c1c2-60354eb272ef"
      },
      "execution_count": null,
      "outputs": [
        {
          "output_type": "stream",
          "name": "stdout",
          "text": [
            "('train_clean_removed_emoticons.csv', 'nli-mpnet-base-v2', 'svm linear', 0.7082758239938166, 0.6737400530503979)\n",
            "('train_clean_with_emoticons.csv', 'nli-mpnet-base-v2', 'svm linear', 0.7086622867553689, 0.6732979664014147)\n",
            "('train_clean_replaced_emoticons.csv', 'nli-mpnet-base-v2', 'svm linear', 0.7080549881300724, 0.6724137931034483)\n"
          ]
        }
      ]
    }
  ]
}