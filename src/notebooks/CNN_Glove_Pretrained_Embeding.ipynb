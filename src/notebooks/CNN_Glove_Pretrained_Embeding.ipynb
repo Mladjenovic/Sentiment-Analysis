{
  "nbformat": 4,
  "nbformat_minor": 0,
  "metadata": {
    "colab": {
      "name": "CNN_Glove_Pretrained_Embeding.ipynb",
      "provenance": [],
      "collapsed_sections": []
    },
    "kernelspec": {
      "name": "python3",
      "display_name": "Python 3"
    },
    "language_info": {
      "name": "python"
    },
    "accelerator": "GPU"
  },
  "cells": [
    {
      "cell_type": "code",
      "execution_count": null,
      "metadata": {
        "id": "EiKsRla4n_OJ"
      },
      "outputs": [],
      "source": [
        "from google.colab import drive\n",
        "drive.mount('/content/drive')"
      ]
    },
    {
      "cell_type": "code",
      "source": [
        "cd drive/MyDrive/SIAP/dataset/clean"
      ],
      "metadata": {
        "id": "n9y6QaRUpYXO"
      },
      "execution_count": null,
      "outputs": []
    },
    {
      "cell_type": "code",
      "source": [
        "import numpy as np\n",
        "import pandas as pd\n",
        "from keras.layers import Conv1D, Dense, Embedding, GlobalMaxPooling1D, Input, MaxPooling1D\n",
        "\n",
        "from keras.models import Model\n",
        "from keras.preprocessing.sequence import pad_sequences\n",
        "from keras.preprocessing.text import Tokenizer\n",
        "from tensorflow.keras.utils import to_categorical\n",
        "\n",
        "from sklearn.metrics import classification_report, confusion_matrix\n",
        "from sklearn.metrics import f1_score\n",
        "\n",
        "from tensorflow.keras.optimizers import Adam\n",
        "\n",
        "MAX_SEQUENCE_LENGTH = 100\n",
        "MAX_VOCAB_SIZE = 15889 \n",
        "EMBEDDING_DIM = 300\n",
        "\n",
        "VALIDATION_SPLIT = 0.1\n",
        "BATCH_SIZE = 128\n",
        "EPOCHS = 5"
      ],
      "metadata": {
        "id": "d69Nom19pV5p"
      },
      "execution_count": 123,
      "outputs": []
    },
    {
      "cell_type": "code",
      "source": [
        "train = pd.read_csv('train_clean_removed_emoticons.csv')\n",
        "sentences = train[\"Review Text\"].fillna(\"DUMMY_VALUE\").values\n",
        "possible_labels = list(set(train[\"Rating\"]))\n",
        "y = train[\"Rating\"].values\n",
        "targets = to_categorical(y)"
      ],
      "metadata": {
        "id": "fMq2V0PZpZk1"
      },
      "execution_count": 124,
      "outputs": []
    },
    {
      "cell_type": "code",
      "source": [
        "import nltk\n",
        "nltk.download('stopwords')\n",
        "from nltk.corpus import stopwords\n",
        "from nltk.stem.lancaster import LancasterStemmer\n",
        "from nltk.stem.porter import PorterStemmer\n",
        "from nltk.tokenize import RegexpTokenizer\n",
        "#ps = LancasterStemmer()\n",
        "ps = PorterStemmer()\n",
        "\n",
        "tokenizer = RegexpTokenizer(r'\\w+')\n",
        "stop_words = set(stopwords.words('english'))\n",
        "stop_words.add('dress')\n",
        "stop_words.add('petite')\n",
        "stop_words.add('jacket')\n",
        "stop_words.add('blazer')\n",
        "\n",
        "def preprocessing(data):\n",
        "    txt = data.str.lower().str.cat(sep=' ')             #1\n",
        "    words = tokenizer.tokenize(txt)                     #2\n",
        "    words = [w for w in words if not w in stop_words]   #3\n",
        "    #words = [ps.stem(w) for w in words]                #4 with stemming we end up with even worse results \n",
        "    return words"
      ],
      "metadata": {
        "colab": {
          "base_uri": "https://localhost:8080/"
        },
        "id": "jvGiqK-bpa2w",
        "outputId": "89d10e0c-0f92-48ab-8223-40019a3291d7"
      },
      "execution_count": 125,
      "outputs": [
        {
          "output_type": "stream",
          "name": "stdout",
          "text": [
            "[nltk_data] Downloading package stopwords to /root/nltk_data...\n",
            "[nltk_data]   Package stopwords is already up-to-date!\n"
          ]
        }
      ]
    },
    {
      "cell_type": "code",
      "source": [
        "import re\n",
        "REPLACE_BY_SPACE_RE = re.compile('[/(){}\\[\\]\\|@,;]')\n",
        "BAD_SYMBOLS_RE = re.compile('[^0-9a-z #+_]')\n",
        "STOPWORDS = set(stopwords.words('english'))\n",
        "def clean_text(text):\n",
        "    \"\"\"\n",
        "        text: a string\n",
        "        return: modified initial string\n",
        "    \"\"\"\n",
        "    text = text.lower()                                                     # lowercase text\n",
        "    text = REPLACE_BY_SPACE_RE.sub(' ', text)                               # replace REPLACE_BY_SPACE_RE symbols by space in text. substitute the matched string in REPLACE_BY_SPACE_RE with space.\n",
        "    text = BAD_SYMBOLS_RE.sub('', text)                                     # remove symbols which are in BAD_SYMBOLS_RE from text. substitute the matched string in BAD_SYMBOLS_RE with nothing. \n",
        "    text = text.replace('x', '')\n",
        "    text = ' '.join(word for word in text.split() if word not in STOPWORDS) # remove stopwors from text\n",
        "    return text\n",
        "\n",
        "train['Cleaned_Review_Text'] = train['Review Text'].apply(clean_text)"
      ],
      "metadata": {
        "id": "qWY0sap5pcgi"
      },
      "execution_count": 126,
      "outputs": []
    },
    {
      "cell_type": "code",
      "source": [
        "new_str = [str(x) for x in train['Cleaned_Review_Text']]\n",
        "\n",
        "df = pd.DataFrame(new_str)\n",
        "temp = []\n",
        "for i in range(len(df)):\n",
        "  temp.append(preprocessing(df.iloc[i]))"
      ],
      "metadata": {
        "id": "B-DfItb_peEJ"
      },
      "execution_count": 127,
      "outputs": []
    },
    {
      "cell_type": "code",
      "source": [
        "tokenizer = Tokenizer(num_words=MAX_VOCAB_SIZE)\n",
        "tokenizer.fit_on_texts(temp)\n",
        "sequences = tokenizer.texts_to_sequences(temp)\n",
        "s = sorted(len(s) for s in sequences)\n",
        "word2idx = tokenizer.word_index\n",
        "\n",
        "data = pad_sequences(sequences, maxlen=MAX_SEQUENCE_LENGTH)\n",
        "\n",
        "num_words = min(MAX_VOCAB_SIZE, len(word2idx) + 1)"
      ],
      "metadata": {
        "id": "tQUA1n-WpfNi"
      },
      "execution_count": 128,
      "outputs": []
    },
    {
      "cell_type": "markdown",
      "source": [
        "# Loading pretrained embeding (Globe.6B.300d Stanford)"
      ],
      "metadata": {
        "id": "YgIuJtrZwWXS"
      }
    },
    {
      "cell_type": "code",
      "source": [
        "# load the whole embedding into memory\n",
        "embeddings_index = dict()\n",
        "f = open('glove.6B.300d.txt')\n",
        "\n",
        "for line in f:\n",
        "    values = line.split()\n",
        "    word = values[0]\n",
        "    coefs = np.asarray(values[1:], dtype='float32')\n",
        "    embeddings_index[word] = coefs\n",
        "\n",
        "f.close()\n",
        "print('Loaded %s word vectors.' % len(embeddings_index))"
      ],
      "metadata": {
        "colab": {
          "base_uri": "https://localhost:8080/"
        },
        "id": "Y7SS8sBUwVF8",
        "outputId": "c28bc77b-cdef-41e2-9ec4-32fb7fddda11"
      },
      "execution_count": 129,
      "outputs": [
        {
          "output_type": "stream",
          "name": "stdout",
          "text": [
            "Loaded 400000 word vectors.\n"
          ]
        }
      ]
    },
    {
      "cell_type": "code",
      "source": [
        "# create a weight matrix for words in training docs\n",
        "embedding_matrix = np.zeros((MAX_VOCAB_SIZE, EMBEDDING_DIM))\n",
        "\n",
        "for word, i in tokenizer.word_index.items():\n",
        "    embedding_vector = embeddings_index.get(word)\n",
        "    if embedding_vector is not None:\n",
        "        embedding_matrix[i] = embedding_vector"
      ],
      "metadata": {
        "id": "8KyIvfHPwtRg"
      },
      "execution_count": 130,
      "outputs": []
    },
    {
      "cell_type": "code",
      "source": [
        "embedding_layer = Embedding(MAX_VOCAB_SIZE, EMBEDDING_DIM, weights=[embedding_matrix], input_length=MAX_SEQUENCE_LENGTH, trainable=False)"
      ],
      "metadata": {
        "id": "XsbFDQAjpgY8"
      },
      "execution_count": 131,
      "outputs": []
    },
    {
      "cell_type": "code",
      "source": [
        "input_ = Input(shape=(MAX_SEQUENCE_LENGTH,))\n",
        "x = embedding_layer(input_)\n",
        "# --------------------------------------\n",
        "x = Conv1D(256, 3, activation=\"relu\")(x)\n",
        "x = MaxPooling1D(3)(x)\n",
        "x = Conv1D(128, 3, activation=\"relu\")(x)\n",
        "x = GlobalMaxPooling1D()(x)\n",
        "x = Dense(128, activation=\"relu\")(x)\n",
        "output = Dense(len(possible_labels) + 1, activation=\"softmax\")(x)\n",
        "\n",
        "model = Model(input_, output)\n",
        "model.compile(\n",
        "    loss=\"categorical_crossentropy\",\n",
        "    optimizer=Adam(learning_rate=0.01),\n",
        "    metrics=[\"accuracy\"],\n",
        ")"
      ],
      "metadata": {
        "id": "TqLwY6PCphwC"
      },
      "execution_count": 132,
      "outputs": []
    },
    {
      "cell_type": "code",
      "source": [
        "r = model.fit(\n",
        "    data,\n",
        "    targets,\n",
        "    batch_size=BATCH_SIZE,\n",
        "    epochs=EPOCHS,\n",
        "    validation_split=VALIDATION_SPLIT,\n",
        ")"
      ],
      "metadata": {
        "colab": {
          "base_uri": "https://localhost:8080/"
        },
        "id": "3E2qGUKBpi7J",
        "outputId": "6b992cea-1551-4f25-c030-75279b3b2170"
      },
      "execution_count": 133,
      "outputs": [
        {
          "output_type": "stream",
          "name": "stdout",
          "text": [
            "Epoch 1/5\n",
            "128/128 [==============================] - 4s 22ms/step - loss: 1.2222 - accuracy: 0.5478 - val_loss: 1.0150 - val_accuracy: 0.5922\n",
            "Epoch 2/5\n",
            "128/128 [==============================] - 2s 19ms/step - loss: 0.9746 - accuracy: 0.6001 - val_loss: 0.9555 - val_accuracy: 0.6104\n",
            "Epoch 3/5\n",
            "128/128 [==============================] - 3s 20ms/step - loss: 0.9095 - accuracy: 0.6244 - val_loss: 0.9460 - val_accuracy: 0.6164\n",
            "Epoch 4/5\n",
            "128/128 [==============================] - 2s 19ms/step - loss: 0.8389 - accuracy: 0.6520 - val_loss: 0.9761 - val_accuracy: 0.6015\n",
            "Epoch 5/5\n",
            "128/128 [==============================] - 2s 19ms/step - loss: 0.7709 - accuracy: 0.6814 - val_loss: 0.9833 - val_accuracy: 0.6159\n"
          ]
        }
      ]
    },
    {
      "cell_type": "code",
      "source": [
        "p = model.predict(data)\n",
        "y_pred = []\n",
        "for prediction in p:\n",
        "    y_pred.append(np.argmax(prediction, axis=0))"
      ],
      "metadata": {
        "id": "pz4u9_lkpkKH"
      },
      "execution_count": 134,
      "outputs": []
    },
    {
      "cell_type": "code",
      "source": [
        "print(confusion_matrix(y, y_pred))"
      ],
      "metadata": {
        "colab": {
          "base_uri": "https://localhost:8080/"
        },
        "id": "cpqZyNRXpmC_",
        "outputId": "5b46270d-417d-4702-f267-cc2f0083e470"
      },
      "execution_count": 135,
      "outputs": [
        {
          "output_type": "stream",
          "name": "stdout",
          "text": [
            "[[ 134  369  106   12   36]\n",
            " [  20  618  451   66   82]\n",
            " [   3  310 1369  304  275]\n",
            " [   1   47  521 1421 1930]\n",
            " [   2   22   99  269 9646]]\n"
          ]
        }
      ]
    },
    {
      "cell_type": "code",
      "source": [
        "print(classification_report(y, y_pred))"
      ],
      "metadata": {
        "colab": {
          "base_uri": "https://localhost:8080/"
        },
        "id": "zAaJ_6r6pnN8",
        "outputId": "e6dea3a8-7a9e-4552-9304-330308c2ea05"
      },
      "execution_count": 136,
      "outputs": [
        {
          "output_type": "stream",
          "name": "stdout",
          "text": [
            "              precision    recall  f1-score   support\n",
            "\n",
            "           1       0.84      0.20      0.33       657\n",
            "           2       0.45      0.50      0.47      1237\n",
            "           3       0.54      0.61      0.57      2261\n",
            "           4       0.69      0.36      0.47      3920\n",
            "           5       0.81      0.96      0.88     10038\n",
            "\n",
            "    accuracy                           0.73     18113\n",
            "   macro avg       0.66      0.53      0.54     18113\n",
            "weighted avg       0.72      0.73      0.70     18113\n",
            "\n"
          ]
        }
      ]
    },
    {
      "cell_type": "code",
      "source": [
        "print(f1_score(y, y_pred, average=\"micro\"))"
      ],
      "metadata": {
        "colab": {
          "base_uri": "https://localhost:8080/"
        },
        "id": "lSesnPPwpoR_",
        "outputId": "cb289d5c-09cb-493e-9f83-8836253db453"
      },
      "execution_count": 137,
      "outputs": [
        {
          "output_type": "stream",
          "name": "stdout",
          "text": [
            "0.728095842764865\n"
          ]
        }
      ]
    },
    {
      "cell_type": "code",
      "source": [
        "import pandas as pd\n",
        "import tensorflow as tf\n",
        "from tensorflow import keras\n",
        "from sklearn.model_selection import train_test_split\n",
        "import numpy as np\n",
        "import matplotlib.pyplot as plt\n",
        "\n",
        "loss_train = r.history['loss']\n",
        "loss_val = r.history['val_loss']\n",
        "epochs = range(1,6)\n",
        "plt.plot(epochs, loss_train, 'g', label='Training loss')\n",
        "plt.plot(epochs, loss_val, 'b', label='validation loss')\n",
        "plt.title('Training and Validation loss')\n",
        "plt.xlabel('Epochs')\n",
        "plt.ylabel('Loss')\n",
        "plt.legend()\n",
        "plt.show()"
      ],
      "metadata": {
        "colab": {
          "base_uri": "https://localhost:8080/",
          "height": 295
        },
        "id": "K7lSU9dVpprm",
        "outputId": "24215e69-58a6-49b9-eba6-0d641553b0f3"
      },
      "execution_count": 138,
      "outputs": [
        {
          "output_type": "display_data",
          "data": {
            "text/plain": [
              "<Figure size 432x288 with 1 Axes>"
            ],
            "image/png": "[encoded data removed]"
          },
          "metadata": {
            "needs_background": "light"
          }
        }
      ]
    },
    {
      "cell_type": "code",
      "source": [
        "test = pd.read_csv('test_clean_removed_emoticons.csv')\n",
        "test_text = test[\"Review Text\"].values\n",
        "test_text = [str(x).lower() for x in test_text]\n",
        "\n",
        "sequences = tokenizer.texts_to_sequences(test_text)\n",
        "data = pad_sequences(sequences, maxlen=MAX_SEQUENCE_LENGTH)\n",
        "\n",
        "y_test = test[\"Rating\"].values"
      ],
      "metadata": {
        "id": "OH_Qq8hmprWQ"
      },
      "execution_count": 139,
      "outputs": []
    },
    {
      "cell_type": "code",
      "source": [
        "p = model.predict(data)\n",
        "y_pred = []\n",
        "for prediction in p:\n",
        "    y_pred.append(np.argmax(prediction, axis=0))"
      ],
      "metadata": {
        "id": "RY8NZ45wpso1"
      },
      "execution_count": 140,
      "outputs": []
    },
    {
      "cell_type": "code",
      "source": [
        "print(confusion_matrix(y_test, y_pred))"
      ],
      "metadata": {
        "colab": {
          "base_uri": "https://localhost:8080/"
        },
        "id": "Di7z9N9mptca",
        "outputId": "09e64af2-e34f-4054-ca80-e87ba680cb67"
      },
      "execution_count": 141,
      "outputs": [
        {
          "output_type": "stream",
          "name": "stdout",
          "text": [
            "[[   7   26   24   11   14]\n",
            " [   3   43   64   12   33]\n",
            " [   2   45  103   44   86]\n",
            " [   1   11   78   94  309]\n",
            " [   0   10   51   84 1108]]\n"
          ]
        }
      ]
    },
    {
      "cell_type": "code",
      "source": [
        "print(classification_report(y_test, y_pred))"
      ],
      "metadata": {
        "colab": {
          "base_uri": "https://localhost:8080/"
        },
        "id": "sxjreBpKpuvX",
        "outputId": "2cf51ee6-6c55-47c8-9aa1-553f2e2aa1c7"
      },
      "execution_count": 142,
      "outputs": [
        {
          "output_type": "stream",
          "name": "stdout",
          "text": [
            "              precision    recall  f1-score   support\n",
            "\n",
            "           1       0.54      0.09      0.15        82\n",
            "           2       0.32      0.28      0.30       155\n",
            "           3       0.32      0.37      0.34       280\n",
            "           4       0.38      0.19      0.25       493\n",
            "           5       0.71      0.88      0.79      1253\n",
            "\n",
            "    accuracy                           0.60      2263\n",
            "   macro avg       0.46      0.36      0.37      2263\n",
            "weighted avg       0.56      0.60      0.56      2263\n",
            "\n"
          ]
        }
      ]
    },
    {
      "cell_type": "code",
      "source": [
        "print(f1_score(y_test, y_pred, average=\"micro\"))"
      ],
      "metadata": {
        "colab": {
          "base_uri": "https://localhost:8080/"
        },
        "id": "ZzVU55H6pv9B",
        "outputId": "a06839ba-a904-4155-af54-eeee0197ede0"
      },
      "execution_count": 146,
      "outputs": [
        {
          "output_type": "stream",
          "name": "stdout",
          "text": [
            "0.5987627043747238\n"
          ]
        }
      ]
    }
  ]
}